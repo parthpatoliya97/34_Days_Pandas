{
 "cells": [
  {
   "cell_type": "code",
   "execution_count": 1,
   "id": "b7e34acc",
   "metadata": {},
   "outputs": [],
   "source": [
    "import pandas as pd\n",
    "import json\n",
    "import requests\n",
    "from pandas import json_normalize"
   ]
  },
  {
   "cell_type": "code",
   "execution_count": 2,
   "id": "36f61543",
   "metadata": {},
   "outputs": [
    {
     "data": {
      "text/html": [
       "<div>\n",
       "<style scoped>\n",
       "    .dataframe tbody tr th:only-of-type {\n",
       "        vertical-align: middle;\n",
       "    }\n",
       "\n",
       "    .dataframe tbody tr th {\n",
       "        vertical-align: top;\n",
       "    }\n",
       "\n",
       "    .dataframe thead th {\n",
       "        text-align: right;\n",
       "    }\n",
       "</style>\n",
       "<table border=\"1\" class=\"dataframe\">\n",
       "  <thead>\n",
       "    <tr style=\"text-align: right;\">\n",
       "      <th></th>\n",
       "      <th>athlete</th>\n",
       "      <th>year</th>\n",
       "      <th>time</th>\n",
       "    </tr>\n",
       "  </thead>\n",
       "  <tbody>\n",
       "    <tr>\n",
       "      <th>0</th>\n",
       "      <td>Jim Walmsley</td>\n",
       "      <td>2019</td>\n",
       "      <td>14:09:28</td>\n",
       "    </tr>\n",
       "    <tr>\n",
       "      <th>1</th>\n",
       "      <td>Courtney Dauwalter</td>\n",
       "      <td>2023</td>\n",
       "      <td>15:29:34</td>\n",
       "    </tr>\n",
       "    <tr>\n",
       "      <th>2</th>\n",
       "      <td>Killian Jornet</td>\n",
       "      <td>2022</td>\n",
       "      <td>None</td>\n",
       "    </tr>\n",
       "  </tbody>\n",
       "</table>\n",
       "</div>"
      ],
      "text/plain": [
       "              athlete  year      time\n",
       "0        Jim Walmsley  2019  14:09:28\n",
       "1  Courtney Dauwalter  2023  15:29:34\n",
       "2      Killian Jornet  2022      None"
      ]
     },
     "execution_count": 2,
     "metadata": {},
     "output_type": "execute_result"
    }
   ],
   "source": [
    "# Sample JSON data as a string\n",
    "data_json = '''\n",
    "[\n",
    "  {\n",
    "    \"athlete\": \"Jim Walmsley\",\n",
    "    \"year\": 2019,\n",
    "    \"time\": \"14:09:28\"\n",
    "  },\n",
    "  {\n",
    "    \"athlete\": \"Courtney Dauwalter\",\n",
    "    \"year\": 2023,\n",
    "    \"time\": \"15:29:34\"\n",
    "  },\n",
    "  {\n",
    "    \"athlete\": \"Killian Jornet\",\n",
    "    \"year\": 2022,\n",
    "    \"time\": null\n",
    "  }\n",
    "]\n",
    "'''\n",
    "data = json.loads(data_json)\n",
    "df = pd.DataFrame(data)\n",
    "df"
   ]
  },
  {
   "cell_type": "code",
   "execution_count": 3,
   "id": "98d50c0c",
   "metadata": {},
   "outputs": [],
   "source": [
    "df.to_json(\"western_states_results.json\", orient=\"records\", indent=2)"
   ]
  },
  {
   "cell_type": "code",
   "execution_count": 4,
   "id": "ab287f14",
   "metadata": {},
   "outputs": [
    {
     "data": {
      "text/html": [
       "<div>\n",
       "<style scoped>\n",
       "    .dataframe tbody tr th:only-of-type {\n",
       "        vertical-align: middle;\n",
       "    }\n",
       "\n",
       "    .dataframe tbody tr th {\n",
       "        vertical-align: top;\n",
       "    }\n",
       "\n",
       "    .dataframe thead th {\n",
       "        text-align: right;\n",
       "    }\n",
       "</style>\n",
       "<table border=\"1\" class=\"dataframe\">\n",
       "  <thead>\n",
       "    <tr style=\"text-align: right;\">\n",
       "      <th></th>\n",
       "      <th>athlete</th>\n",
       "      <th>year</th>\n",
       "      <th>time</th>\n",
       "    </tr>\n",
       "  </thead>\n",
       "  <tbody>\n",
       "    <tr>\n",
       "      <th>0</th>\n",
       "      <td>Jim Walmsley</td>\n",
       "      <td>2019</td>\n",
       "      <td>14:09:28</td>\n",
       "    </tr>\n",
       "    <tr>\n",
       "      <th>1</th>\n",
       "      <td>Courtney Dauwalter</td>\n",
       "      <td>2023</td>\n",
       "      <td>15:29:34</td>\n",
       "    </tr>\n",
       "    <tr>\n",
       "      <th>2</th>\n",
       "      <td>Killian Jornet</td>\n",
       "      <td>2022</td>\n",
       "      <td>None</td>\n",
       "    </tr>\n",
       "  </tbody>\n",
       "</table>\n",
       "</div>"
      ],
      "text/plain": [
       "              athlete  year      time\n",
       "0        Jim Walmsley  2019  14:09:28\n",
       "1  Courtney Dauwalter  2023  15:29:34\n",
       "2      Killian Jornet  2022      None"
      ]
     },
     "execution_count": 4,
     "metadata": {},
     "output_type": "execute_result"
    }
   ],
   "source": [
    "df = pd.read_json('western_states_results.json')\n",
    "df"
   ]
  },
  {
   "cell_type": "code",
   "execution_count": 5,
   "id": "852fcbae",
   "metadata": {},
   "outputs": [
    {
     "name": "stdout",
     "output_type": "stream",
     "text": [
      "[{\"name\":\"Killian\",\"laps\":48},{\"name\":\"Bob\",\"laps\":40}]\n"
     ]
    }
   ],
   "source": [
    "df = pd.DataFrame({\n",
    "    \"name\": [\"Killian\", \"Bob\"],\n",
    "    \"laps\": [48, 40]\n",
    "})\n",
    "json_str = df.to_json(orient=\"records\")\n",
    "print(json_str)"
   ]
  },
  {
   "cell_type": "code",
   "execution_count": 6,
   "id": "bb8ac71d",
   "metadata": {},
   "outputs": [
    {
     "name": "stdout",
     "output_type": "stream",
     "text": [
      "{\"name\":{\"0\":\"Killian\",\"1\":\"Bob\"},\"laps\":{\"0\":48,\"1\":40}}\n"
     ]
    }
   ],
   "source": [
    "json_str = df.to_json(orient=\"columns\")\n",
    "print(json_str)"
   ]
  },
  {
   "cell_type": "code",
   "execution_count": 7,
   "id": "a4eb94dc",
   "metadata": {},
   "outputs": [
    {
     "name": "stdout",
     "output_type": "stream",
     "text": [
      "        athlete years\n",
      "0  Jim Walmsley  2016\n",
      "0  Jim Walmsley  2018\n",
      "0  Jim Walmsley  2019\n"
     ]
    }
   ],
   "source": [
    "data = [\n",
    "  {\n",
    "    \"athlete\": \"Jim Walmsley\",\n",
    "    \"years\": [2016, 2018, 2019]\n",
    "  }\n",
    "]\n",
    "df = pd.DataFrame(data)\n",
    "df_exploded = df.explode('years')\n",
    "print(df_exploded)"
   ]
  },
  {
   "cell_type": "code",
   "execution_count": null,
   "id": "b24ae86e",
   "metadata": {},
   "outputs": [],
   "source": []
  }
 ],
 "metadata": {
  "kernelspec": {
   "display_name": ".venv",
   "language": "python",
   "name": "python3"
  },
  "language_info": {
   "codemirror_mode": {
    "name": "ipython",
    "version": 3
   },
   "file_extension": ".py",
   "mimetype": "text/x-python",
   "name": "python",
   "nbconvert_exporter": "python",
   "pygments_lexer": "ipython3",
   "version": "3.13.7"
  }
 },
 "nbformat": 4,
 "nbformat_minor": 5
}
