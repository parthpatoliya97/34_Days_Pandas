{
 "cells": [
  {
   "cell_type": "code",
   "execution_count": 1,
   "id": "4db549e2",
   "metadata": {},
   "outputs": [],
   "source": [
    "import pandas as pd"
   ]
  },
  {
   "cell_type": "code",
   "execution_count": 2,
   "id": "9bee12e9",
   "metadata": {},
   "outputs": [],
   "source": [
    "data = {\n",
    "    \"merchant_id\": ['qtz-837-mnb-294', 'vxl-512-ghj-763', 'prk-924-zxc-105', 'mfs-376-lkd-842', 'jdn-689-qwe-417'],\n",
    "    \"merchant_state\": [\"CA\", \"NY\", \"TX\", \"FL\", \"WA\"],\n",
    "    \"merchant_city\": [\"Los Angeles\", \"New York\", \"Dallas\", \"Tampa\", \"Seattle\"],\n",
    "    \"merchant_volume\": [50000, 75000, 30000, 90000, 45000]\n",
    "}\n",
    "df=pd.DataFrame(data)"
   ]
  },
  {
   "cell_type": "code",
   "execution_count": 3,
   "id": "460d796c",
   "metadata": {},
   "outputs": [],
   "source": [
    "df.set_index('merchant_id',inplace=True)"
   ]
  },
  {
   "cell_type": "code",
   "execution_count": 4,
   "id": "ae5c51ad",
   "metadata": {},
   "outputs": [
    {
     "data": {
      "text/html": [
       "<div>\n",
       "<style scoped>\n",
       "    .dataframe tbody tr th:only-of-type {\n",
       "        vertical-align: middle;\n",
       "    }\n",
       "\n",
       "    .dataframe tbody tr th {\n",
       "        vertical-align: top;\n",
       "    }\n",
       "\n",
       "    .dataframe thead th {\n",
       "        text-align: right;\n",
       "    }\n",
       "</style>\n",
       "<table border=\"1\" class=\"dataframe\">\n",
       "  <thead>\n",
       "    <tr style=\"text-align: right;\">\n",
       "      <th></th>\n",
       "      <th>merchant_state</th>\n",
       "      <th>merchant_city</th>\n",
       "      <th>merchant_volume</th>\n",
       "    </tr>\n",
       "    <tr>\n",
       "      <th>merchant_id</th>\n",
       "      <th></th>\n",
       "      <th></th>\n",
       "      <th></th>\n",
       "    </tr>\n",
       "  </thead>\n",
       "  <tbody>\n",
       "    <tr>\n",
       "      <th>qtz-837-mnb-294</th>\n",
       "      <td>CA</td>\n",
       "      <td>Los Angeles</td>\n",
       "      <td>50000</td>\n",
       "    </tr>\n",
       "    <tr>\n",
       "      <th>vxl-512-ghj-763</th>\n",
       "      <td>NY</td>\n",
       "      <td>New York</td>\n",
       "      <td>75000</td>\n",
       "    </tr>\n",
       "    <tr>\n",
       "      <th>prk-924-zxc-105</th>\n",
       "      <td>TX</td>\n",
       "      <td>Dallas</td>\n",
       "      <td>30000</td>\n",
       "    </tr>\n",
       "    <tr>\n",
       "      <th>mfs-376-lkd-842</th>\n",
       "      <td>FL</td>\n",
       "      <td>Tampa</td>\n",
       "      <td>90000</td>\n",
       "    </tr>\n",
       "    <tr>\n",
       "      <th>jdn-689-qwe-417</th>\n",
       "      <td>WA</td>\n",
       "      <td>Seattle</td>\n",
       "      <td>45000</td>\n",
       "    </tr>\n",
       "  </tbody>\n",
       "</table>\n",
       "</div>"
      ],
      "text/plain": [
       "                merchant_state merchant_city  merchant_volume\n",
       "merchant_id                                                  \n",
       "qtz-837-mnb-294             CA   Los Angeles            50000\n",
       "vxl-512-ghj-763             NY      New York            75000\n",
       "prk-924-zxc-105             TX        Dallas            30000\n",
       "mfs-376-lkd-842             FL         Tampa            90000\n",
       "jdn-689-qwe-417             WA       Seattle            45000"
      ]
     },
     "execution_count": 4,
     "metadata": {},
     "output_type": "execute_result"
    }
   ],
   "source": [
    "df.head()"
   ]
  },
  {
   "cell_type": "code",
   "execution_count": 5,
   "id": "268889ae",
   "metadata": {},
   "outputs": [
    {
     "data": {
      "text/plain": [
       "merchant_state              CA\n",
       "merchant_city      Los Angeles\n",
       "merchant_volume          50000\n",
       "Name: qtz-837-mnb-294, dtype: object"
      ]
     },
     "execution_count": 5,
     "metadata": {},
     "output_type": "execute_result"
    }
   ],
   "source": [
    "df.loc['qtz-837-mnb-294']"
   ]
  },
  {
   "cell_type": "code",
   "execution_count": 6,
   "id": "4c88d6d9",
   "metadata": {},
   "outputs": [
    {
     "data": {
      "text/html": [
       "<div>\n",
       "<style scoped>\n",
       "    .dataframe tbody tr th:only-of-type {\n",
       "        vertical-align: middle;\n",
       "    }\n",
       "\n",
       "    .dataframe tbody tr th {\n",
       "        vertical-align: top;\n",
       "    }\n",
       "\n",
       "    .dataframe thead th {\n",
       "        text-align: right;\n",
       "    }\n",
       "</style>\n",
       "<table border=\"1\" class=\"dataframe\">\n",
       "  <thead>\n",
       "    <tr style=\"text-align: right;\">\n",
       "      <th></th>\n",
       "      <th>merchant_state</th>\n",
       "      <th>merchant_city</th>\n",
       "      <th>merchant_volume</th>\n",
       "    </tr>\n",
       "    <tr>\n",
       "      <th>merchant_id</th>\n",
       "      <th></th>\n",
       "      <th></th>\n",
       "      <th></th>\n",
       "    </tr>\n",
       "  </thead>\n",
       "  <tbody>\n",
       "    <tr>\n",
       "      <th>qtz-837-mnb-294</th>\n",
       "      <td>CA</td>\n",
       "      <td>Los Angeles</td>\n",
       "      <td>50000</td>\n",
       "    </tr>\n",
       "    <tr>\n",
       "      <th>vxl-512-ghj-763</th>\n",
       "      <td>NY</td>\n",
       "      <td>New York</td>\n",
       "      <td>75000</td>\n",
       "    </tr>\n",
       "  </tbody>\n",
       "</table>\n",
       "</div>"
      ],
      "text/plain": [
       "                merchant_state merchant_city  merchant_volume\n",
       "merchant_id                                                  \n",
       "qtz-837-mnb-294             CA   Los Angeles            50000\n",
       "vxl-512-ghj-763             NY      New York            75000"
      ]
     },
     "execution_count": 6,
     "metadata": {},
     "output_type": "execute_result"
    }
   ],
   "source": [
    "df.loc[['qtz-837-mnb-294','vxl-512-ghj-763']]"
   ]
  },
  {
   "cell_type": "code",
   "execution_count": 8,
   "id": "0ce23ca7",
   "metadata": {},
   "outputs": [
    {
     "data": {
      "text/plain": [
       "merchant_state          NY\n",
       "merchant_city     New York\n",
       "Name: vxl-512-ghj-763, dtype: object"
      ]
     },
     "execution_count": 8,
     "metadata": {},
     "output_type": "execute_result"
    }
   ],
   "source": [
    "df.loc['vxl-512-ghj-763',['merchant_state','merchant_city']]"
   ]
  },
  {
   "cell_type": "code",
   "execution_count": 10,
   "id": "fcb9620b",
   "metadata": {},
   "outputs": [
    {
     "data": {
      "text/plain": [
       "merchant_state    NY\n",
       "Name: vxl-512-ghj-763, dtype: object"
      ]
     },
     "execution_count": 10,
     "metadata": {},
     "output_type": "execute_result"
    }
   ],
   "source": [
    "df.loc['vxl-512-ghj-763',['merchant_state']]"
   ]
  },
  {
   "cell_type": "code",
   "execution_count": 11,
   "id": "5e16f1b5",
   "metadata": {},
   "outputs": [
    {
     "data": {
      "text/plain": [
       "'NY'"
      ]
     },
     "execution_count": 11,
     "metadata": {},
     "output_type": "execute_result"
    }
   ],
   "source": [
    "df.loc['vxl-512-ghj-763','merchant_state']"
   ]
  },
  {
   "cell_type": "code",
   "execution_count": 13,
   "id": "659a6dcb",
   "metadata": {},
   "outputs": [
    {
     "data": {
      "text/html": [
       "<div>\n",
       "<style scoped>\n",
       "    .dataframe tbody tr th:only-of-type {\n",
       "        vertical-align: middle;\n",
       "    }\n",
       "\n",
       "    .dataframe tbody tr th {\n",
       "        vertical-align: top;\n",
       "    }\n",
       "\n",
       "    .dataframe thead th {\n",
       "        text-align: right;\n",
       "    }\n",
       "</style>\n",
       "<table border=\"1\" class=\"dataframe\">\n",
       "  <thead>\n",
       "    <tr style=\"text-align: right;\">\n",
       "      <th></th>\n",
       "      <th>merchant_state</th>\n",
       "      <th>merchant_city</th>\n",
       "    </tr>\n",
       "    <tr>\n",
       "      <th>merchant_id</th>\n",
       "      <th></th>\n",
       "      <th></th>\n",
       "    </tr>\n",
       "  </thead>\n",
       "  <tbody>\n",
       "    <tr>\n",
       "      <th>qtz-837-mnb-294</th>\n",
       "      <td>CA</td>\n",
       "      <td>Los Angeles</td>\n",
       "    </tr>\n",
       "    <tr>\n",
       "      <th>vxl-512-ghj-763</th>\n",
       "      <td>NY</td>\n",
       "      <td>New York</td>\n",
       "    </tr>\n",
       "  </tbody>\n",
       "</table>\n",
       "</div>"
      ],
      "text/plain": [
       "                merchant_state merchant_city\n",
       "merchant_id                                 \n",
       "qtz-837-mnb-294             CA   Los Angeles\n",
       "vxl-512-ghj-763             NY      New York"
      ]
     },
     "execution_count": 13,
     "metadata": {},
     "output_type": "execute_result"
    }
   ],
   "source": [
    "df.loc[['qtz-837-mnb-294','vxl-512-ghj-763'],['merchant_state','merchant_city']]"
   ]
  },
  {
   "cell_type": "code",
   "execution_count": null,
   "id": "f7d2c4b8",
   "metadata": {},
   "outputs": [
    {
     "data": {
      "text/html": [
       "<div>\n",
       "<style scoped>\n",
       "    .dataframe tbody tr th:only-of-type {\n",
       "        vertical-align: middle;\n",
       "    }\n",
       "\n",
       "    .dataframe tbody tr th {\n",
       "        vertical-align: top;\n",
       "    }\n",
       "\n",
       "    .dataframe thead th {\n",
       "        text-align: right;\n",
       "    }\n",
       "</style>\n",
       "<table border=\"1\" class=\"dataframe\">\n",
       "  <thead>\n",
       "    <tr style=\"text-align: right;\">\n",
       "      <th></th>\n",
       "      <th>merchant_state</th>\n",
       "      <th>merchant_city</th>\n",
       "      <th>merchant_volume</th>\n",
       "    </tr>\n",
       "    <tr>\n",
       "      <th>merchant_id</th>\n",
       "      <th></th>\n",
       "      <th></th>\n",
       "      <th></th>\n",
       "    </tr>\n",
       "  </thead>\n",
       "  <tbody>\n",
       "    <tr>\n",
       "      <th>mfs-376-lkd-842</th>\n",
       "      <td>FL</td>\n",
       "      <td>Tampa</td>\n",
       "      <td>90000</td>\n",
       "    </tr>\n",
       "  </tbody>\n",
       "</table>\n",
       "</div>"
      ],
      "text/plain": [
       "                merchant_state merchant_city  merchant_volume\n",
       "merchant_id                                                  \n",
       "mfs-376-lkd-842             FL         Tampa            90000"
      ]
     },
     "execution_count": 14,
     "metadata": {},
     "output_type": "execute_result"
    }
   ],
   "source": [
    "# filtering the data\n",
    "df.loc[df['merchant_state']=='FL']"
   ]
  },
  {
   "cell_type": "code",
   "execution_count": 15,
   "id": "b1c93e99",
   "metadata": {},
   "outputs": [
    {
     "data": {
      "text/html": [
       "<div>\n",
       "<style scoped>\n",
       "    .dataframe tbody tr th:only-of-type {\n",
       "        vertical-align: middle;\n",
       "    }\n",
       "\n",
       "    .dataframe tbody tr th {\n",
       "        vertical-align: top;\n",
       "    }\n",
       "\n",
       "    .dataframe thead th {\n",
       "        text-align: right;\n",
       "    }\n",
       "</style>\n",
       "<table border=\"1\" class=\"dataframe\">\n",
       "  <thead>\n",
       "    <tr style=\"text-align: right;\">\n",
       "      <th></th>\n",
       "      <th>merchant_state</th>\n",
       "      <th>merchant_city</th>\n",
       "      <th>merchant_volume</th>\n",
       "    </tr>\n",
       "    <tr>\n",
       "      <th>merchant_id</th>\n",
       "      <th></th>\n",
       "      <th></th>\n",
       "      <th></th>\n",
       "    </tr>\n",
       "  </thead>\n",
       "  <tbody>\n",
       "    <tr>\n",
       "      <th>qtz-837-mnb-294</th>\n",
       "      <td>CA</td>\n",
       "      <td>Los Angeles</td>\n",
       "      <td>50000</td>\n",
       "    </tr>\n",
       "    <tr>\n",
       "      <th>vxl-512-ghj-763</th>\n",
       "      <td>NY</td>\n",
       "      <td>New York</td>\n",
       "      <td>75000</td>\n",
       "    </tr>\n",
       "    <tr>\n",
       "      <th>mfs-376-lkd-842</th>\n",
       "      <td>FL</td>\n",
       "      <td>Tampa</td>\n",
       "      <td>90000</td>\n",
       "    </tr>\n",
       "  </tbody>\n",
       "</table>\n",
       "</div>"
      ],
      "text/plain": [
       "                merchant_state merchant_city  merchant_volume\n",
       "merchant_id                                                  \n",
       "qtz-837-mnb-294             CA   Los Angeles            50000\n",
       "vxl-512-ghj-763             NY      New York            75000\n",
       "mfs-376-lkd-842             FL         Tampa            90000"
      ]
     },
     "execution_count": 15,
     "metadata": {},
     "output_type": "execute_result"
    }
   ],
   "source": [
    "df.loc[df['merchant_volume']>=50000]"
   ]
  },
  {
   "cell_type": "code",
   "execution_count": 16,
   "id": "1ddf478c",
   "metadata": {},
   "outputs": [
    {
     "data": {
      "text/html": [
       "<div>\n",
       "<style scoped>\n",
       "    .dataframe tbody tr th:only-of-type {\n",
       "        vertical-align: middle;\n",
       "    }\n",
       "\n",
       "    .dataframe tbody tr th {\n",
       "        vertical-align: top;\n",
       "    }\n",
       "\n",
       "    .dataframe thead th {\n",
       "        text-align: right;\n",
       "    }\n",
       "</style>\n",
       "<table border=\"1\" class=\"dataframe\">\n",
       "  <thead>\n",
       "    <tr style=\"text-align: right;\">\n",
       "      <th></th>\n",
       "      <th>merchant_city</th>\n",
       "      <th>merchant_volume</th>\n",
       "    </tr>\n",
       "    <tr>\n",
       "      <th>merchant_id</th>\n",
       "      <th></th>\n",
       "      <th></th>\n",
       "    </tr>\n",
       "  </thead>\n",
       "  <tbody>\n",
       "    <tr>\n",
       "      <th>qtz-837-mnb-294</th>\n",
       "      <td>Los Angeles</td>\n",
       "      <td>50000</td>\n",
       "    </tr>\n",
       "    <tr>\n",
       "      <th>vxl-512-ghj-763</th>\n",
       "      <td>New York</td>\n",
       "      <td>75000</td>\n",
       "    </tr>\n",
       "    <tr>\n",
       "      <th>mfs-376-lkd-842</th>\n",
       "      <td>Tampa</td>\n",
       "      <td>90000</td>\n",
       "    </tr>\n",
       "  </tbody>\n",
       "</table>\n",
       "</div>"
      ],
      "text/plain": [
       "                merchant_city  merchant_volume\n",
       "merchant_id                                   \n",
       "qtz-837-mnb-294   Los Angeles            50000\n",
       "vxl-512-ghj-763      New York            75000\n",
       "mfs-376-lkd-842         Tampa            90000"
      ]
     },
     "execution_count": 16,
     "metadata": {},
     "output_type": "execute_result"
    }
   ],
   "source": [
    "df.loc[df['merchant_volume']>=50000,['merchant_city','merchant_volume']]"
   ]
  },
  {
   "cell_type": "code",
   "execution_count": null,
   "id": "4a6d3443",
   "metadata": {},
   "outputs": [
    {
     "data": {
      "text/html": [
       "<div>\n",
       "<style scoped>\n",
       "    .dataframe tbody tr th:only-of-type {\n",
       "        vertical-align: middle;\n",
       "    }\n",
       "\n",
       "    .dataframe tbody tr th {\n",
       "        vertical-align: top;\n",
       "    }\n",
       "\n",
       "    .dataframe thead th {\n",
       "        text-align: right;\n",
       "    }\n",
       "</style>\n",
       "<table border=\"1\" class=\"dataframe\">\n",
       "  <thead>\n",
       "    <tr style=\"text-align: right;\">\n",
       "      <th></th>\n",
       "      <th>merchant_state</th>\n",
       "      <th>merchant_city</th>\n",
       "      <th>merchant_volume</th>\n",
       "    </tr>\n",
       "    <tr>\n",
       "      <th>merchant_id</th>\n",
       "      <th></th>\n",
       "      <th></th>\n",
       "      <th></th>\n",
       "    </tr>\n",
       "  </thead>\n",
       "  <tbody>\n",
       "    <tr>\n",
       "      <th>mfs-376-lkd-842</th>\n",
       "      <td>FL</td>\n",
       "      <td>Tampa</td>\n",
       "      <td>90000</td>\n",
       "    </tr>\n",
       "  </tbody>\n",
       "</table>\n",
       "</div>"
      ],
      "text/plain": [
       "                merchant_state merchant_city  merchant_volume\n",
       "merchant_id                                                  \n",
       "mfs-376-lkd-842             FL         Tampa            90000"
      ]
     },
     "execution_count": 17,
     "metadata": {},
     "output_type": "execute_result"
    }
   ],
   "source": [
    "# by using and condition please not forgot place the conditions into paranthesis \n",
    "df.loc[(df['merchant_state']=='FL') & (df['merchant_volume']>=50000)]"
   ]
  },
  {
   "cell_type": "code",
   "execution_count": 19,
   "id": "49c86daa",
   "metadata": {},
   "outputs": [
    {
     "data": {
      "text/html": [
       "<div>\n",
       "<style scoped>\n",
       "    .dataframe tbody tr th:only-of-type {\n",
       "        vertical-align: middle;\n",
       "    }\n",
       "\n",
       "    .dataframe tbody tr th {\n",
       "        vertical-align: top;\n",
       "    }\n",
       "\n",
       "    .dataframe thead th {\n",
       "        text-align: right;\n",
       "    }\n",
       "</style>\n",
       "<table border=\"1\" class=\"dataframe\">\n",
       "  <thead>\n",
       "    <tr style=\"text-align: right;\">\n",
       "      <th></th>\n",
       "      <th>merchant_state</th>\n",
       "      <th>merchant_city</th>\n",
       "      <th>merchant_volume</th>\n",
       "    </tr>\n",
       "    <tr>\n",
       "      <th>merchant_id</th>\n",
       "      <th></th>\n",
       "      <th></th>\n",
       "      <th></th>\n",
       "    </tr>\n",
       "  </thead>\n",
       "  <tbody>\n",
       "    <tr>\n",
       "      <th>qtz-837-mnb-294</th>\n",
       "      <td>CA</td>\n",
       "      <td>Los Angeles</td>\n",
       "      <td>50000</td>\n",
       "    </tr>\n",
       "    <tr>\n",
       "      <th>vxl-512-ghj-763</th>\n",
       "      <td>NY</td>\n",
       "      <td>New York</td>\n",
       "      <td>75000</td>\n",
       "    </tr>\n",
       "    <tr>\n",
       "      <th>mfs-376-lkd-842</th>\n",
       "      <td>FL</td>\n",
       "      <td>Tampa</td>\n",
       "      <td>90000</td>\n",
       "    </tr>\n",
       "    <tr>\n",
       "      <th>jdn-689-qwe-417</th>\n",
       "      <td>WA</td>\n",
       "      <td>Seattle</td>\n",
       "      <td>45000</td>\n",
       "    </tr>\n",
       "  </tbody>\n",
       "</table>\n",
       "</div>"
      ],
      "text/plain": [
       "                merchant_state merchant_city  merchant_volume\n",
       "merchant_id                                                  \n",
       "qtz-837-mnb-294             CA   Los Angeles            50000\n",
       "vxl-512-ghj-763             NY      New York            75000\n",
       "mfs-376-lkd-842             FL         Tampa            90000\n",
       "jdn-689-qwe-417             WA       Seattle            45000"
      ]
     },
     "execution_count": 19,
     "metadata": {},
     "output_type": "execute_result"
    }
   ],
   "source": [
    "df.loc[(df['merchant_state'] == 'WA') | (df['merchant_volume'] >= 50000)]\n"
   ]
  },
  {
   "cell_type": "code",
   "execution_count": 20,
   "id": "1e5caf6d",
   "metadata": {},
   "outputs": [
    {
     "data": {
      "text/html": [
       "<div>\n",
       "<style scoped>\n",
       "    .dataframe tbody tr th:only-of-type {\n",
       "        vertical-align: middle;\n",
       "    }\n",
       "\n",
       "    .dataframe tbody tr th {\n",
       "        vertical-align: top;\n",
       "    }\n",
       "\n",
       "    .dataframe thead th {\n",
       "        text-align: right;\n",
       "    }\n",
       "</style>\n",
       "<table border=\"1\" class=\"dataframe\">\n",
       "  <thead>\n",
       "    <tr style=\"text-align: right;\">\n",
       "      <th></th>\n",
       "      <th>merchant_city</th>\n",
       "      <th>merchant_volume</th>\n",
       "    </tr>\n",
       "    <tr>\n",
       "      <th>merchant_id</th>\n",
       "      <th></th>\n",
       "      <th></th>\n",
       "    </tr>\n",
       "  </thead>\n",
       "  <tbody>\n",
       "    <tr>\n",
       "      <th>qtz-837-mnb-294</th>\n",
       "      <td>Los Angeles</td>\n",
       "      <td>50000</td>\n",
       "    </tr>\n",
       "    <tr>\n",
       "      <th>vxl-512-ghj-763</th>\n",
       "      <td>New York</td>\n",
       "      <td>75000</td>\n",
       "    </tr>\n",
       "    <tr>\n",
       "      <th>mfs-376-lkd-842</th>\n",
       "      <td>Tampa</td>\n",
       "      <td>90000</td>\n",
       "    </tr>\n",
       "    <tr>\n",
       "      <th>jdn-689-qwe-417</th>\n",
       "      <td>Seattle</td>\n",
       "      <td>45000</td>\n",
       "    </tr>\n",
       "  </tbody>\n",
       "</table>\n",
       "</div>"
      ],
      "text/plain": [
       "                merchant_city  merchant_volume\n",
       "merchant_id                                   \n",
       "qtz-837-mnb-294   Los Angeles            50000\n",
       "vxl-512-ghj-763      New York            75000\n",
       "mfs-376-lkd-842         Tampa            90000\n",
       "jdn-689-qwe-417       Seattle            45000"
      ]
     },
     "execution_count": 20,
     "metadata": {},
     "output_type": "execute_result"
    }
   ],
   "source": [
    "df.loc[(df['merchant_state'] == 'WA') | (df['merchant_volume'] >= 50000),['merchant_city','merchant_volume']]"
   ]
  },
  {
   "cell_type": "code",
   "execution_count": 21,
   "id": "cf9b83d5",
   "metadata": {},
   "outputs": [
    {
     "data": {
      "text/plain": [
       "'FL'"
      ]
     },
     "execution_count": 21,
     "metadata": {},
     "output_type": "execute_result"
    }
   ],
   "source": [
    "# modifying data \n",
    "df.loc['mfs-376-lkd-842','merchant_state']"
   ]
  },
  {
   "cell_type": "code",
   "execution_count": 22,
   "id": "fa3109f4",
   "metadata": {},
   "outputs": [],
   "source": [
    "df.loc['mfs-376-lkd-842','merchant_state']='KS'"
   ]
  },
  {
   "cell_type": "code",
   "execution_count": 23,
   "id": "8632687c",
   "metadata": {},
   "outputs": [
    {
     "data": {
      "text/html": [
       "<div>\n",
       "<style scoped>\n",
       "    .dataframe tbody tr th:only-of-type {\n",
       "        vertical-align: middle;\n",
       "    }\n",
       "\n",
       "    .dataframe tbody tr th {\n",
       "        vertical-align: top;\n",
       "    }\n",
       "\n",
       "    .dataframe thead th {\n",
       "        text-align: right;\n",
       "    }\n",
       "</style>\n",
       "<table border=\"1\" class=\"dataframe\">\n",
       "  <thead>\n",
       "    <tr style=\"text-align: right;\">\n",
       "      <th></th>\n",
       "      <th>merchant_state</th>\n",
       "      <th>merchant_city</th>\n",
       "      <th>merchant_volume</th>\n",
       "    </tr>\n",
       "    <tr>\n",
       "      <th>merchant_id</th>\n",
       "      <th></th>\n",
       "      <th></th>\n",
       "      <th></th>\n",
       "    </tr>\n",
       "  </thead>\n",
       "  <tbody>\n",
       "    <tr>\n",
       "      <th>qtz-837-mnb-294</th>\n",
       "      <td>CA</td>\n",
       "      <td>Los Angeles</td>\n",
       "      <td>50000</td>\n",
       "    </tr>\n",
       "    <tr>\n",
       "      <th>vxl-512-ghj-763</th>\n",
       "      <td>NY</td>\n",
       "      <td>New York</td>\n",
       "      <td>75000</td>\n",
       "    </tr>\n",
       "    <tr>\n",
       "      <th>prk-924-zxc-105</th>\n",
       "      <td>TX</td>\n",
       "      <td>Dallas</td>\n",
       "      <td>30000</td>\n",
       "    </tr>\n",
       "    <tr>\n",
       "      <th>mfs-376-lkd-842</th>\n",
       "      <td>KS</td>\n",
       "      <td>Tampa</td>\n",
       "      <td>90000</td>\n",
       "    </tr>\n",
       "    <tr>\n",
       "      <th>jdn-689-qwe-417</th>\n",
       "      <td>WA</td>\n",
       "      <td>Seattle</td>\n",
       "      <td>45000</td>\n",
       "    </tr>\n",
       "  </tbody>\n",
       "</table>\n",
       "</div>"
      ],
      "text/plain": [
       "                merchant_state merchant_city  merchant_volume\n",
       "merchant_id                                                  \n",
       "qtz-837-mnb-294             CA   Los Angeles            50000\n",
       "vxl-512-ghj-763             NY      New York            75000\n",
       "prk-924-zxc-105             TX        Dallas            30000\n",
       "mfs-376-lkd-842             KS         Tampa            90000\n",
       "jdn-689-qwe-417             WA       Seattle            45000"
      ]
     },
     "execution_count": 23,
     "metadata": {},
     "output_type": "execute_result"
    }
   ],
   "source": [
    "df"
   ]
  },
  {
   "cell_type": "code",
   "execution_count": 24,
   "id": "19af7cb2",
   "metadata": {},
   "outputs": [
    {
     "data": {
      "text/plain": [
       "merchant_id\n",
       "qtz-837-mnb-294    Los Angeles\n",
       "vxl-512-ghj-763       New York\n",
       "prk-924-zxc-105         Dallas\n",
       "mfs-376-lkd-842          Tampa\n",
       "jdn-689-qwe-417        Seattle\n",
       "Name: merchant_city, dtype: object"
      ]
     },
     "execution_count": 24,
     "metadata": {},
     "output_type": "execute_result"
    }
   ],
   "source": [
    "# slicing\n",
    "df.loc[:,'merchant_city']"
   ]
  },
  {
   "cell_type": "code",
   "execution_count": 25,
   "id": "df7e4fed",
   "metadata": {},
   "outputs": [
    {
     "data": {
      "text/html": [
       "<div>\n",
       "<style scoped>\n",
       "    .dataframe tbody tr th:only-of-type {\n",
       "        vertical-align: middle;\n",
       "    }\n",
       "\n",
       "    .dataframe tbody tr th {\n",
       "        vertical-align: top;\n",
       "    }\n",
       "\n",
       "    .dataframe thead th {\n",
       "        text-align: right;\n",
       "    }\n",
       "</style>\n",
       "<table border=\"1\" class=\"dataframe\">\n",
       "  <thead>\n",
       "    <tr style=\"text-align: right;\">\n",
       "      <th></th>\n",
       "      <th>merchant_state</th>\n",
       "      <th>merchant_city</th>\n",
       "      <th>merchant_volume</th>\n",
       "    </tr>\n",
       "    <tr>\n",
       "      <th>merchant_id</th>\n",
       "      <th></th>\n",
       "      <th></th>\n",
       "      <th></th>\n",
       "    </tr>\n",
       "  </thead>\n",
       "  <tbody>\n",
       "    <tr>\n",
       "      <th>qtz-837-mnb-294</th>\n",
       "      <td>CA</td>\n",
       "      <td>Los Angeles</td>\n",
       "      <td>50000</td>\n",
       "    </tr>\n",
       "    <tr>\n",
       "      <th>vxl-512-ghj-763</th>\n",
       "      <td>NY</td>\n",
       "      <td>New York</td>\n",
       "      <td>75000</td>\n",
       "    </tr>\n",
       "    <tr>\n",
       "      <th>prk-924-zxc-105</th>\n",
       "      <td>TX</td>\n",
       "      <td>Dallas</td>\n",
       "      <td>30000</td>\n",
       "    </tr>\n",
       "    <tr>\n",
       "      <th>mfs-376-lkd-842</th>\n",
       "      <td>KS</td>\n",
       "      <td>Tampa</td>\n",
       "      <td>90000</td>\n",
       "    </tr>\n",
       "    <tr>\n",
       "      <th>jdn-689-qwe-417</th>\n",
       "      <td>WA</td>\n",
       "      <td>Seattle</td>\n",
       "      <td>45000</td>\n",
       "    </tr>\n",
       "  </tbody>\n",
       "</table>\n",
       "</div>"
      ],
      "text/plain": [
       "                merchant_state merchant_city  merchant_volume\n",
       "merchant_id                                                  \n",
       "qtz-837-mnb-294             CA   Los Angeles            50000\n",
       "vxl-512-ghj-763             NY      New York            75000\n",
       "prk-924-zxc-105             TX        Dallas            30000\n",
       "mfs-376-lkd-842             KS         Tampa            90000\n",
       "jdn-689-qwe-417             WA       Seattle            45000"
      ]
     },
     "execution_count": 25,
     "metadata": {},
     "output_type": "execute_result"
    }
   ],
   "source": [
    "df.loc['qtz-837-mnb-294':'jdn-689-qwe-417']"
   ]
  },
  {
   "cell_type": "code",
   "execution_count": 26,
   "id": "a4b7584c",
   "metadata": {},
   "outputs": [
    {
     "data": {
      "text/html": [
       "<div>\n",
       "<style scoped>\n",
       "    .dataframe tbody tr th:only-of-type {\n",
       "        vertical-align: middle;\n",
       "    }\n",
       "\n",
       "    .dataframe tbody tr th {\n",
       "        vertical-align: top;\n",
       "    }\n",
       "\n",
       "    .dataframe thead th {\n",
       "        text-align: right;\n",
       "    }\n",
       "</style>\n",
       "<table border=\"1\" class=\"dataframe\">\n",
       "  <thead>\n",
       "    <tr style=\"text-align: right;\">\n",
       "      <th></th>\n",
       "      <th>merchant_state</th>\n",
       "      <th>merchant_city</th>\n",
       "    </tr>\n",
       "    <tr>\n",
       "      <th>merchant_id</th>\n",
       "      <th></th>\n",
       "      <th></th>\n",
       "    </tr>\n",
       "  </thead>\n",
       "  <tbody>\n",
       "    <tr>\n",
       "      <th>qtz-837-mnb-294</th>\n",
       "      <td>CA</td>\n",
       "      <td>Los Angeles</td>\n",
       "    </tr>\n",
       "    <tr>\n",
       "      <th>vxl-512-ghj-763</th>\n",
       "      <td>NY</td>\n",
       "      <td>New York</td>\n",
       "    </tr>\n",
       "    <tr>\n",
       "      <th>prk-924-zxc-105</th>\n",
       "      <td>TX</td>\n",
       "      <td>Dallas</td>\n",
       "    </tr>\n",
       "    <tr>\n",
       "      <th>mfs-376-lkd-842</th>\n",
       "      <td>KS</td>\n",
       "      <td>Tampa</td>\n",
       "    </tr>\n",
       "    <tr>\n",
       "      <th>jdn-689-qwe-417</th>\n",
       "      <td>WA</td>\n",
       "      <td>Seattle</td>\n",
       "    </tr>\n",
       "  </tbody>\n",
       "</table>\n",
       "</div>"
      ],
      "text/plain": [
       "                merchant_state merchant_city\n",
       "merchant_id                                 \n",
       "qtz-837-mnb-294             CA   Los Angeles\n",
       "vxl-512-ghj-763             NY      New York\n",
       "prk-924-zxc-105             TX        Dallas\n",
       "mfs-376-lkd-842             KS         Tampa\n",
       "jdn-689-qwe-417             WA       Seattle"
      ]
     },
     "execution_count": 26,
     "metadata": {},
     "output_type": "execute_result"
    }
   ],
   "source": [
    "df.loc[:,'merchant_state':'merchant_city']"
   ]
  },
  {
   "cell_type": "code",
   "execution_count": 27,
   "id": "499bfa65",
   "metadata": {},
   "outputs": [
    {
     "data": {
      "text/html": [
       "<div>\n",
       "<style scoped>\n",
       "    .dataframe tbody tr th:only-of-type {\n",
       "        vertical-align: middle;\n",
       "    }\n",
       "\n",
       "    .dataframe tbody tr th {\n",
       "        vertical-align: top;\n",
       "    }\n",
       "\n",
       "    .dataframe thead th {\n",
       "        text-align: right;\n",
       "    }\n",
       "</style>\n",
       "<table border=\"1\" class=\"dataframe\">\n",
       "  <thead>\n",
       "    <tr style=\"text-align: right;\">\n",
       "      <th></th>\n",
       "      <th>merchant_state</th>\n",
       "      <th>merchant_city</th>\n",
       "      <th>merchant_volume</th>\n",
       "    </tr>\n",
       "    <tr>\n",
       "      <th>merchant_id</th>\n",
       "      <th></th>\n",
       "      <th></th>\n",
       "      <th></th>\n",
       "    </tr>\n",
       "  </thead>\n",
       "  <tbody>\n",
       "    <tr>\n",
       "      <th>qtz-837-mnb-294</th>\n",
       "      <td>CA</td>\n",
       "      <td>Los Angeles</td>\n",
       "      <td>50000</td>\n",
       "    </tr>\n",
       "    <tr>\n",
       "      <th>prk-924-zxc-105</th>\n",
       "      <td>TX</td>\n",
       "      <td>Dallas</td>\n",
       "      <td>30000</td>\n",
       "    </tr>\n",
       "    <tr>\n",
       "      <th>jdn-689-qwe-417</th>\n",
       "      <td>WA</td>\n",
       "      <td>Seattle</td>\n",
       "      <td>45000</td>\n",
       "    </tr>\n",
       "  </tbody>\n",
       "</table>\n",
       "</div>"
      ],
      "text/plain": [
       "                merchant_state merchant_city  merchant_volume\n",
       "merchant_id                                                  \n",
       "qtz-837-mnb-294             CA   Los Angeles            50000\n",
       "prk-924-zxc-105             TX        Dallas            30000\n",
       "jdn-689-qwe-417             WA       Seattle            45000"
      ]
     },
     "execution_count": 27,
     "metadata": {},
     "output_type": "execute_result"
    }
   ],
   "source": [
    "df.loc[: : 2]"
   ]
  },
  {
   "cell_type": "code",
   "execution_count": null,
   "id": "113b0a39",
   "metadata": {},
   "outputs": [],
   "source": []
  }
 ],
 "metadata": {
  "kernelspec": {
   "display_name": ".venv",
   "language": "python",
   "name": "python3"
  },
  "language_info": {
   "codemirror_mode": {
    "name": "ipython",
    "version": 3
   },
   "file_extension": ".py",
   "mimetype": "text/x-python",
   "name": "python",
   "nbconvert_exporter": "python",
   "pygments_lexer": "ipython3",
   "version": "3.13.7"
  }
 },
 "nbformat": 4,
 "nbformat_minor": 5
}
