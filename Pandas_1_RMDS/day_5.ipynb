{
 "cells": [
  {
   "cell_type": "code",
   "execution_count": 2,
   "id": "8759f30b",
   "metadata": {},
   "outputs": [],
   "source": [
    "import pandas as pd\n",
    "import numpy as np"
   ]
  },
  {
   "cell_type": "code",
   "execution_count": 4,
   "id": "c73988ca",
   "metadata": {},
   "outputs": [
    {
     "data": {
      "text/plain": [
       "0    30\n",
       "1    25\n",
       "2    15\n",
       "3    10\n",
       "4    20\n",
       "dtype: int64"
      ]
     },
     "execution_count": 4,
     "metadata": {},
     "output_type": "execute_result"
    }
   ],
   "source": [
    "#  a Series may seem simple—much like a single column or row in a spreadsheet. \n",
    "#  A Pandas Series is a one-dimensional labeled array capable of holding any data type\n",
    "# including integers, strings, floats, Python objects, and even mixed types\n",
    "points = [30, 25, 15, 10, 20]\n",
    "player_points_1 = pd.Series(points)\n",
    "player_points_1"
   ]
  },
  {
   "cell_type": "code",
   "execution_count": null,
   "id": "58514df7",
   "metadata": {},
   "outputs": [
    {
     "data": {
      "text/plain": [
       "Player 1    30\n",
       "Player 2    25\n",
       "Player 3    15\n",
       "Player 4    10\n",
       "Player 5    20\n",
       "dtype: int64"
      ]
     },
     "execution_count": 5,
     "metadata": {},
     "output_type": "execute_result"
    }
   ],
   "source": [
    "# using list\n",
    "player_points_2 = pd.Series(\n",
    "    [30, 25, 15, 10, 20],  # Points scored by each player in a match\n",
    "    index=[\"Player 1\", \"Player 2\", \"Player 3\", \"Player 4\", \"Player 5\"]  # Player Names\n",
    ")\n",
    "player_points_2"
   ]
  },
  {
   "cell_type": "code",
   "execution_count": 7,
   "id": "d65d6439",
   "metadata": {},
   "outputs": [
    {
     "data": {
      "text/plain": [
       "Player 1    30\n",
       "Player 2    25\n",
       "Player 3    15\n",
       "Player 4    10\n",
       "Player 5    20\n",
       "dtype: int64"
      ]
     },
     "execution_count": 7,
     "metadata": {},
     "output_type": "execute_result"
    }
   ],
   "source": [
    "# using dictionary\n",
    "data_dictionary = {'Player 1': 30, 'Player 2': 25, 'Player 3': 15, 'Player 4': 10, 'Player 5': 20}\n",
    "player_points_3 = pd.Series(data_dictionary)\n",
    "player_points_3"
   ]
  },
  {
   "cell_type": "code",
   "execution_count": null,
   "id": "eecda5a5",
   "metadata": {},
   "outputs": [
    {
     "data": {
      "text/plain": [
       "0    30\n",
       "1    25\n",
       "2    15\n",
       "3    10\n",
       "4    20\n",
       "dtype: int64"
      ]
     },
     "execution_count": 8,
     "metadata": {},
     "output_type": "execute_result"
    }
   ],
   "source": [
    "# using numpy\n",
    "data_numpy = np.array([30, 25, 15, 10, 20])\n",
    "series_numpy = pd.Series(data_numpy)\n",
    "series_numpy"
   ]
  },
  {
   "cell_type": "code",
   "execution_count": 10,
   "id": "5b0d7bd4",
   "metadata": {},
   "outputs": [
    {
     "data": {
      "text/plain": [
       "0       10\n",
       "1    Hello\n",
       "2     3.14\n",
       "3     True\n",
       "dtype: object"
      ]
     },
     "execution_count": 10,
     "metadata": {},
     "output_type": "execute_result"
    }
   ],
   "source": [
    "# multiple data types\n",
    "multiple_data_types = [10, 'Hello', 3.14, True]\n",
    "series_multiple_data_types = pd.Series(multiple_data_types)\n",
    "series_multiple_data_types\n"
   ]
  },
  {
   "cell_type": "code",
   "execution_count": 11,
   "id": "0ecc226f",
   "metadata": {},
   "outputs": [],
   "source": [
    "empty_series = pd.Series()"
   ]
  },
  {
   "cell_type": "code",
   "execution_count": 12,
   "id": "b1ad3844",
   "metadata": {},
   "outputs": [
    {
     "data": {
      "text/plain": [
       "0    32\n",
       "1    18\n",
       "2    27\n",
       "3    12\n",
       "4    24\n",
       "dtype: int64"
      ]
     },
     "execution_count": 12,
     "metadata": {},
     "output_type": "execute_result"
    }
   ],
   "source": [
    "points_4 = [32, 18, 27, 12, 24, 24, 24, 29, 10, 19,\n",
    "          30, 22, 13, 28, 17, 25, 14, 27, 16, 26,\n",
    "          11, 20, 31, 27, 27, 19, 12, 24, 30, 14]\n",
    "player_points_4 = pd.Series(points_4)\n",
    "player_points_4.head()"
   ]
  },
  {
   "cell_type": "code",
   "execution_count": 13,
   "id": "f6ddfbe7",
   "metadata": {},
   "outputs": [
    {
     "data": {
      "text/plain": [
       "25    19\n",
       "26    12\n",
       "27    24\n",
       "28    30\n",
       "29    14\n",
       "dtype: int64"
      ]
     },
     "execution_count": 13,
     "metadata": {},
     "output_type": "execute_result"
    }
   ],
   "source": [
    "player_points_4.tail()"
   ]
  },
  {
   "cell_type": "code",
   "execution_count": 14,
   "id": "181a8847",
   "metadata": {},
   "outputs": [
    {
     "data": {
      "text/plain": [
       "np.int64(24)"
      ]
     },
     "execution_count": 14,
     "metadata": {},
     "output_type": "execute_result"
    }
   ],
   "source": [
    "# accessing elements in a series using iloc\n",
    "player_points_4.iloc[5]"
   ]
  },
  {
   "cell_type": "code",
   "execution_count": 15,
   "id": "670c4f52",
   "metadata": {},
   "outputs": [
    {
     "data": {
      "text/plain": [
       "np.int64(30)"
      ]
     },
     "execution_count": 15,
     "metadata": {},
     "output_type": "execute_result"
    }
   ],
   "source": [
    "# using loc\n",
    "player_points_2['Player 1']"
   ]
  },
  {
   "cell_type": "code",
   "execution_count": 16,
   "id": "d68e6398",
   "metadata": {},
   "outputs": [],
   "source": [
    "# add new data in series \n",
    "player_points_4[30] = 22"
   ]
  },
  {
   "cell_type": "code",
   "execution_count": 17,
   "id": "82c21cc0",
   "metadata": {},
   "outputs": [
    {
     "data": {
      "text/plain": [
       "26    12\n",
       "27    24\n",
       "28    30\n",
       "29    14\n",
       "30    22\n",
       "dtype: int64"
      ]
     },
     "execution_count": 17,
     "metadata": {},
     "output_type": "execute_result"
    }
   ],
   "source": [
    "player_points_4.tail()"
   ]
  },
  {
   "cell_type": "code",
   "execution_count": null,
   "id": "7ee54719",
   "metadata": {},
   "outputs": [
    {
     "data": {
      "text/plain": [
       "27    4\n",
       "24    4\n",
       "19    2\n",
       "12    2\n",
       "14    2\n",
       "Name: count, dtype: int64"
      ]
     },
     "execution_count": 18,
     "metadata": {},
     "output_type": "execute_result"
    }
   ],
   "source": [
    "# number of value counts \n",
    "# Value counts allow you to see how often a value appears within your series.\n",
    "player_points_4.value_counts().head(5)"
   ]
  },
  {
   "cell_type": "code",
   "execution_count": 19,
   "id": "9bdb6476",
   "metadata": {},
   "outputs": [
    {
     "data": {
      "text/plain": [
       "np.int64(31)"
      ]
     },
     "execution_count": 19,
     "metadata": {},
     "output_type": "execute_result"
    }
   ],
   "source": [
    "# Count will tell us the amount of non null values in our series.\n",
    "player_points_4.count()"
   ]
  },
  {
   "cell_type": "code",
   "execution_count": 20,
   "id": "c8bde871",
   "metadata": {},
   "outputs": [
    {
     "data": {
      "text/plain": [
       "31"
      ]
     },
     "execution_count": 20,
     "metadata": {},
     "output_type": "execute_result"
    }
   ],
   "source": [
    "# If you want to see the number of values including null ones use size.\n",
    "player_points_4.size"
   ]
  },
  {
   "cell_type": "code",
   "execution_count": 21,
   "id": "6ccb989e",
   "metadata": {},
   "outputs": [
    {
     "data": {
      "text/plain": [
       "20"
      ]
     },
     "execution_count": 21,
     "metadata": {},
     "output_type": "execute_result"
    }
   ],
   "source": [
    "# nunique shows us the number of unique values\n",
    "player_points_4.nunique()"
   ]
  },
  {
   "cell_type": "code",
   "execution_count": 22,
   "id": "b61cb165",
   "metadata": {},
   "outputs": [
    {
     "data": {
      "text/plain": [
       "False"
      ]
     },
     "execution_count": 22,
     "metadata": {},
     "output_type": "execute_result"
    }
   ],
   "source": [
    "# If you want to see if every value is different use .is_unique\n",
    "player_points_4.is_unique"
   ]
  },
  {
   "cell_type": "code",
   "execution_count": 23,
   "id": "5c914fa9",
   "metadata": {},
   "outputs": [
    {
     "data": {
      "text/plain": [
       "dtype('int64')"
      ]
     },
     "execution_count": 23,
     "metadata": {},
     "output_type": "execute_result"
    }
   ],
   "source": [
    "player_points_4.dtype"
   ]
  },
  {
   "cell_type": "code",
   "execution_count": 24,
   "id": "f0b4deef",
   "metadata": {},
   "outputs": [
    {
     "data": {
      "text/plain": [
       "dtype('float64')"
      ]
     },
     "execution_count": 24,
     "metadata": {},
     "output_type": "execute_result"
    }
   ],
   "source": [
    "# data type conversion\n",
    "# You can also convert the datatypes within a series. Down below we change an int series to float\n",
    "player_points_4 = player_points_4.astype(\"float64\")\n",
    "player_points_4.dtype"
   ]
  },
  {
   "cell_type": "code",
   "execution_count": 26,
   "id": "39dea670",
   "metadata": {},
   "outputs": [
    {
     "data": {
      "text/plain": [
       "0     37.0\n",
       "1     23.0\n",
       "2     32.0\n",
       "3     17.0\n",
       "4     29.0\n",
       "5     29.0\n",
       "6     29.0\n",
       "7     34.0\n",
       "8     15.0\n",
       "9     24.0\n",
       "10    35.0\n",
       "11    27.0\n",
       "12    18.0\n",
       "13    33.0\n",
       "14    22.0\n",
       "15    30.0\n",
       "16    19.0\n",
       "17    32.0\n",
       "18    21.0\n",
       "19    31.0\n",
       "20    16.0\n",
       "21    25.0\n",
       "22    36.0\n",
       "23    32.0\n",
       "24    32.0\n",
       "25    24.0\n",
       "26    17.0\n",
       "27    29.0\n",
       "28    35.0\n",
       "29    19.0\n",
       "30    27.0\n",
       "dtype: float64"
      ]
     },
     "execution_count": 26,
     "metadata": {},
     "output_type": "execute_result"
    }
   ],
   "source": [
    "# To update values across a series, we have to generate a new series. \n",
    "player_points_updated = player_points_4 + 5\n",
    "player_points_updated"
   ]
  },
  {
   "cell_type": "code",
   "execution_count": 27,
   "id": "38ae25aa",
   "metadata": {},
   "outputs": [
    {
     "data": {
      "text/plain": [
       "0    14\n",
       "1     8\n",
       "2     8\n",
       "dtype: int64"
      ]
     },
     "execution_count": 27,
     "metadata": {},
     "output_type": "execute_result"
    }
   ],
   "source": [
    "# sum two series dataframes\n",
    "runs1 = pd.Series([3, 5, 4])\n",
    "runs2 = pd.Series([11, 3, 4])\n",
    "runs_3 = runs1 + runs2\n",
    "runs_3"
   ]
  },
  {
   "cell_type": "code",
   "execution_count": 28,
   "id": "65614b11",
   "metadata": {},
   "outputs": [
    {
     "name": "stdout",
     "output_type": "stream",
     "text": [
      "Mean: 21.741935483870968\n",
      "Median: 24.0\n",
      "Standard Deviation: 6.597816517280465\n",
      "Sum: 674.0\n",
      "Min: 10.0\n",
      "Max: 32.0\n"
     ]
    }
   ],
   "source": [
    "# Descriptive statistics\n",
    "print(\"Mean:\", player_points_4.mean())\n",
    "print(\"Median:\", player_points_4.median())\n",
    "print(\"Standard Deviation:\", player_points_4.std())\n",
    "print(\"Sum:\", player_points_4.sum())\n",
    "print(\"Min:\", player_points_4.min())\n",
    "print(\"Max:\", player_points_4.max())"
   ]
  },
  {
   "cell_type": "code",
   "execution_count": 29,
   "id": "7c3af846",
   "metadata": {},
   "outputs": [],
   "source": [
    "# Sort by index\n",
    "player_points_updated.sort_index(inplace=True)"
   ]
  },
  {
   "cell_type": "code",
   "execution_count": 30,
   "id": "4d941a9f",
   "metadata": {},
   "outputs": [],
   "source": [
    "player_points_updated.sort_index(ascending=False, inplace=True)"
   ]
  },
  {
   "cell_type": "code",
   "execution_count": 31,
   "id": "0022b1dc",
   "metadata": {},
   "outputs": [],
   "source": [
    "# Sort by Values\n",
    "player_points_updated.sort_values(inplace=True)"
   ]
  },
  {
   "cell_type": "code",
   "execution_count": 32,
   "id": "ac662d5a",
   "metadata": {},
   "outputs": [],
   "source": [
    "player_points_updated.sort_values(ascending=False, inplace=True)"
   ]
  },
  {
   "cell_type": "code",
   "execution_count": 33,
   "id": "cf0bdbbe",
   "metadata": {},
   "outputs": [
    {
     "data": {
      "text/plain": [
       "0      True\n",
       "22     True\n",
       "10     True\n",
       "28     True\n",
       "7      True\n",
       "13     True\n",
       "24     True\n",
       "23     True\n",
       "17     True\n",
       "2      True\n",
       "19     True\n",
       "15    False\n",
       "6     False\n",
       "4     False\n",
       "27    False\n",
       "5     False\n",
       "11    False\n",
       "30    False\n",
       "21    False\n",
       "25    False\n",
       "9     False\n",
       "1     False\n",
       "14    False\n",
       "18    False\n",
       "29    False\n",
       "16    False\n",
       "12    False\n",
       "3     False\n",
       "26    False\n",
       "20    False\n",
       "8     False\n",
       "dtype: bool"
      ]
     },
     "execution_count": 33,
     "metadata": {},
     "output_type": "execute_result"
    }
   ],
   "source": [
    "# Element Wise Comparrison\n",
    "player_points_updated > 30"
   ]
  },
  {
   "cell_type": "code",
   "execution_count": 34,
   "id": "afb98759",
   "metadata": {},
   "outputs": [
    {
     "data": {
      "text/plain": [
       "0     37.0\n",
       "22    36.0\n",
       "10    35.0\n",
       "28    35.0\n",
       "7     34.0\n",
       "13    33.0\n",
       "24    32.0\n",
       "23    32.0\n",
       "17    32.0\n",
       "2     32.0\n",
       "19    31.0\n",
       "dtype: float64"
      ]
     },
     "execution_count": 34,
     "metadata": {},
     "output_type": "execute_result"
    }
   ],
   "source": [
    "player_points_updated.loc[player_points_updated > 30]"
   ]
  },
  {
   "cell_type": "code",
   "execution_count": 35,
   "id": "d59a4a79",
   "metadata": {},
   "outputs": [
    {
     "data": {
      "text/plain": [
       "0    False\n",
       "1    False\n",
       "2    False\n",
       "3     True\n",
       "4    False\n",
       "5    False\n",
       "6     True\n",
       "dtype: bool"
      ]
     },
     "execution_count": 35,
     "metadata": {},
     "output_type": "execute_result"
    }
   ],
   "source": [
    "# Check for Null Values\n",
    "null_series = pd.Series([25, 10, 5, np.nan, 8, 41, np.nan])\n",
    "null_series.isna()"
   ]
  },
  {
   "cell_type": "code",
   "execution_count": 36,
   "id": "6bb93cb7",
   "metadata": {},
   "outputs": [],
   "source": [
    "#  Remove Null Values\n",
    "null_series_removed = null_series.dropna()"
   ]
  },
  {
   "cell_type": "code",
   "execution_count": 37,
   "id": "929734d8",
   "metadata": {},
   "outputs": [],
   "source": [
    "# Fill Null Values\n",
    "null_series_filled = null_series.fillna(0)"
   ]
  },
  {
   "cell_type": "code",
   "execution_count": 38,
   "id": "778ed870",
   "metadata": {},
   "outputs": [],
   "source": [
    "null_series_filled_2 = null_series.fillna(null_series.median())"
   ]
  },
  {
   "cell_type": "code",
   "execution_count": 40,
   "id": "3686d5b4",
   "metadata": {},
   "outputs": [
    {
     "data": {
      "text/plain": [
       "0     37.0\n",
       "22    36.0\n",
       "10    35.0\n",
       "28    35.0\n",
       "7     34.0\n",
       "dtype: float64"
      ]
     },
     "execution_count": 40,
     "metadata": {},
     "output_type": "execute_result"
    }
   ],
   "source": [
    "# Apply allows you to create a new series based off of a function\n",
    "def points_times_two(x):\n",
    "    return x * 2\n",
    "\n",
    "player_points_updated_applied = player_points_updated.apply(points_times_two)\n",
    "\n",
    "player_points_updated.head()"
   ]
  },
  {
   "cell_type": "code",
   "execution_count": 42,
   "id": "7fb67d7d",
   "metadata": {},
   "outputs": [
    {
     "data": {
      "text/html": [
       "<div>\n",
       "<style scoped>\n",
       "    .dataframe tbody tr th:only-of-type {\n",
       "        vertical-align: middle;\n",
       "    }\n",
       "\n",
       "    .dataframe tbody tr th {\n",
       "        vertical-align: top;\n",
       "    }\n",
       "\n",
       "    .dataframe thead th {\n",
       "        text-align: right;\n",
       "    }\n",
       "</style>\n",
       "<table border=\"1\" class=\"dataframe\">\n",
       "  <thead>\n",
       "    <tr style=\"text-align: right;\">\n",
       "      <th></th>\n",
       "      <th>Player A</th>\n",
       "      <th>Player B</th>\n",
       "      <th>Player C</th>\n",
       "    </tr>\n",
       "  </thead>\n",
       "  <tbody>\n",
       "    <tr>\n",
       "      <th>0</th>\n",
       "      <td>10</td>\n",
       "      <td>14</td>\n",
       "      <td>17</td>\n",
       "    </tr>\n",
       "    <tr>\n",
       "      <th>1</th>\n",
       "      <td>12</td>\n",
       "      <td>16</td>\n",
       "      <td>22</td>\n",
       "    </tr>\n",
       "    <tr>\n",
       "      <th>2</th>\n",
       "      <td>23</td>\n",
       "      <td>16</td>\n",
       "      <td>29</td>\n",
       "    </tr>\n",
       "  </tbody>\n",
       "</table>\n",
       "</div>"
      ],
      "text/plain": [
       "   Player A  Player B  Player C\n",
       "0        10        14        17\n",
       "1        12        16        22\n",
       "2        23        16        29"
      ]
     },
     "execution_count": 42,
     "metadata": {},
     "output_type": "execute_result"
    }
   ],
   "source": [
    "# Turn dataframe column into a series\n",
    "score_dictionary = {'Player A': [10, 12, 23], 'Player B': [14, 16, 16], 'Player C': [17, 22, 29]}\n",
    "df = pd.DataFrame(score_dictionary)\n",
    "df"
   ]
  },
  {
   "cell_type": "code",
   "execution_count": 45,
   "id": "d6800ba0",
   "metadata": {},
   "outputs": [
    {
     "data": {
      "text/plain": [
       "0    10\n",
       "1    12\n",
       "2    23\n",
       "Name: Player A, dtype: int64"
      ]
     },
     "execution_count": 45,
     "metadata": {},
     "output_type": "execute_result"
    }
   ],
   "source": [
    "series_from_df_1 = df['Player A'].squeeze()\n",
    "series_from_df_1"
   ]
  },
  {
   "cell_type": "code",
   "execution_count": 46,
   "id": "983040b4",
   "metadata": {},
   "outputs": [
    {
     "data": {
      "text/plain": [
       "0    14\n",
       "1    16\n",
       "2    16\n",
       "Name: Player B, dtype: int64"
      ]
     },
     "execution_count": 46,
     "metadata": {},
     "output_type": "execute_result"
    }
   ],
   "source": [
    "series_from_df_2 = df['Player B'].squeeze()\n",
    "series_from_df_2"
   ]
  },
  {
   "cell_type": "code",
   "execution_count": 49,
   "id": "6d9eb874",
   "metadata": {},
   "outputs": [
    {
     "data": {
      "text/html": [
       "<div>\n",
       "<style scoped>\n",
       "    .dataframe tbody tr th:only-of-type {\n",
       "        vertical-align: middle;\n",
       "    }\n",
       "\n",
       "    .dataframe tbody tr th {\n",
       "        vertical-align: top;\n",
       "    }\n",
       "\n",
       "    .dataframe thead th {\n",
       "        text-align: right;\n",
       "    }\n",
       "</style>\n",
       "<table border=\"1\" class=\"dataframe\">\n",
       "  <thead>\n",
       "    <tr style=\"text-align: right;\">\n",
       "      <th></th>\n",
       "      <th>Player A</th>\n",
       "      <th>Player B</th>\n",
       "    </tr>\n",
       "  </thead>\n",
       "  <tbody>\n",
       "    <tr>\n",
       "      <th>0</th>\n",
       "      <td>10</td>\n",
       "      <td>14</td>\n",
       "    </tr>\n",
       "    <tr>\n",
       "      <th>1</th>\n",
       "      <td>12</td>\n",
       "      <td>16</td>\n",
       "    </tr>\n",
       "    <tr>\n",
       "      <th>2</th>\n",
       "      <td>23</td>\n",
       "      <td>16</td>\n",
       "    </tr>\n",
       "  </tbody>\n",
       "</table>\n",
       "</div>"
      ],
      "text/plain": [
       "   Player A  Player B\n",
       "0        10        14\n",
       "1        12        16\n",
       "2        23        16"
      ]
     },
     "execution_count": 49,
     "metadata": {},
     "output_type": "execute_result"
    }
   ],
   "source": [
    "# Create a DataFrame from two Series\n",
    "df_2 = pd.concat([series_from_df_1, series_from_df_2], axis=1)\n",
    "df_2"
   ]
  },
  {
   "cell_type": "code",
   "execution_count": 50,
   "id": "1587e486",
   "metadata": {},
   "outputs": [
    {
     "data": {
      "text/plain": [
       "[10, 12, 23]"
      ]
     },
     "execution_count": 50,
     "metadata": {},
     "output_type": "execute_result"
    }
   ],
   "source": [
    "series_from_df_1.to_list()"
   ]
  },
  {
   "cell_type": "code",
   "execution_count": null,
   "id": "1eba6339",
   "metadata": {},
   "outputs": [],
   "source": []
  }
 ],
 "metadata": {
  "kernelspec": {
   "display_name": ".venv",
   "language": "python",
   "name": "python3"
  },
  "language_info": {
   "codemirror_mode": {
    "name": "ipython",
    "version": 3
   },
   "file_extension": ".py",
   "mimetype": "text/x-python",
   "name": "python",
   "nbconvert_exporter": "python",
   "pygments_lexer": "ipython3",
   "version": "3.13.7"
  }
 },
 "nbformat": 4,
 "nbformat_minor": 5
}
