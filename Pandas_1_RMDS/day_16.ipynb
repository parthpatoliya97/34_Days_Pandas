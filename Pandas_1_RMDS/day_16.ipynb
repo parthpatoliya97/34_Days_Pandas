{
 "cells": [
  {
   "cell_type": "code",
   "execution_count": 1,
   "id": "be881776",
   "metadata": {},
   "outputs": [],
   "source": [
    "import pandas as pd\n",
    "import numpy as np"
   ]
  },
  {
   "cell_type": "code",
   "execution_count": null,
   "id": "25298de3",
   "metadata": {},
   "outputs": [
    {
     "data": {
      "text/html": [
       "<div>\n",
       "<style scoped>\n",
       "    .dataframe tbody tr th:only-of-type {\n",
       "        vertical-align: middle;\n",
       "    }\n",
       "\n",
       "    .dataframe tbody tr th {\n",
       "        vertical-align: top;\n",
       "    }\n",
       "\n",
       "    .dataframe thead th {\n",
       "        text-align: right;\n",
       "    }\n",
       "</style>\n",
       "<table border=\"1\" class=\"dataframe\">\n",
       "  <thead>\n",
       "    <tr style=\"text-align: right;\">\n",
       "      <th></th>\n",
       "      <th>first</th>\n",
       "      <th>last</th>\n",
       "      <th>score</th>\n",
       "    </tr>\n",
       "  </thead>\n",
       "  <tbody>\n",
       "    <tr>\n",
       "      <th>0</th>\n",
       "      <td>jack</td>\n",
       "      <td>smith</td>\n",
       "      <td>87</td>\n",
       "    </tr>\n",
       "    <tr>\n",
       "      <th>1</th>\n",
       "      <td>jill</td>\n",
       "      <td>johnson</td>\n",
       "      <td>77</td>\n",
       "    </tr>\n",
       "    <tr>\n",
       "      <th>2</th>\n",
       "      <td>bob</td>\n",
       "      <td>smith</td>\n",
       "      <td>99</td>\n",
       "    </tr>\n",
       "    <tr>\n",
       "      <th>3</th>\n",
       "      <td>matt</td>\n",
       "      <td>payne</td>\n",
       "      <td>77</td>\n",
       "    </tr>\n",
       "    <tr>\n",
       "      <th>4</th>\n",
       "      <td>john</td>\n",
       "      <td>hand</td>\n",
       "      <td>77</td>\n",
       "    </tr>\n",
       "  </tbody>\n",
       "</table>\n",
       "</div>"
      ],
      "text/plain": [
       "  first     last  score\n",
       "0  jack    smith     87\n",
       "1  jill  johnson     77\n",
       "2   bob    smith     99\n",
       "3  matt    payne     77\n",
       "4  john     hand     77"
      ]
     },
     "execution_count": 2,
     "metadata": {},
     "output_type": "execute_result"
    }
   ],
   "source": [
    "df = pd.DataFrame(columns=['first', 'last', 'score'])\n",
    "\n",
    "df['first'] = ['jack','jill','bob','matt','john']\n",
    "df['last'] = ['smith','johnson','smith','payne','hand']\n",
    "df['score'] = [87,77,99,77,77]\n",
    "df"
   ]
  },
  {
   "cell_type": "code",
   "execution_count": 3,
   "id": "6b215ce3",
   "metadata": {},
   "outputs": [
    {
     "data": {
      "text/plain": [
       "np.int64(3)"
      ]
     },
     "execution_count": 3,
     "metadata": {},
     "output_type": "execute_result"
    }
   ],
   "source": [
    "# Using Pandas Value_Counts Method\n",
    "# get the value count for 77\n",
    "df['score'].value_counts()[77]"
   ]
  },
  {
   "cell_type": "code",
   "execution_count": 4,
   "id": "c0efb4ff",
   "metadata": {},
   "outputs": [
    {
     "data": {
      "text/plain": [
       "2"
      ]
     },
     "execution_count": 4,
     "metadata": {},
     "output_type": "execute_result"
    }
   ],
   "source": [
    "# Pandas Count A Specific Value In A Column With Shape\n",
    "df[df['last'] == 'smith'].shape[0]\n"
   ]
  },
  {
   "cell_type": "code",
   "execution_count": 5,
   "id": "e3657f85",
   "metadata": {},
   "outputs": [
    {
     "data": {
      "text/plain": [
       "2"
      ]
     },
     "execution_count": 5,
     "metadata": {},
     "output_type": "execute_result"
    }
   ],
   "source": [
    "# Pandas Count Specific Value In Column 'Score' With Length Method\n",
    "len(df[df['last'] == 'smith'])"
   ]
  },
  {
   "cell_type": "code",
   "execution_count": 6,
   "id": "1a1fd4cf",
   "metadata": {},
   "outputs": [
    {
     "data": {
      "text/plain": [
       "np.int64(2)"
      ]
     },
     "execution_count": 6,
     "metadata": {},
     "output_type": "execute_result"
    }
   ],
   "source": [
    "# Use Sum Function to Count Specific Values in a Column in a Dataframe\n",
    "(df['last'] == 'smith').sum()"
   ]
  },
  {
   "cell_type": "code",
   "execution_count": 7,
   "id": "759c4b2b",
   "metadata": {},
   "outputs": [
    {
     "name": "stdout",
     "output_type": "stream",
     "text": [
      "[0, 0, 3]\n"
     ]
    }
   ],
   "source": [
    "# In Pandas Count Occurrences of a Specific Value in Column Defined in a List\n",
    "columns = ['first', 'last', 'score']\n",
    "output1 = [len(df[df[x] == 77]) for x in columns]\n",
    "print(output1)"
   ]
  },
  {
   "cell_type": "code",
   "execution_count": 8,
   "id": "c56c2af8",
   "metadata": {},
   "outputs": [
    {
     "data": {
      "text/plain": [
       "first    0\n",
       "last     0\n",
       "score    3\n",
       "dtype: int64"
      ]
     },
     "execution_count": 8,
     "metadata": {},
     "output_type": "execute_result"
    }
   ],
   "source": [
    "# How do I count specific values across multiple columns in pandas?\n",
    "df[df == 77].count()"
   ]
  },
  {
   "cell_type": "code",
   "execution_count": 9,
   "id": "2b3ea59e",
   "metadata": {},
   "outputs": [
    {
     "data": {
      "text/plain": [
       "0    1\n",
       "1    0\n",
       "2    1\n",
       "3    0\n",
       "4    0\n",
       "5    1\n",
       "dtype: int64"
      ]
     },
     "execution_count": 9,
     "metadata": {},
     "output_type": "execute_result"
    }
   ],
   "source": [
    "# Pandas Count Specific String or Regex Pattern In Column\n",
    "s = pd.Series(['john wilkens', 'matt', 'johns car', 'inputs', 'cat', 'johnson'])\n",
    "s.str.count('john')"
   ]
  },
  {
   "cell_type": "code",
   "execution_count": 10,
   "id": "b58e6b2b",
   "metadata": {},
   "outputs": [
    {
     "data": {
      "text/plain": [
       "4"
      ]
     },
     "execution_count": 10,
     "metadata": {},
     "output_type": "execute_result"
    }
   ],
   "source": [
    "# Count Multiple Specific Values In Column\n",
    "len(df[df['score'].map(lambda x: x == 87 or x == 77)])"
   ]
  }
 ],
 "metadata": {
  "kernelspec": {
   "display_name": "Python 3",
   "language": "python",
   "name": "python3"
  },
  "language_info": {
   "codemirror_mode": {
    "name": "ipython",
    "version": 3
   },
   "file_extension": ".py",
   "mimetype": "text/x-python",
   "name": "python",
   "nbconvert_exporter": "python",
   "pygments_lexer": "ipython3",
   "version": "3.13.7"
  }
 },
 "nbformat": 4,
 "nbformat_minor": 5
}
