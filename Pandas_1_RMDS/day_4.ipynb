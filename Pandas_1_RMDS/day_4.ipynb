{
 "cells": [
  {
   "cell_type": "code",
   "execution_count": 15,
   "id": "3dbf8d5c",
   "metadata": {},
   "outputs": [],
   "source": [
    "import pandas as pd\n",
    "import numpy as np"
   ]
  },
  {
   "cell_type": "code",
   "execution_count": 16,
   "id": "1f9554fd",
   "metadata": {},
   "outputs": [],
   "source": [
    "data = {\n",
    "    'Runner': ['Alice', 'Bob', 'Charlie', 'Diana', 'Ethan', 'Fiona', 'George', 'Hannah'],\n",
    "    'last_name': ['Morgan', 'Thompson', 'Reed', 'Santiago', 'Kim', 'Nguyen', 'Patel', 'Brooks'],\n",
    "    'Marathon_Time_hrs': [3.5, 4.0, 3.2, 4.5, 3.8, 4.1, 3.9, 4.3],\n",
    "    'Fifty_Miler_Time_hrs': [8.0, 9.5, 7.8, 10.2, 9.0, 10.0, 9.2, 10.5],\n",
    "    'Hundred_Miler_Time_hrs': [20.5, 23.0, 18.7, 25.2, 21.5, 24.1, 22.3, 26.0],\n",
    "    'last_race_date': ['04/27/2025', '05/24/2025', '12/13/2025', '04/27/2025', '05/24/2025', '12/13/2025', '04/27/2025', '05/24/2025'],\n",
    "    'running_club_id': [123, 345, 123, 678, 342, 123, 345, 123],\n",
    "}\n",
    "df=pd.DataFrame(data)"
   ]
  },
  {
   "cell_type": "code",
   "execution_count": 17,
   "id": "c8a0d8d1",
   "metadata": {},
   "outputs": [
    {
     "data": {
      "text/html": [
       "<div>\n",
       "<style scoped>\n",
       "    .dataframe tbody tr th:only-of-type {\n",
       "        vertical-align: middle;\n",
       "    }\n",
       "\n",
       "    .dataframe tbody tr th {\n",
       "        vertical-align: top;\n",
       "    }\n",
       "\n",
       "    .dataframe thead th {\n",
       "        text-align: right;\n",
       "    }\n",
       "</style>\n",
       "<table border=\"1\" class=\"dataframe\">\n",
       "  <thead>\n",
       "    <tr style=\"text-align: right;\">\n",
       "      <th></th>\n",
       "      <th>Runner</th>\n",
       "      <th>last_name</th>\n",
       "      <th>Marathon_Time_hrs</th>\n",
       "      <th>Fifty_Miler_Time_hrs</th>\n",
       "      <th>Hundred_Miler_Time_hrs</th>\n",
       "      <th>last_race_date</th>\n",
       "      <th>running_club_id</th>\n",
       "    </tr>\n",
       "  </thead>\n",
       "  <tbody>\n",
       "    <tr>\n",
       "      <th>0</th>\n",
       "      <td>Alice</td>\n",
       "      <td>Morgan</td>\n",
       "      <td>3.5</td>\n",
       "      <td>8.0</td>\n",
       "      <td>20.5</td>\n",
       "      <td>04/27/2025</td>\n",
       "      <td>123</td>\n",
       "    </tr>\n",
       "    <tr>\n",
       "      <th>1</th>\n",
       "      <td>Bob</td>\n",
       "      <td>Thompson</td>\n",
       "      <td>4.0</td>\n",
       "      <td>9.5</td>\n",
       "      <td>23.0</td>\n",
       "      <td>05/24/2025</td>\n",
       "      <td>345</td>\n",
       "    </tr>\n",
       "    <tr>\n",
       "      <th>2</th>\n",
       "      <td>Charlie</td>\n",
       "      <td>Reed</td>\n",
       "      <td>3.2</td>\n",
       "      <td>7.8</td>\n",
       "      <td>18.7</td>\n",
       "      <td>12/13/2025</td>\n",
       "      <td>123</td>\n",
       "    </tr>\n",
       "    <tr>\n",
       "      <th>3</th>\n",
       "      <td>Diana</td>\n",
       "      <td>Santiago</td>\n",
       "      <td>4.5</td>\n",
       "      <td>10.2</td>\n",
       "      <td>25.2</td>\n",
       "      <td>04/27/2025</td>\n",
       "      <td>678</td>\n",
       "    </tr>\n",
       "    <tr>\n",
       "      <th>4</th>\n",
       "      <td>Ethan</td>\n",
       "      <td>Kim</td>\n",
       "      <td>3.8</td>\n",
       "      <td>9.0</td>\n",
       "      <td>21.5</td>\n",
       "      <td>05/24/2025</td>\n",
       "      <td>342</td>\n",
       "    </tr>\n",
       "  </tbody>\n",
       "</table>\n",
       "</div>"
      ],
      "text/plain": [
       "    Runner last_name  Marathon_Time_hrs  Fifty_Miler_Time_hrs  \\\n",
       "0    Alice    Morgan                3.5                   8.0   \n",
       "1      Bob  Thompson                4.0                   9.5   \n",
       "2  Charlie      Reed                3.2                   7.8   \n",
       "3    Diana  Santiago                4.5                  10.2   \n",
       "4    Ethan       Kim                3.8                   9.0   \n",
       "\n",
       "   Hundred_Miler_Time_hrs last_race_date  running_club_id  \n",
       "0                    20.5     04/27/2025              123  \n",
       "1                    23.0     05/24/2025              345  \n",
       "2                    18.7     12/13/2025              123  \n",
       "3                    25.2     04/27/2025              678  \n",
       "4                    21.5     05/24/2025              342  "
      ]
     },
     "execution_count": 17,
     "metadata": {},
     "output_type": "execute_result"
    }
   ],
   "source": [
    "df.head()"
   ]
  },
  {
   "cell_type": "code",
   "execution_count": 18,
   "id": "2741baf2",
   "metadata": {},
   "outputs": [
    {
     "data": {
      "text/plain": [
       "0      Alice\n",
       "1        Bob\n",
       "2    Charlie\n",
       "3      Diana\n",
       "4      Ethan\n",
       "5      Fiona\n",
       "6     George\n",
       "7     Hannah\n",
       "Name: Runner, dtype: object"
      ]
     },
     "execution_count": 18,
     "metadata": {},
     "output_type": "execute_result"
    }
   ],
   "source": [
    "# accessing a column\n",
    "df['Runner']"
   ]
  },
  {
   "cell_type": "code",
   "execution_count": 19,
   "id": "35785766",
   "metadata": {},
   "outputs": [
    {
     "data": {
      "text/plain": [
       "0      Alice\n",
       "1        Bob\n",
       "2    Charlie\n",
       "3      Diana\n",
       "4      Ethan\n",
       "5      Fiona\n",
       "6     George\n",
       "7     Hannah\n",
       "Name: Runner, dtype: object"
      ]
     },
     "execution_count": 19,
     "metadata": {},
     "output_type": "execute_result"
    }
   ],
   "source": [
    "df.Runner"
   ]
  },
  {
   "cell_type": "code",
   "execution_count": 20,
   "id": "689c5b58",
   "metadata": {},
   "outputs": [
    {
     "data": {
      "text/html": [
       "<div>\n",
       "<style scoped>\n",
       "    .dataframe tbody tr th:only-of-type {\n",
       "        vertical-align: middle;\n",
       "    }\n",
       "\n",
       "    .dataframe tbody tr th {\n",
       "        vertical-align: top;\n",
       "    }\n",
       "\n",
       "    .dataframe thead th {\n",
       "        text-align: right;\n",
       "    }\n",
       "</style>\n",
       "<table border=\"1\" class=\"dataframe\">\n",
       "  <thead>\n",
       "    <tr style=\"text-align: right;\">\n",
       "      <th></th>\n",
       "      <th>Runner</th>\n",
       "      <th>Marathon_Time_hrs</th>\n",
       "    </tr>\n",
       "  </thead>\n",
       "  <tbody>\n",
       "    <tr>\n",
       "      <th>0</th>\n",
       "      <td>Alice</td>\n",
       "      <td>3.5</td>\n",
       "    </tr>\n",
       "    <tr>\n",
       "      <th>1</th>\n",
       "      <td>Bob</td>\n",
       "      <td>4.0</td>\n",
       "    </tr>\n",
       "    <tr>\n",
       "      <th>2</th>\n",
       "      <td>Charlie</td>\n",
       "      <td>3.2</td>\n",
       "    </tr>\n",
       "    <tr>\n",
       "      <th>3</th>\n",
       "      <td>Diana</td>\n",
       "      <td>4.5</td>\n",
       "    </tr>\n",
       "    <tr>\n",
       "      <th>4</th>\n",
       "      <td>Ethan</td>\n",
       "      <td>3.8</td>\n",
       "    </tr>\n",
       "    <tr>\n",
       "      <th>5</th>\n",
       "      <td>Fiona</td>\n",
       "      <td>4.1</td>\n",
       "    </tr>\n",
       "    <tr>\n",
       "      <th>6</th>\n",
       "      <td>George</td>\n",
       "      <td>3.9</td>\n",
       "    </tr>\n",
       "    <tr>\n",
       "      <th>7</th>\n",
       "      <td>Hannah</td>\n",
       "      <td>4.3</td>\n",
       "    </tr>\n",
       "  </tbody>\n",
       "</table>\n",
       "</div>"
      ],
      "text/plain": [
       "    Runner  Marathon_Time_hrs\n",
       "0    Alice                3.5\n",
       "1      Bob                4.0\n",
       "2  Charlie                3.2\n",
       "3    Diana                4.5\n",
       "4    Ethan                3.8\n",
       "5    Fiona                4.1\n",
       "6   George                3.9\n",
       "7   Hannah                4.3"
      ]
     },
     "execution_count": 20,
     "metadata": {},
     "output_type": "execute_result"
    }
   ],
   "source": [
    "df[['Runner','Marathon_Time_hrs']]"
   ]
  },
  {
   "cell_type": "code",
   "execution_count": 21,
   "id": "2a0bf65b",
   "metadata": {},
   "outputs": [
    {
     "data": {
      "text/plain": [
       "Index(['Runner', 'last_name', 'Marathon_Time_hrs', 'Fifty_Miler_Time_hrs',\n",
       "       'Hundred_Miler_Time_hrs', 'last_race_date', 'running_club_id'],\n",
       "      dtype='object')"
      ]
     },
     "execution_count": 21,
     "metadata": {},
     "output_type": "execute_result"
    }
   ],
   "source": [
    "# get all columns\n",
    "df.columns"
   ]
  },
  {
   "cell_type": "code",
   "execution_count": 22,
   "id": "aec8ac44",
   "metadata": {},
   "outputs": [
    {
     "data": {
      "text/plain": [
       "array(['Runner', 'last_name', 'Marathon_Time_hrs', 'Fifty_Miler_Time_hrs',\n",
       "       'Hundred_Miler_Time_hrs', 'last_race_date', 'running_club_id'],\n",
       "      dtype=object)"
      ]
     },
     "execution_count": 22,
     "metadata": {},
     "output_type": "execute_result"
    }
   ],
   "source": [
    "df.columns.values"
   ]
  },
  {
   "cell_type": "code",
   "execution_count": 23,
   "id": "482b2eba",
   "metadata": {},
   "outputs": [
    {
     "data": {
      "text/plain": [
       "['Runner',\n",
       " 'last_name',\n",
       " 'Marathon_Time_hrs',\n",
       " 'Fifty_Miler_Time_hrs',\n",
       " 'Hundred_Miler_Time_hrs',\n",
       " 'last_race_date',\n",
       " 'running_club_id']"
      ]
     },
     "execution_count": 23,
     "metadata": {},
     "output_type": "execute_result"
    }
   ],
   "source": [
    "list(df)"
   ]
  },
  {
   "cell_type": "code",
   "execution_count": 24,
   "id": "a66ad658",
   "metadata": {},
   "outputs": [
    {
     "data": {
      "text/plain": [
       "['Runner',\n",
       " 'last_name',\n",
       " 'Marathon_Time_hrs',\n",
       " 'Fifty_Miler_Time_hrs',\n",
       " 'Hundred_Miler_Time_hrs',\n",
       " 'last_race_date',\n",
       " 'running_club_id']"
      ]
     },
     "execution_count": 24,
     "metadata": {},
     "output_type": "execute_result"
    }
   ],
   "source": [
    "list(df.columns)"
   ]
  },
  {
   "cell_type": "code",
   "execution_count": 25,
   "id": "ad05be1f",
   "metadata": {},
   "outputs": [
    {
     "data": {
      "text/plain": [
       "['Fifty_Miler_Time_hrs',\n",
       " 'Hundred_Miler_Time_hrs',\n",
       " 'Marathon_Time_hrs',\n",
       " 'Runner',\n",
       " 'last_name',\n",
       " 'last_race_date',\n",
       " 'running_club_id']"
      ]
     },
     "execution_count": 25,
     "metadata": {},
     "output_type": "execute_result"
    }
   ],
   "source": [
    "sorted(df.columns)"
   ]
  },
  {
   "cell_type": "code",
   "execution_count": 26,
   "id": "bb5c67e1",
   "metadata": {},
   "outputs": [
    {
     "name": "stdout",
     "output_type": "stream",
     "text": [
      "Runner\n",
      "last_name\n",
      "Marathon_Time_hrs\n",
      "Fifty_Miler_Time_hrs\n",
      "Hundred_Miler_Time_hrs\n",
      "last_race_date\n",
      "running_club_id\n"
     ]
    }
   ],
   "source": [
    "for column_name in df.columns:\n",
    "    print(column_name)"
   ]
  },
  {
   "cell_type": "code",
   "execution_count": 27,
   "id": "b70603e0",
   "metadata": {},
   "outputs": [
    {
     "data": {
      "text/plain": [
       "['Runner',\n",
       " 'last_name',\n",
       " 'Marathon_Time_hrs',\n",
       " 'Fifty_Miler_Time_hrs',\n",
       " 'Hundred_Miler_Time_hrs',\n",
       " 'last_race_date',\n",
       " 'running_club_id']"
      ]
     },
     "execution_count": 27,
     "metadata": {},
     "output_type": "execute_result"
    }
   ],
   "source": [
    "df.keys().to_list()"
   ]
  },
  {
   "cell_type": "code",
   "execution_count": 30,
   "id": "b510d5a4",
   "metadata": {},
   "outputs": [],
   "source": [
    "num_rows=100\n",
    "num_cols=100\n",
    "data=np.random.rand(num_rows,num_cols)"
   ]
  },
  {
   "cell_type": "code",
   "execution_count": 31,
   "id": "9f8af113",
   "metadata": {},
   "outputs": [],
   "source": [
    "column_names=[f'col_{i+1}' for i in range(num_cols)]"
   ]
  },
  {
   "cell_type": "code",
   "execution_count": 32,
   "id": "9b53adce",
   "metadata": {},
   "outputs": [
    {
     "data": {
      "text/html": [
       "<div>\n",
       "<style scoped>\n",
       "    .dataframe tbody tr th:only-of-type {\n",
       "        vertical-align: middle;\n",
       "    }\n",
       "\n",
       "    .dataframe tbody tr th {\n",
       "        vertical-align: top;\n",
       "    }\n",
       "\n",
       "    .dataframe thead th {\n",
       "        text-align: right;\n",
       "    }\n",
       "</style>\n",
       "<table border=\"1\" class=\"dataframe\">\n",
       "  <thead>\n",
       "    <tr style=\"text-align: right;\">\n",
       "      <th></th>\n",
       "      <th>col_1</th>\n",
       "      <th>col_2</th>\n",
       "      <th>col_3</th>\n",
       "      <th>col_4</th>\n",
       "      <th>col_5</th>\n",
       "      <th>col_6</th>\n",
       "      <th>col_7</th>\n",
       "      <th>col_8</th>\n",
       "      <th>col_9</th>\n",
       "      <th>col_10</th>\n",
       "      <th>...</th>\n",
       "      <th>col_91</th>\n",
       "      <th>col_92</th>\n",
       "      <th>col_93</th>\n",
       "      <th>col_94</th>\n",
       "      <th>col_95</th>\n",
       "      <th>col_96</th>\n",
       "      <th>col_97</th>\n",
       "      <th>col_98</th>\n",
       "      <th>col_99</th>\n",
       "      <th>col_100</th>\n",
       "    </tr>\n",
       "  </thead>\n",
       "  <tbody>\n",
       "    <tr>\n",
       "      <th>0</th>\n",
       "      <td>0.713219</td>\n",
       "      <td>0.893378</td>\n",
       "      <td>0.410655</td>\n",
       "      <td>0.398028</td>\n",
       "      <td>0.758324</td>\n",
       "      <td>0.078793</td>\n",
       "      <td>0.495383</td>\n",
       "      <td>0.494462</td>\n",
       "      <td>0.847206</td>\n",
       "      <td>0.028640</td>\n",
       "      <td>...</td>\n",
       "      <td>0.638348</td>\n",
       "      <td>0.161864</td>\n",
       "      <td>0.772086</td>\n",
       "      <td>0.221820</td>\n",
       "      <td>0.952525</td>\n",
       "      <td>0.318323</td>\n",
       "      <td>0.175612</td>\n",
       "      <td>0.353488</td>\n",
       "      <td>0.597196</td>\n",
       "      <td>0.295063</td>\n",
       "    </tr>\n",
       "    <tr>\n",
       "      <th>1</th>\n",
       "      <td>0.797938</td>\n",
       "      <td>0.924110</td>\n",
       "      <td>0.270120</td>\n",
       "      <td>0.374858</td>\n",
       "      <td>0.566839</td>\n",
       "      <td>0.929436</td>\n",
       "      <td>0.245763</td>\n",
       "      <td>0.107419</td>\n",
       "      <td>0.083536</td>\n",
       "      <td>0.582475</td>\n",
       "      <td>...</td>\n",
       "      <td>0.107940</td>\n",
       "      <td>0.039179</td>\n",
       "      <td>0.127920</td>\n",
       "      <td>0.083244</td>\n",
       "      <td>0.808107</td>\n",
       "      <td>0.348827</td>\n",
       "      <td>0.868803</td>\n",
       "      <td>0.905824</td>\n",
       "      <td>0.945200</td>\n",
       "      <td>0.771413</td>\n",
       "    </tr>\n",
       "    <tr>\n",
       "      <th>2</th>\n",
       "      <td>0.439811</td>\n",
       "      <td>0.086186</td>\n",
       "      <td>0.341558</td>\n",
       "      <td>0.144814</td>\n",
       "      <td>0.391471</td>\n",
       "      <td>0.504328</td>\n",
       "      <td>0.770542</td>\n",
       "      <td>0.667305</td>\n",
       "      <td>0.050562</td>\n",
       "      <td>0.716893</td>\n",
       "      <td>...</td>\n",
       "      <td>0.366660</td>\n",
       "      <td>0.390721</td>\n",
       "      <td>0.533652</td>\n",
       "      <td>0.149035</td>\n",
       "      <td>0.578259</td>\n",
       "      <td>0.930614</td>\n",
       "      <td>0.268635</td>\n",
       "      <td>0.491164</td>\n",
       "      <td>0.051956</td>\n",
       "      <td>0.722272</td>\n",
       "    </tr>\n",
       "    <tr>\n",
       "      <th>3</th>\n",
       "      <td>0.293636</td>\n",
       "      <td>0.873846</td>\n",
       "      <td>0.009130</td>\n",
       "      <td>0.066908</td>\n",
       "      <td>0.246297</td>\n",
       "      <td>0.105737</td>\n",
       "      <td>0.093015</td>\n",
       "      <td>0.543471</td>\n",
       "      <td>0.571073</td>\n",
       "      <td>0.282793</td>\n",
       "      <td>...</td>\n",
       "      <td>0.209406</td>\n",
       "      <td>0.552559</td>\n",
       "      <td>0.393887</td>\n",
       "      <td>0.447392</td>\n",
       "      <td>0.122203</td>\n",
       "      <td>0.720952</td>\n",
       "      <td>0.176512</td>\n",
       "      <td>0.566959</td>\n",
       "      <td>0.085161</td>\n",
       "      <td>0.946001</td>\n",
       "    </tr>\n",
       "    <tr>\n",
       "      <th>4</th>\n",
       "      <td>0.642654</td>\n",
       "      <td>0.404800</td>\n",
       "      <td>0.204160</td>\n",
       "      <td>0.763294</td>\n",
       "      <td>0.103074</td>\n",
       "      <td>0.865895</td>\n",
       "      <td>0.906807</td>\n",
       "      <td>0.090661</td>\n",
       "      <td>0.697151</td>\n",
       "      <td>0.332483</td>\n",
       "      <td>...</td>\n",
       "      <td>0.857917</td>\n",
       "      <td>0.291485</td>\n",
       "      <td>0.451676</td>\n",
       "      <td>0.300983</td>\n",
       "      <td>0.378158</td>\n",
       "      <td>0.840905</td>\n",
       "      <td>0.925862</td>\n",
       "      <td>0.841389</td>\n",
       "      <td>0.841803</td>\n",
       "      <td>0.700470</td>\n",
       "    </tr>\n",
       "    <tr>\n",
       "      <th>...</th>\n",
       "      <td>...</td>\n",
       "      <td>...</td>\n",
       "      <td>...</td>\n",
       "      <td>...</td>\n",
       "      <td>...</td>\n",
       "      <td>...</td>\n",
       "      <td>...</td>\n",
       "      <td>...</td>\n",
       "      <td>...</td>\n",
       "      <td>...</td>\n",
       "      <td>...</td>\n",
       "      <td>...</td>\n",
       "      <td>...</td>\n",
       "      <td>...</td>\n",
       "      <td>...</td>\n",
       "      <td>...</td>\n",
       "      <td>...</td>\n",
       "      <td>...</td>\n",
       "      <td>...</td>\n",
       "      <td>...</td>\n",
       "      <td>...</td>\n",
       "    </tr>\n",
       "    <tr>\n",
       "      <th>95</th>\n",
       "      <td>0.015775</td>\n",
       "      <td>0.971711</td>\n",
       "      <td>0.117906</td>\n",
       "      <td>0.123630</td>\n",
       "      <td>0.187177</td>\n",
       "      <td>0.290402</td>\n",
       "      <td>0.203732</td>\n",
       "      <td>0.807622</td>\n",
       "      <td>0.542340</td>\n",
       "      <td>0.783063</td>\n",
       "      <td>...</td>\n",
       "      <td>0.115614</td>\n",
       "      <td>0.305291</td>\n",
       "      <td>0.750212</td>\n",
       "      <td>0.882466</td>\n",
       "      <td>0.345521</td>\n",
       "      <td>0.611776</td>\n",
       "      <td>0.078723</td>\n",
       "      <td>0.194987</td>\n",
       "      <td>0.687396</td>\n",
       "      <td>0.312449</td>\n",
       "    </tr>\n",
       "    <tr>\n",
       "      <th>96</th>\n",
       "      <td>0.068830</td>\n",
       "      <td>0.747331</td>\n",
       "      <td>0.829713</td>\n",
       "      <td>0.814780</td>\n",
       "      <td>0.781952</td>\n",
       "      <td>0.466058</td>\n",
       "      <td>0.333674</td>\n",
       "      <td>0.052885</td>\n",
       "      <td>0.647080</td>\n",
       "      <td>0.559320</td>\n",
       "      <td>...</td>\n",
       "      <td>0.096956</td>\n",
       "      <td>0.856156</td>\n",
       "      <td>0.713070</td>\n",
       "      <td>0.428268</td>\n",
       "      <td>0.435354</td>\n",
       "      <td>0.244489</td>\n",
       "      <td>0.794346</td>\n",
       "      <td>0.826415</td>\n",
       "      <td>0.325487</td>\n",
       "      <td>0.129116</td>\n",
       "    </tr>\n",
       "    <tr>\n",
       "      <th>97</th>\n",
       "      <td>0.309280</td>\n",
       "      <td>0.284127</td>\n",
       "      <td>0.100897</td>\n",
       "      <td>0.846481</td>\n",
       "      <td>0.672287</td>\n",
       "      <td>0.917811</td>\n",
       "      <td>0.064383</td>\n",
       "      <td>0.809418</td>\n",
       "      <td>0.312539</td>\n",
       "      <td>0.234520</td>\n",
       "      <td>...</td>\n",
       "      <td>0.879523</td>\n",
       "      <td>0.063863</td>\n",
       "      <td>0.417463</td>\n",
       "      <td>0.586070</td>\n",
       "      <td>0.245833</td>\n",
       "      <td>0.278600</td>\n",
       "      <td>0.195705</td>\n",
       "      <td>0.574291</td>\n",
       "      <td>0.594224</td>\n",
       "      <td>0.721894</td>\n",
       "    </tr>\n",
       "    <tr>\n",
       "      <th>98</th>\n",
       "      <td>0.572348</td>\n",
       "      <td>0.942743</td>\n",
       "      <td>0.633753</td>\n",
       "      <td>0.120935</td>\n",
       "      <td>0.474547</td>\n",
       "      <td>0.336529</td>\n",
       "      <td>0.780664</td>\n",
       "      <td>0.515143</td>\n",
       "      <td>0.574474</td>\n",
       "      <td>0.038279</td>\n",
       "      <td>...</td>\n",
       "      <td>0.044962</td>\n",
       "      <td>0.598027</td>\n",
       "      <td>0.423976</td>\n",
       "      <td>0.803644</td>\n",
       "      <td>0.875698</td>\n",
       "      <td>0.495491</td>\n",
       "      <td>0.089087</td>\n",
       "      <td>0.260980</td>\n",
       "      <td>0.243936</td>\n",
       "      <td>0.996558</td>\n",
       "    </tr>\n",
       "    <tr>\n",
       "      <th>99</th>\n",
       "      <td>0.950129</td>\n",
       "      <td>0.481852</td>\n",
       "      <td>0.917861</td>\n",
       "      <td>0.092808</td>\n",
       "      <td>0.320029</td>\n",
       "      <td>0.321762</td>\n",
       "      <td>0.829474</td>\n",
       "      <td>0.168499</td>\n",
       "      <td>0.259793</td>\n",
       "      <td>0.735874</td>\n",
       "      <td>...</td>\n",
       "      <td>0.739128</td>\n",
       "      <td>0.704366</td>\n",
       "      <td>0.041837</td>\n",
       "      <td>0.643732</td>\n",
       "      <td>0.259210</td>\n",
       "      <td>0.008092</td>\n",
       "      <td>0.853923</td>\n",
       "      <td>0.265228</td>\n",
       "      <td>0.945069</td>\n",
       "      <td>0.054816</td>\n",
       "    </tr>\n",
       "  </tbody>\n",
       "</table>\n",
       "<p>100 rows × 100 columns</p>\n",
       "</div>"
      ],
      "text/plain": [
       "       col_1     col_2     col_3     col_4     col_5     col_6     col_7  \\\n",
       "0   0.713219  0.893378  0.410655  0.398028  0.758324  0.078793  0.495383   \n",
       "1   0.797938  0.924110  0.270120  0.374858  0.566839  0.929436  0.245763   \n",
       "2   0.439811  0.086186  0.341558  0.144814  0.391471  0.504328  0.770542   \n",
       "3   0.293636  0.873846  0.009130  0.066908  0.246297  0.105737  0.093015   \n",
       "4   0.642654  0.404800  0.204160  0.763294  0.103074  0.865895  0.906807   \n",
       "..       ...       ...       ...       ...       ...       ...       ...   \n",
       "95  0.015775  0.971711  0.117906  0.123630  0.187177  0.290402  0.203732   \n",
       "96  0.068830  0.747331  0.829713  0.814780  0.781952  0.466058  0.333674   \n",
       "97  0.309280  0.284127  0.100897  0.846481  0.672287  0.917811  0.064383   \n",
       "98  0.572348  0.942743  0.633753  0.120935  0.474547  0.336529  0.780664   \n",
       "99  0.950129  0.481852  0.917861  0.092808  0.320029  0.321762  0.829474   \n",
       "\n",
       "       col_8     col_9    col_10  ...    col_91    col_92    col_93    col_94  \\\n",
       "0   0.494462  0.847206  0.028640  ...  0.638348  0.161864  0.772086  0.221820   \n",
       "1   0.107419  0.083536  0.582475  ...  0.107940  0.039179  0.127920  0.083244   \n",
       "2   0.667305  0.050562  0.716893  ...  0.366660  0.390721  0.533652  0.149035   \n",
       "3   0.543471  0.571073  0.282793  ...  0.209406  0.552559  0.393887  0.447392   \n",
       "4   0.090661  0.697151  0.332483  ...  0.857917  0.291485  0.451676  0.300983   \n",
       "..       ...       ...       ...  ...       ...       ...       ...       ...   \n",
       "95  0.807622  0.542340  0.783063  ...  0.115614  0.305291  0.750212  0.882466   \n",
       "96  0.052885  0.647080  0.559320  ...  0.096956  0.856156  0.713070  0.428268   \n",
       "97  0.809418  0.312539  0.234520  ...  0.879523  0.063863  0.417463  0.586070   \n",
       "98  0.515143  0.574474  0.038279  ...  0.044962  0.598027  0.423976  0.803644   \n",
       "99  0.168499  0.259793  0.735874  ...  0.739128  0.704366  0.041837  0.643732   \n",
       "\n",
       "      col_95    col_96    col_97    col_98    col_99   col_100  \n",
       "0   0.952525  0.318323  0.175612  0.353488  0.597196  0.295063  \n",
       "1   0.808107  0.348827  0.868803  0.905824  0.945200  0.771413  \n",
       "2   0.578259  0.930614  0.268635  0.491164  0.051956  0.722272  \n",
       "3   0.122203  0.720952  0.176512  0.566959  0.085161  0.946001  \n",
       "4   0.378158  0.840905  0.925862  0.841389  0.841803  0.700470  \n",
       "..       ...       ...       ...       ...       ...       ...  \n",
       "95  0.345521  0.611776  0.078723  0.194987  0.687396  0.312449  \n",
       "96  0.435354  0.244489  0.794346  0.826415  0.325487  0.129116  \n",
       "97  0.245833  0.278600  0.195705  0.574291  0.594224  0.721894  \n",
       "98  0.875698  0.495491  0.089087  0.260980  0.243936  0.996558  \n",
       "99  0.259210  0.008092  0.853923  0.265228  0.945069  0.054816  \n",
       "\n",
       "[100 rows x 100 columns]"
      ]
     },
     "execution_count": 32,
     "metadata": {},
     "output_type": "execute_result"
    }
   ],
   "source": [
    "df_100=pd.DataFrame(data,columns=column_names)\n",
    "df_100"
   ]
  },
  {
   "cell_type": "code",
   "execution_count": 33,
   "id": "a922ecb5",
   "metadata": {},
   "outputs": [
    {
     "data": {
      "text/plain": [
       "Runner                     object\n",
       "last_name                  object\n",
       "Marathon_Time_hrs         float64\n",
       "Fifty_Miler_Time_hrs      float64\n",
       "Hundred_Miler_Time_hrs    float64\n",
       "last_race_date             object\n",
       "running_club_id             int64\n",
       "dtype: object"
      ]
     },
     "execution_count": 33,
     "metadata": {},
     "output_type": "execute_result"
    }
   ],
   "source": [
    "# column types\n",
    "df.dtypes"
   ]
  },
  {
   "cell_type": "code",
   "execution_count": 34,
   "id": "b4fe4b20",
   "metadata": {},
   "outputs": [],
   "source": [
    "# convert column types\n",
    "df['last_race_date']=pd.to_datetime(df['last_race_date'])"
   ]
  },
  {
   "cell_type": "code",
   "execution_count": 35,
   "id": "ce60cea0",
   "metadata": {},
   "outputs": [],
   "source": [
    "# change to float \n",
    "df['running_club_id']=df['running_club_id'].astype('float')"
   ]
  },
  {
   "cell_type": "code",
   "execution_count": 36,
   "id": "faaa0761",
   "metadata": {},
   "outputs": [],
   "source": [
    "# rename columns\n",
    "df.rename(columns={'Marathon_Time_hrs':'262_Time_hrs'},inplace=True)"
   ]
  },
  {
   "cell_type": "code",
   "execution_count": 37,
   "id": "959f1e12",
   "metadata": {},
   "outputs": [],
   "source": [
    "# create columns from numbers\n",
    "df['total_time']=df['262_Time_hrs']+df['Fifty_Miler_Time_hrs']+df['Hundred_Miler_Time_hrs']"
   ]
  },
  {
   "cell_type": "code",
   "execution_count": 38,
   "id": "5228d63e",
   "metadata": {},
   "outputs": [],
   "source": [
    "# create new column from string\n",
    "df['full_name']=df['Runner']+' '+df['last_name']"
   ]
  },
  {
   "cell_type": "code",
   "execution_count": 40,
   "id": "36e41b97",
   "metadata": {},
   "outputs": [
    {
     "data": {
      "text/html": [
       "<div>\n",
       "<style scoped>\n",
       "    .dataframe tbody tr th:only-of-type {\n",
       "        vertical-align: middle;\n",
       "    }\n",
       "\n",
       "    .dataframe tbody tr th {\n",
       "        vertical-align: top;\n",
       "    }\n",
       "\n",
       "    .dataframe thead th {\n",
       "        text-align: right;\n",
       "    }\n",
       "</style>\n",
       "<table border=\"1\" class=\"dataframe\">\n",
       "  <thead>\n",
       "    <tr style=\"text-align: right;\">\n",
       "      <th></th>\n",
       "      <th>Runner</th>\n",
       "      <th>last_name</th>\n",
       "      <th>262_Time_hrs</th>\n",
       "      <th>Fifty_Miler_Time_hrs</th>\n",
       "      <th>Hundred_Miler_Time_hrs</th>\n",
       "      <th>last_race_date</th>\n",
       "      <th>running_club_id</th>\n",
       "      <th>total_time</th>\n",
       "      <th>full_name</th>\n",
       "      <th>race_shirt_size</th>\n",
       "    </tr>\n",
       "  </thead>\n",
       "  <tbody>\n",
       "    <tr>\n",
       "      <th>0</th>\n",
       "      <td>Alice</td>\n",
       "      <td>Morgan</td>\n",
       "      <td>3.5</td>\n",
       "      <td>8.0</td>\n",
       "      <td>20.5</td>\n",
       "      <td>2025-04-27</td>\n",
       "      <td>123.0</td>\n",
       "      <td>32.0</td>\n",
       "      <td>Alice Morgan</td>\n",
       "      <td>S</td>\n",
       "    </tr>\n",
       "    <tr>\n",
       "      <th>1</th>\n",
       "      <td>Bob</td>\n",
       "      <td>Thompson</td>\n",
       "      <td>4.0</td>\n",
       "      <td>9.5</td>\n",
       "      <td>23.0</td>\n",
       "      <td>2025-05-24</td>\n",
       "      <td>345.0</td>\n",
       "      <td>36.5</td>\n",
       "      <td>Bob Thompson</td>\n",
       "      <td>M</td>\n",
       "    </tr>\n",
       "    <tr>\n",
       "      <th>2</th>\n",
       "      <td>Charlie</td>\n",
       "      <td>Reed</td>\n",
       "      <td>3.2</td>\n",
       "      <td>7.8</td>\n",
       "      <td>18.7</td>\n",
       "      <td>2025-12-13</td>\n",
       "      <td>123.0</td>\n",
       "      <td>29.7</td>\n",
       "      <td>Charlie Reed</td>\n",
       "      <td>M</td>\n",
       "    </tr>\n",
       "    <tr>\n",
       "      <th>3</th>\n",
       "      <td>Diana</td>\n",
       "      <td>Santiago</td>\n",
       "      <td>4.5</td>\n",
       "      <td>10.2</td>\n",
       "      <td>25.2</td>\n",
       "      <td>2025-04-27</td>\n",
       "      <td>678.0</td>\n",
       "      <td>39.9</td>\n",
       "      <td>Diana Santiago</td>\n",
       "      <td>L</td>\n",
       "    </tr>\n",
       "    <tr>\n",
       "      <th>4</th>\n",
       "      <td>Ethan</td>\n",
       "      <td>Kim</td>\n",
       "      <td>3.8</td>\n",
       "      <td>9.0</td>\n",
       "      <td>21.5</td>\n",
       "      <td>2025-05-24</td>\n",
       "      <td>342.0</td>\n",
       "      <td>34.3</td>\n",
       "      <td>Ethan Kim</td>\n",
       "      <td>M</td>\n",
       "    </tr>\n",
       "  </tbody>\n",
       "</table>\n",
       "</div>"
      ],
      "text/plain": [
       "    Runner last_name  262_Time_hrs  Fifty_Miler_Time_hrs  \\\n",
       "0    Alice    Morgan           3.5                   8.0   \n",
       "1      Bob  Thompson           4.0                   9.5   \n",
       "2  Charlie      Reed           3.2                   7.8   \n",
       "3    Diana  Santiago           4.5                  10.2   \n",
       "4    Ethan       Kim           3.8                   9.0   \n",
       "\n",
       "   Hundred_Miler_Time_hrs last_race_date  running_club_id  total_time  \\\n",
       "0                    20.5     2025-04-27            123.0        32.0   \n",
       "1                    23.0     2025-05-24            345.0        36.5   \n",
       "2                    18.7     2025-12-13            123.0        29.7   \n",
       "3                    25.2     2025-04-27            678.0        39.9   \n",
       "4                    21.5     2025-05-24            342.0        34.3   \n",
       "\n",
       "        full_name race_shirt_size  \n",
       "0    Alice Morgan               S  \n",
       "1    Bob Thompson               M  \n",
       "2    Charlie Reed               M  \n",
       "3  Diana Santiago               L  \n",
       "4       Ethan Kim               M  "
      ]
     },
     "execution_count": 40,
     "metadata": {},
     "output_type": "execute_result"
    }
   ],
   "source": [
    "# create a new column from new data \n",
    "shirt_sizes = ['S', 'M', 'M', 'L', 'M', 'S', 'L', 'XL']\n",
    "df['race_shirt_size']=shirt_sizes\n",
    "df.head()"
   ]
  },
  {
   "cell_type": "code",
   "execution_count": 42,
   "id": "73bf0fb7",
   "metadata": {},
   "outputs": [],
   "source": [
    "df.drop(columns='race_shirt_size',inplace=True)"
   ]
  },
  {
   "cell_type": "code",
   "execution_count": 43,
   "id": "be9f3dba",
   "metadata": {},
   "outputs": [],
   "source": [
    "# reorder columns \n",
    "df = df[['full_name', 'running_club_id', 'Hundred_Miler_Time_hrs', 'Fifty_Miler_Time_hrs', '262_Time_hrs']]"
   ]
  },
  {
   "cell_type": "code",
   "execution_count": 44,
   "id": "3dea4287",
   "metadata": {},
   "outputs": [
    {
     "data": {
      "text/html": [
       "<div>\n",
       "<style scoped>\n",
       "    .dataframe tbody tr th:only-of-type {\n",
       "        vertical-align: middle;\n",
       "    }\n",
       "\n",
       "    .dataframe tbody tr th {\n",
       "        vertical-align: top;\n",
       "    }\n",
       "\n",
       "    .dataframe thead th {\n",
       "        text-align: right;\n",
       "    }\n",
       "</style>\n",
       "<table border=\"1\" class=\"dataframe\">\n",
       "  <thead>\n",
       "    <tr style=\"text-align: right;\">\n",
       "      <th></th>\n",
       "      <th>running_club_id</th>\n",
       "      <th>Hundred_Miler_Time_hrs</th>\n",
       "      <th>Fifty_Miler_Time_hrs</th>\n",
       "      <th>262_Time_hrs</th>\n",
       "    </tr>\n",
       "    <tr>\n",
       "      <th>full_name</th>\n",
       "      <th></th>\n",
       "      <th></th>\n",
       "      <th></th>\n",
       "      <th></th>\n",
       "    </tr>\n",
       "  </thead>\n",
       "  <tbody>\n",
       "    <tr>\n",
       "      <th>Alice Morgan</th>\n",
       "      <td>123.0</td>\n",
       "      <td>20.5</td>\n",
       "      <td>8.0</td>\n",
       "      <td>3.5</td>\n",
       "    </tr>\n",
       "    <tr>\n",
       "      <th>Bob Thompson</th>\n",
       "      <td>345.0</td>\n",
       "      <td>23.0</td>\n",
       "      <td>9.5</td>\n",
       "      <td>4.0</td>\n",
       "    </tr>\n",
       "    <tr>\n",
       "      <th>Charlie Reed</th>\n",
       "      <td>123.0</td>\n",
       "      <td>18.7</td>\n",
       "      <td>7.8</td>\n",
       "      <td>3.2</td>\n",
       "    </tr>\n",
       "    <tr>\n",
       "      <th>Diana Santiago</th>\n",
       "      <td>678.0</td>\n",
       "      <td>25.2</td>\n",
       "      <td>10.2</td>\n",
       "      <td>4.5</td>\n",
       "    </tr>\n",
       "    <tr>\n",
       "      <th>Ethan Kim</th>\n",
       "      <td>342.0</td>\n",
       "      <td>21.5</td>\n",
       "      <td>9.0</td>\n",
       "      <td>3.8</td>\n",
       "    </tr>\n",
       "    <tr>\n",
       "      <th>Fiona Nguyen</th>\n",
       "      <td>123.0</td>\n",
       "      <td>24.1</td>\n",
       "      <td>10.0</td>\n",
       "      <td>4.1</td>\n",
       "    </tr>\n",
       "    <tr>\n",
       "      <th>George Patel</th>\n",
       "      <td>345.0</td>\n",
       "      <td>22.3</td>\n",
       "      <td>9.2</td>\n",
       "      <td>3.9</td>\n",
       "    </tr>\n",
       "    <tr>\n",
       "      <th>Hannah Brooks</th>\n",
       "      <td>123.0</td>\n",
       "      <td>26.0</td>\n",
       "      <td>10.5</td>\n",
       "      <td>4.3</td>\n",
       "    </tr>\n",
       "  </tbody>\n",
       "</table>\n",
       "</div>"
      ],
      "text/plain": [
       "                running_club_id  Hundred_Miler_Time_hrs  Fifty_Miler_Time_hrs  \\\n",
       "full_name                                                                       \n",
       "Alice Morgan              123.0                    20.5                   8.0   \n",
       "Bob Thompson              345.0                    23.0                   9.5   \n",
       "Charlie Reed              123.0                    18.7                   7.8   \n",
       "Diana Santiago            678.0                    25.2                  10.2   \n",
       "Ethan Kim                 342.0                    21.5                   9.0   \n",
       "Fiona Nguyen              123.0                    24.1                  10.0   \n",
       "George Patel              345.0                    22.3                   9.2   \n",
       "Hannah Brooks             123.0                    26.0                  10.5   \n",
       "\n",
       "                262_Time_hrs  \n",
       "full_name                     \n",
       "Alice Morgan             3.5  \n",
       "Bob Thompson             4.0  \n",
       "Charlie Reed             3.2  \n",
       "Diana Santiago           4.5  \n",
       "Ethan Kim                3.8  \n",
       "Fiona Nguyen             4.1  \n",
       "George Patel             3.9  \n",
       "Hannah Brooks            4.3  "
      ]
     },
     "execution_count": 44,
     "metadata": {},
     "output_type": "execute_result"
    }
   ],
   "source": [
    "# set index\n",
    "df.set_index('full_name')"
   ]
  },
  {
   "cell_type": "code",
   "execution_count": 45,
   "id": "06bc8b64",
   "metadata": {},
   "outputs": [],
   "source": [
    "df = df.set_index(['full_name', 'running_club_id'])"
   ]
  },
  {
   "cell_type": "code",
   "execution_count": 46,
   "id": "522461fe",
   "metadata": {},
   "outputs": [
    {
     "data": {
      "text/html": [
       "<div>\n",
       "<style scoped>\n",
       "    .dataframe tbody tr th:only-of-type {\n",
       "        vertical-align: middle;\n",
       "    }\n",
       "\n",
       "    .dataframe tbody tr th {\n",
       "        vertical-align: top;\n",
       "    }\n",
       "\n",
       "    .dataframe thead th {\n",
       "        text-align: right;\n",
       "    }\n",
       "</style>\n",
       "<table border=\"1\" class=\"dataframe\">\n",
       "  <thead>\n",
       "    <tr style=\"text-align: right;\">\n",
       "      <th></th>\n",
       "      <th>full_name</th>\n",
       "      <th>running_club_id</th>\n",
       "      <th>Hundred_Miler_Time_hrs</th>\n",
       "      <th>Fifty_Miler_Time_hrs</th>\n",
       "      <th>262_Time_hrs</th>\n",
       "    </tr>\n",
       "  </thead>\n",
       "  <tbody>\n",
       "    <tr>\n",
       "      <th>0</th>\n",
       "      <td>Alice Morgan</td>\n",
       "      <td>123.0</td>\n",
       "      <td>20.5</td>\n",
       "      <td>8.0</td>\n",
       "      <td>3.5</td>\n",
       "    </tr>\n",
       "    <tr>\n",
       "      <th>1</th>\n",
       "      <td>Bob Thompson</td>\n",
       "      <td>345.0</td>\n",
       "      <td>23.0</td>\n",
       "      <td>9.5</td>\n",
       "      <td>4.0</td>\n",
       "    </tr>\n",
       "    <tr>\n",
       "      <th>2</th>\n",
       "      <td>Charlie Reed</td>\n",
       "      <td>123.0</td>\n",
       "      <td>18.7</td>\n",
       "      <td>7.8</td>\n",
       "      <td>3.2</td>\n",
       "    </tr>\n",
       "    <tr>\n",
       "      <th>3</th>\n",
       "      <td>Diana Santiago</td>\n",
       "      <td>678.0</td>\n",
       "      <td>25.2</td>\n",
       "      <td>10.2</td>\n",
       "      <td>4.5</td>\n",
       "    </tr>\n",
       "    <tr>\n",
       "      <th>4</th>\n",
       "      <td>Ethan Kim</td>\n",
       "      <td>342.0</td>\n",
       "      <td>21.5</td>\n",
       "      <td>9.0</td>\n",
       "      <td>3.8</td>\n",
       "    </tr>\n",
       "    <tr>\n",
       "      <th>5</th>\n",
       "      <td>Fiona Nguyen</td>\n",
       "      <td>123.0</td>\n",
       "      <td>24.1</td>\n",
       "      <td>10.0</td>\n",
       "      <td>4.1</td>\n",
       "    </tr>\n",
       "    <tr>\n",
       "      <th>6</th>\n",
       "      <td>George Patel</td>\n",
       "      <td>345.0</td>\n",
       "      <td>22.3</td>\n",
       "      <td>9.2</td>\n",
       "      <td>3.9</td>\n",
       "    </tr>\n",
       "    <tr>\n",
       "      <th>7</th>\n",
       "      <td>Hannah Brooks</td>\n",
       "      <td>123.0</td>\n",
       "      <td>26.0</td>\n",
       "      <td>10.5</td>\n",
       "      <td>4.3</td>\n",
       "    </tr>\n",
       "  </tbody>\n",
       "</table>\n",
       "</div>"
      ],
      "text/plain": [
       "        full_name  running_club_id  Hundred_Miler_Time_hrs  \\\n",
       "0    Alice Morgan            123.0                    20.5   \n",
       "1    Bob Thompson            345.0                    23.0   \n",
       "2    Charlie Reed            123.0                    18.7   \n",
       "3  Diana Santiago            678.0                    25.2   \n",
       "4       Ethan Kim            342.0                    21.5   \n",
       "5    Fiona Nguyen            123.0                    24.1   \n",
       "6    George Patel            345.0                    22.3   \n",
       "7   Hannah Brooks            123.0                    26.0   \n",
       "\n",
       "   Fifty_Miler_Time_hrs  262_Time_hrs  \n",
       "0                   8.0           3.5  \n",
       "1                   9.5           4.0  \n",
       "2                   7.8           3.2  \n",
       "3                  10.2           4.5  \n",
       "4                   9.0           3.8  \n",
       "5                  10.0           4.1  \n",
       "6                   9.2           3.9  \n",
       "7                  10.5           4.3  "
      ]
     },
     "execution_count": 46,
     "metadata": {},
     "output_type": "execute_result"
    }
   ],
   "source": [
    "# reset index\n",
    "df.reset_index()"
   ]
  },
  {
   "cell_type": "code",
   "execution_count": 48,
   "id": "9be2f33c",
   "metadata": {},
   "outputs": [
    {
     "data": {
      "text/html": [
       "<div>\n",
       "<style scoped>\n",
       "    .dataframe tbody tr th:only-of-type {\n",
       "        vertical-align: middle;\n",
       "    }\n",
       "\n",
       "    .dataframe tbody tr th {\n",
       "        vertical-align: top;\n",
       "    }\n",
       "\n",
       "    .dataframe thead th {\n",
       "        text-align: right;\n",
       "    }\n",
       "</style>\n",
       "<table border=\"1\" class=\"dataframe\">\n",
       "  <thead>\n",
       "    <tr style=\"text-align: right;\">\n",
       "      <th></th>\n",
       "      <th>Hundred_Miler_Time_hrs</th>\n",
       "      <th>Fifty_Miler_Time_hrs</th>\n",
       "      <th>262_Time_hrs</th>\n",
       "    </tr>\n",
       "  </thead>\n",
       "  <tbody>\n",
       "    <tr>\n",
       "      <th>count</th>\n",
       "      <td>8.000000</td>\n",
       "      <td>8.000000</td>\n",
       "      <td>8.00000</td>\n",
       "    </tr>\n",
       "    <tr>\n",
       "      <th>mean</th>\n",
       "      <td>22.662500</td>\n",
       "      <td>9.275000</td>\n",
       "      <td>3.91250</td>\n",
       "    </tr>\n",
       "    <tr>\n",
       "      <th>std</th>\n",
       "      <td>2.438347</td>\n",
       "      <td>0.986697</td>\n",
       "      <td>0.41897</td>\n",
       "    </tr>\n",
       "    <tr>\n",
       "      <th>min</th>\n",
       "      <td>18.700000</td>\n",
       "      <td>7.800000</td>\n",
       "      <td>3.20000</td>\n",
       "    </tr>\n",
       "    <tr>\n",
       "      <th>25%</th>\n",
       "      <td>21.250000</td>\n",
       "      <td>8.750000</td>\n",
       "      <td>3.72500</td>\n",
       "    </tr>\n",
       "    <tr>\n",
       "      <th>50%</th>\n",
       "      <td>22.650000</td>\n",
       "      <td>9.350000</td>\n",
       "      <td>3.95000</td>\n",
       "    </tr>\n",
       "    <tr>\n",
       "      <th>75%</th>\n",
       "      <td>24.375000</td>\n",
       "      <td>10.050000</td>\n",
       "      <td>4.15000</td>\n",
       "    </tr>\n",
       "    <tr>\n",
       "      <th>max</th>\n",
       "      <td>26.000000</td>\n",
       "      <td>10.500000</td>\n",
       "      <td>4.50000</td>\n",
       "    </tr>\n",
       "  </tbody>\n",
       "</table>\n",
       "</div>"
      ],
      "text/plain": [
       "       Hundred_Miler_Time_hrs  Fifty_Miler_Time_hrs  262_Time_hrs\n",
       "count                8.000000              8.000000       8.00000\n",
       "mean                22.662500              9.275000       3.91250\n",
       "std                  2.438347              0.986697       0.41897\n",
       "min                 18.700000              7.800000       3.20000\n",
       "25%                 21.250000              8.750000       3.72500\n",
       "50%                 22.650000              9.350000       3.95000\n",
       "75%                 24.375000             10.050000       4.15000\n",
       "max                 26.000000             10.500000       4.50000"
      ]
     },
     "execution_count": 48,
     "metadata": {},
     "output_type": "execute_result"
    }
   ],
   "source": [
    "# describe\n",
    "df.describe()"
   ]
  },
  {
   "cell_type": "code",
   "execution_count": 52,
   "id": "7acf0fdd",
   "metadata": {},
   "outputs": [],
   "source": [
    "# cleaning up column values\n",
    "data3 = {\n",
    "    'Runner': ['Alice', 'Bob', 'Charlie', 'David', 'Eve'],\n",
    "    'Temperature (C)': [20, 18, np.nan, 22, 21],\n",
    "    'Time (min)': [25.5, 30.2, np.nan, 22.1, 28.4],\n",
    "    'Distance (km)': [5.0, np.nan, 5.0, 4.5, 5.0],\n",
    "    'Location': ['Park', 'Track', 'Trail', np.nan, 'Park'],\n",
    "}\n",
    "df3=pd.DataFrame(data3)"
   ]
  },
  {
   "cell_type": "code",
   "execution_count": 56,
   "id": "da5ee856",
   "metadata": {},
   "outputs": [
    {
     "data": {
      "text/plain": [
       "0    False\n",
       "1    False\n",
       "2     True\n",
       "3    False\n",
       "4    False\n",
       "Name: Time (min), dtype: bool"
      ]
     },
     "execution_count": 56,
     "metadata": {},
     "output_type": "execute_result"
    }
   ],
   "source": [
    "# missing values \n",
    "df3['Time (min)'].isna()"
   ]
  },
  {
   "cell_type": "code",
   "execution_count": 55,
   "id": "2ca8104f",
   "metadata": {},
   "outputs": [
    {
     "data": {
      "text/plain": [
       "['Temperature (C)', 'Time (min)', 'Distance (km)', 'Location']"
      ]
     },
     "execution_count": 55,
     "metadata": {},
     "output_type": "execute_result"
    }
   ],
   "source": [
    "# return columns that have null values\n",
    "df3.columns[df3.isna().any()].tolist()"
   ]
  },
  {
   "cell_type": "code",
   "execution_count": null,
   "id": "d7715f53",
   "metadata": {},
   "outputs": [],
   "source": [
    "# fill up the na values\n",
    "df3['Time (min)'] = df3['Time (min)'].fillna(30)"
   ]
  },
  {
   "cell_type": "code",
   "execution_count": 59,
   "id": "eaf16e40",
   "metadata": {},
   "outputs": [
    {
     "data": {
      "text/html": [
       "<div>\n",
       "<style scoped>\n",
       "    .dataframe tbody tr th:only-of-type {\n",
       "        vertical-align: middle;\n",
       "    }\n",
       "\n",
       "    .dataframe tbody tr th {\n",
       "        vertical-align: top;\n",
       "    }\n",
       "\n",
       "    .dataframe thead th {\n",
       "        text-align: right;\n",
       "    }\n",
       "</style>\n",
       "<table border=\"1\" class=\"dataframe\">\n",
       "  <thead>\n",
       "    <tr style=\"text-align: right;\">\n",
       "      <th></th>\n",
       "      <th>Runner</th>\n",
       "      <th>Temperature (C)</th>\n",
       "      <th>Time (min)</th>\n",
       "      <th>Distance (km)</th>\n",
       "      <th>Location</th>\n",
       "    </tr>\n",
       "  </thead>\n",
       "  <tbody>\n",
       "    <tr>\n",
       "      <th>0</th>\n",
       "      <td>Alice</td>\n",
       "      <td>20.0</td>\n",
       "      <td>25.5</td>\n",
       "      <td>5.0</td>\n",
       "      <td>Park</td>\n",
       "    </tr>\n",
       "    <tr>\n",
       "      <th>2</th>\n",
       "      <td>Charlie</td>\n",
       "      <td>NaN</td>\n",
       "      <td>30.0</td>\n",
       "      <td>5.0</td>\n",
       "      <td>Trail</td>\n",
       "    </tr>\n",
       "    <tr>\n",
       "      <th>3</th>\n",
       "      <td>David</td>\n",
       "      <td>22.0</td>\n",
       "      <td>22.1</td>\n",
       "      <td>4.5</td>\n",
       "      <td>NaN</td>\n",
       "    </tr>\n",
       "    <tr>\n",
       "      <th>4</th>\n",
       "      <td>Eve</td>\n",
       "      <td>21.0</td>\n",
       "      <td>28.4</td>\n",
       "      <td>5.0</td>\n",
       "      <td>Park</td>\n",
       "    </tr>\n",
       "  </tbody>\n",
       "</table>\n",
       "</div>"
      ],
      "text/plain": [
       "    Runner  Temperature (C)  Time (min)  Distance (km) Location\n",
       "0    Alice             20.0        25.5            5.0     Park\n",
       "2  Charlie              NaN        30.0            5.0    Trail\n",
       "3    David             22.0        22.1            4.5      NaN\n",
       "4      Eve             21.0        28.4            5.0     Park"
      ]
     },
     "execution_count": 59,
     "metadata": {},
     "output_type": "execute_result"
    }
   ],
   "source": [
    "# drop rows with na values\n",
    "df3_drop = df3.dropna(subset=['Distance (km)'])\n",
    "df3_drop"
   ]
  },
  {
   "cell_type": "code",
   "execution_count": 60,
   "id": "30b2f930",
   "metadata": {},
   "outputs": [],
   "source": [
    "# drop off a whole column if there is any na values\n",
    "df3_drop_column = df3_drop.dropna(axis=1)"
   ]
  },
  {
   "cell_type": "code",
   "execution_count": 61,
   "id": "0af21816",
   "metadata": {},
   "outputs": [
    {
     "data": {
      "text/html": [
       "<div>\n",
       "<style scoped>\n",
       "    .dataframe tbody tr th:only-of-type {\n",
       "        vertical-align: middle;\n",
       "    }\n",
       "\n",
       "    .dataframe tbody tr th {\n",
       "        vertical-align: top;\n",
       "    }\n",
       "\n",
       "    .dataframe thead th {\n",
       "        text-align: right;\n",
       "    }\n",
       "</style>\n",
       "<table border=\"1\" class=\"dataframe\">\n",
       "  <thead>\n",
       "    <tr style=\"text-align: right;\">\n",
       "      <th></th>\n",
       "      <th>Runner</th>\n",
       "      <th>Time (min)</th>\n",
       "      <th>Distance (km)</th>\n",
       "    </tr>\n",
       "  </thead>\n",
       "  <tbody>\n",
       "    <tr>\n",
       "      <th>0</th>\n",
       "      <td>Alice</td>\n",
       "      <td>25.5</td>\n",
       "      <td>5.0</td>\n",
       "    </tr>\n",
       "    <tr>\n",
       "      <th>2</th>\n",
       "      <td>Charlie</td>\n",
       "      <td>30.0</td>\n",
       "      <td>5.0</td>\n",
       "    </tr>\n",
       "    <tr>\n",
       "      <th>3</th>\n",
       "      <td>David</td>\n",
       "      <td>22.1</td>\n",
       "      <td>4.5</td>\n",
       "    </tr>\n",
       "    <tr>\n",
       "      <th>4</th>\n",
       "      <td>Eve</td>\n",
       "      <td>28.4</td>\n",
       "      <td>5.0</td>\n",
       "    </tr>\n",
       "  </tbody>\n",
       "</table>\n",
       "</div>"
      ],
      "text/plain": [
       "    Runner  Time (min)  Distance (km)\n",
       "0    Alice        25.5            5.0\n",
       "2  Charlie        30.0            5.0\n",
       "3    David        22.1            4.5\n",
       "4      Eve        28.4            5.0"
      ]
     },
     "execution_count": 61,
     "metadata": {},
     "output_type": "execute_result"
    }
   ],
   "source": [
    "df3_drop_column"
   ]
  },
  {
   "cell_type": "code",
   "execution_count": 67,
   "id": "2866acc8",
   "metadata": {},
   "outputs": [],
   "source": [
    "df4 = pd.DataFrame({\n",
    "    ' Runner Name ': ['Alex', 'Bri', 'Chris'],\n",
    "    ' Total Time ': [45, 50, 42],\n",
    "    'Average Pace': [5.0, 5.5, 4.8],\n",
    "    '  Calories Burned  ': [300, 320, 310]\n",
    "})\n"
   ]
  },
  {
   "cell_type": "code",
   "execution_count": 65,
   "id": "3bf3a8ab",
   "metadata": {},
   "outputs": [],
   "source": [
    "df4.columns = df4.columns.str.strip()"
   ]
  },
  {
   "cell_type": "code",
   "execution_count": 66,
   "id": "38ce5fa7",
   "metadata": {},
   "outputs": [
    {
     "data": {
      "text/html": [
       "<div>\n",
       "<style scoped>\n",
       "    .dataframe tbody tr th:only-of-type {\n",
       "        vertical-align: middle;\n",
       "    }\n",
       "\n",
       "    .dataframe tbody tr th {\n",
       "        vertical-align: top;\n",
       "    }\n",
       "\n",
       "    .dataframe thead th {\n",
       "        text-align: right;\n",
       "    }\n",
       "</style>\n",
       "<table border=\"1\" class=\"dataframe\">\n",
       "  <thead>\n",
       "    <tr style=\"text-align: right;\">\n",
       "      <th></th>\n",
       "      <th>Runner Name</th>\n",
       "      <th>Total Time</th>\n",
       "      <th>Average Pace</th>\n",
       "      <th>Calories Burned</th>\n",
       "    </tr>\n",
       "  </thead>\n",
       "  <tbody>\n",
       "    <tr>\n",
       "      <th>0</th>\n",
       "      <td>Alex</td>\n",
       "      <td>45</td>\n",
       "      <td>5.0</td>\n",
       "      <td>300</td>\n",
       "    </tr>\n",
       "    <tr>\n",
       "      <th>1</th>\n",
       "      <td>Bri</td>\n",
       "      <td>50</td>\n",
       "      <td>5.5</td>\n",
       "      <td>320</td>\n",
       "    </tr>\n",
       "    <tr>\n",
       "      <th>2</th>\n",
       "      <td>Chris</td>\n",
       "      <td>42</td>\n",
       "      <td>4.8</td>\n",
       "      <td>310</td>\n",
       "    </tr>\n",
       "  </tbody>\n",
       "</table>\n",
       "</div>"
      ],
      "text/plain": [
       "  Runner Name  Total Time  Average Pace  Calories Burned\n",
       "0        Alex          45           5.0              300\n",
       "1         Bri          50           5.5              320\n",
       "2       Chris          42           4.8              310"
      ]
     },
     "execution_count": 66,
     "metadata": {},
     "output_type": "execute_result"
    }
   ],
   "source": [
    "df4"
   ]
  },
  {
   "cell_type": "code",
   "execution_count": 68,
   "id": "7401fb56",
   "metadata": {},
   "outputs": [],
   "source": [
    "df4.columns = df4.columns.str.replace(' ', '_')"
   ]
  },
  {
   "cell_type": "code",
   "execution_count": 69,
   "id": "a83cf5a8",
   "metadata": {},
   "outputs": [
    {
     "data": {
      "text/html": [
       "<div>\n",
       "<style scoped>\n",
       "    .dataframe tbody tr th:only-of-type {\n",
       "        vertical-align: middle;\n",
       "    }\n",
       "\n",
       "    .dataframe tbody tr th {\n",
       "        vertical-align: top;\n",
       "    }\n",
       "\n",
       "    .dataframe thead th {\n",
       "        text-align: right;\n",
       "    }\n",
       "</style>\n",
       "<table border=\"1\" class=\"dataframe\">\n",
       "  <thead>\n",
       "    <tr style=\"text-align: right;\">\n",
       "      <th></th>\n",
       "      <th>_Runner_Name_</th>\n",
       "      <th>_Total_Time_</th>\n",
       "      <th>Average_Pace</th>\n",
       "      <th>__Calories_Burned__</th>\n",
       "    </tr>\n",
       "  </thead>\n",
       "  <tbody>\n",
       "    <tr>\n",
       "      <th>0</th>\n",
       "      <td>Alex</td>\n",
       "      <td>45</td>\n",
       "      <td>5.0</td>\n",
       "      <td>300</td>\n",
       "    </tr>\n",
       "    <tr>\n",
       "      <th>1</th>\n",
       "      <td>Bri</td>\n",
       "      <td>50</td>\n",
       "      <td>5.5</td>\n",
       "      <td>320</td>\n",
       "    </tr>\n",
       "    <tr>\n",
       "      <th>2</th>\n",
       "      <td>Chris</td>\n",
       "      <td>42</td>\n",
       "      <td>4.8</td>\n",
       "      <td>310</td>\n",
       "    </tr>\n",
       "  </tbody>\n",
       "</table>\n",
       "</div>"
      ],
      "text/plain": [
       "  _Runner_Name_  _Total_Time_  Average_Pace  __Calories_Burned__\n",
       "0          Alex            45           5.0                  300\n",
       "1           Bri            50           5.5                  320\n",
       "2         Chris            42           4.8                  310"
      ]
     },
     "execution_count": 69,
     "metadata": {},
     "output_type": "execute_result"
    }
   ],
   "source": [
    "df4"
   ]
  },
  {
   "cell_type": "code",
   "execution_count": 70,
   "id": "0950c2dc",
   "metadata": {},
   "outputs": [],
   "source": [
    "df4.columns = df4.columns.str.lower()"
   ]
  },
  {
   "cell_type": "code",
   "execution_count": 71,
   "id": "b7ffeba4",
   "metadata": {},
   "outputs": [
    {
     "data": {
      "text/html": [
       "<div>\n",
       "<style scoped>\n",
       "    .dataframe tbody tr th:only-of-type {\n",
       "        vertical-align: middle;\n",
       "    }\n",
       "\n",
       "    .dataframe tbody tr th {\n",
       "        vertical-align: top;\n",
       "    }\n",
       "\n",
       "    .dataframe thead th {\n",
       "        text-align: right;\n",
       "    }\n",
       "</style>\n",
       "<table border=\"1\" class=\"dataframe\">\n",
       "  <thead>\n",
       "    <tr style=\"text-align: right;\">\n",
       "      <th></th>\n",
       "      <th>_runner_name_</th>\n",
       "      <th>_total_time_</th>\n",
       "      <th>average_pace</th>\n",
       "      <th>__calories_burned__</th>\n",
       "    </tr>\n",
       "  </thead>\n",
       "  <tbody>\n",
       "    <tr>\n",
       "      <th>0</th>\n",
       "      <td>Alex</td>\n",
       "      <td>45</td>\n",
       "      <td>5.0</td>\n",
       "      <td>300</td>\n",
       "    </tr>\n",
       "    <tr>\n",
       "      <th>1</th>\n",
       "      <td>Bri</td>\n",
       "      <td>50</td>\n",
       "      <td>5.5</td>\n",
       "      <td>320</td>\n",
       "    </tr>\n",
       "    <tr>\n",
       "      <th>2</th>\n",
       "      <td>Chris</td>\n",
       "      <td>42</td>\n",
       "      <td>4.8</td>\n",
       "      <td>310</td>\n",
       "    </tr>\n",
       "  </tbody>\n",
       "</table>\n",
       "</div>"
      ],
      "text/plain": [
       "  _runner_name_  _total_time_  average_pace  __calories_burned__\n",
       "0          Alex            45           5.0                  300\n",
       "1           Bri            50           5.5                  320\n",
       "2         Chris            42           4.8                  310"
      ]
     },
     "execution_count": 71,
     "metadata": {},
     "output_type": "execute_result"
    }
   ],
   "source": [
    "df4"
   ]
  },
  {
   "cell_type": "code",
   "execution_count": 72,
   "id": "4ad4302b",
   "metadata": {},
   "outputs": [
    {
     "data": {
      "text/html": [
       "<div>\n",
       "<style scoped>\n",
       "    .dataframe tbody tr th:only-of-type {\n",
       "        vertical-align: middle;\n",
       "    }\n",
       "\n",
       "    .dataframe tbody tr th {\n",
       "        vertical-align: top;\n",
       "    }\n",
       "\n",
       "    .dataframe thead th {\n",
       "        text-align: right;\n",
       "    }\n",
       "</style>\n",
       "<table border=\"1\" class=\"dataframe\">\n",
       "  <thead>\n",
       "    <tr style=\"text-align: right;\">\n",
       "      <th></th>\n",
       "      <th>_runner_name_</th>\n",
       "      <th>_total_time_</th>\n",
       "      <th>average_pace</th>\n",
       "      <th>__calories_burned__</th>\n",
       "    </tr>\n",
       "  </thead>\n",
       "  <tbody>\n",
       "    <tr>\n",
       "      <th>1</th>\n",
       "      <td>Bri</td>\n",
       "      <td>50</td>\n",
       "      <td>5.5</td>\n",
       "      <td>320</td>\n",
       "    </tr>\n",
       "  </tbody>\n",
       "</table>\n",
       "</div>"
      ],
      "text/plain": [
       "  _runner_name_  _total_time_  average_pace  __calories_burned__\n",
       "1           Bri            50           5.5                  320"
      ]
     },
     "execution_count": 72,
     "metadata": {},
     "output_type": "execute_result"
    }
   ],
   "source": [
    "df4[df4['average_pace'] > 5]"
   ]
  },
  {
   "cell_type": "code",
   "execution_count": 74,
   "id": "f79abf94",
   "metadata": {},
   "outputs": [
    {
     "data": {
      "text/html": [
       "<div>\n",
       "<style scoped>\n",
       "    .dataframe tbody tr th:only-of-type {\n",
       "        vertical-align: middle;\n",
       "    }\n",
       "\n",
       "    .dataframe tbody tr th {\n",
       "        vertical-align: top;\n",
       "    }\n",
       "\n",
       "    .dataframe thead th {\n",
       "        text-align: right;\n",
       "    }\n",
       "</style>\n",
       "<table border=\"1\" class=\"dataframe\">\n",
       "  <thead>\n",
       "    <tr style=\"text-align: right;\">\n",
       "      <th></th>\n",
       "      <th>_runner_name_</th>\n",
       "      <th>_total_time_</th>\n",
       "      <th>average_pace</th>\n",
       "      <th>__calories_burned__</th>\n",
       "    </tr>\n",
       "  </thead>\n",
       "  <tbody>\n",
       "    <tr>\n",
       "      <th>0</th>\n",
       "      <td>Alex</td>\n",
       "      <td>45</td>\n",
       "      <td>5.0</td>\n",
       "      <td>300</td>\n",
       "    </tr>\n",
       "    <tr>\n",
       "      <th>1</th>\n",
       "      <td>Bri</td>\n",
       "      <td>50</td>\n",
       "      <td>5.5</td>\n",
       "      <td>320</td>\n",
       "    </tr>\n",
       "  </tbody>\n",
       "</table>\n",
       "</div>"
      ],
      "text/plain": [
       "  _runner_name_  _total_time_  average_pace  __calories_burned__\n",
       "0          Alex            45           5.0                  300\n",
       "1           Bri            50           5.5                  320"
      ]
     },
     "execution_count": 74,
     "metadata": {},
     "output_type": "execute_result"
    }
   ],
   "source": [
    "df4[(df4['__calories_burned__'] < 350) & (df4['_total_time_'] > 43)]"
   ]
  },
  {
   "cell_type": "code",
   "execution_count": 75,
   "id": "6a22d74b",
   "metadata": {},
   "outputs": [
    {
     "data": {
      "text/html": [
       "<div>\n",
       "<style scoped>\n",
       "    .dataframe tbody tr th:only-of-type {\n",
       "        vertical-align: middle;\n",
       "    }\n",
       "\n",
       "    .dataframe tbody tr th {\n",
       "        vertical-align: top;\n",
       "    }\n",
       "\n",
       "    .dataframe thead th {\n",
       "        text-align: right;\n",
       "    }\n",
       "</style>\n",
       "<table border=\"1\" class=\"dataframe\">\n",
       "  <thead>\n",
       "    <tr style=\"text-align: right;\">\n",
       "      <th></th>\n",
       "      <th>_runner_name_</th>\n",
       "      <th>_total_time_</th>\n",
       "      <th>average_pace</th>\n",
       "      <th>__calories_burned__</th>\n",
       "    </tr>\n",
       "  </thead>\n",
       "  <tbody>\n",
       "    <tr>\n",
       "      <th>0</th>\n",
       "      <td>Alex</td>\n",
       "      <td>45</td>\n",
       "      <td>5.0</td>\n",
       "      <td>300</td>\n",
       "    </tr>\n",
       "    <tr>\n",
       "      <th>1</th>\n",
       "      <td>Bri</td>\n",
       "      <td>50</td>\n",
       "      <td>5.5</td>\n",
       "      <td>320</td>\n",
       "    </tr>\n",
       "    <tr>\n",
       "      <th>2</th>\n",
       "      <td>Chris</td>\n",
       "      <td>42</td>\n",
       "      <td>4.8</td>\n",
       "      <td>310</td>\n",
       "    </tr>\n",
       "  </tbody>\n",
       "</table>\n",
       "</div>"
      ],
      "text/plain": [
       "  _runner_name_  _total_time_  average_pace  __calories_burned__\n",
       "0          Alex            45           5.0                  300\n",
       "1           Bri            50           5.5                  320\n",
       "2         Chris            42           4.8                  310"
      ]
     },
     "execution_count": 75,
     "metadata": {},
     "output_type": "execute_result"
    }
   ],
   "source": [
    "df4[(df4['__calories_burned__'] < 350) | (df4['_total_time_'] > 43)]"
   ]
  },
  {
   "cell_type": "code",
   "execution_count": 78,
   "id": "a13aa186",
   "metadata": {},
   "outputs": [
    {
     "data": {
      "text/plain": [
       "np.int64(45)"
      ]
     },
     "execution_count": 78,
     "metadata": {},
     "output_type": "execute_result"
    }
   ],
   "source": [
    "df4.loc[0, '_total_time_']"
   ]
  },
  {
   "cell_type": "code",
   "execution_count": 80,
   "id": "79441efe",
   "metadata": {},
   "outputs": [
    {
     "data": {
      "text/html": [
       "<div>\n",
       "<style scoped>\n",
       "    .dataframe tbody tr th:only-of-type {\n",
       "        vertical-align: middle;\n",
       "    }\n",
       "\n",
       "    .dataframe tbody tr th {\n",
       "        vertical-align: top;\n",
       "    }\n",
       "\n",
       "    .dataframe thead th {\n",
       "        text-align: right;\n",
       "    }\n",
       "</style>\n",
       "<table border=\"1\" class=\"dataframe\">\n",
       "  <thead>\n",
       "    <tr style=\"text-align: right;\">\n",
       "      <th></th>\n",
       "      <th>_total_time_</th>\n",
       "      <th>average_pace</th>\n",
       "      <th>__calories_burned__</th>\n",
       "    </tr>\n",
       "  </thead>\n",
       "  <tbody>\n",
       "    <tr>\n",
       "      <th>0</th>\n",
       "      <td>45</td>\n",
       "      <td>5.0</td>\n",
       "      <td>300</td>\n",
       "    </tr>\n",
       "    <tr>\n",
       "      <th>1</th>\n",
       "      <td>50</td>\n",
       "      <td>5.5</td>\n",
       "      <td>320</td>\n",
       "    </tr>\n",
       "    <tr>\n",
       "      <th>2</th>\n",
       "      <td>42</td>\n",
       "      <td>4.8</td>\n",
       "      <td>310</td>\n",
       "    </tr>\n",
       "  </tbody>\n",
       "</table>\n",
       "</div>"
      ],
      "text/plain": [
       "   _total_time_  average_pace  __calories_burned__\n",
       "0            45           5.0                  300\n",
       "1            50           5.5                  320\n",
       "2            42           4.8                  310"
      ]
     },
     "execution_count": 80,
     "metadata": {},
     "output_type": "execute_result"
    }
   ],
   "source": [
    "df4.loc[:, '_total_time_':'__calories_burned__']"
   ]
  },
  {
   "cell_type": "code",
   "execution_count": 82,
   "id": "2c28d817",
   "metadata": {},
   "outputs": [
    {
     "data": {
      "text/html": [
       "<div>\n",
       "<style scoped>\n",
       "    .dataframe tbody tr th:only-of-type {\n",
       "        vertical-align: middle;\n",
       "    }\n",
       "\n",
       "    .dataframe tbody tr th {\n",
       "        vertical-align: top;\n",
       "    }\n",
       "\n",
       "    .dataframe thead th {\n",
       "        text-align: right;\n",
       "    }\n",
       "</style>\n",
       "<table border=\"1\" class=\"dataframe\">\n",
       "  <thead>\n",
       "    <tr style=\"text-align: right;\">\n",
       "      <th></th>\n",
       "      <th>_total_time_</th>\n",
       "      <th>__calories_burned__</th>\n",
       "    </tr>\n",
       "  </thead>\n",
       "  <tbody>\n",
       "    <tr>\n",
       "      <th>0</th>\n",
       "      <td>45</td>\n",
       "      <td>300</td>\n",
       "    </tr>\n",
       "    <tr>\n",
       "      <th>1</th>\n",
       "      <td>50</td>\n",
       "      <td>320</td>\n",
       "    </tr>\n",
       "    <tr>\n",
       "      <th>2</th>\n",
       "      <td>42</td>\n",
       "      <td>310</td>\n",
       "    </tr>\n",
       "  </tbody>\n",
       "</table>\n",
       "</div>"
      ],
      "text/plain": [
       "   _total_time_  __calories_burned__\n",
       "0            45                  300\n",
       "1            50                  320\n",
       "2            42                  310"
      ]
     },
     "execution_count": 82,
     "metadata": {},
     "output_type": "execute_result"
    }
   ],
   "source": [
    "df4.loc[:, ['_total_time_','__calories_burned__']]"
   ]
  },
  {
   "cell_type": "code",
   "execution_count": 83,
   "id": "97a98c83",
   "metadata": {},
   "outputs": [
    {
     "data": {
      "text/plain": [
       "'Alex'"
      ]
     },
     "execution_count": 83,
     "metadata": {},
     "output_type": "execute_result"
    }
   ],
   "source": [
    "df4.iloc[0, 0]"
   ]
  },
  {
   "cell_type": "code",
   "execution_count": 84,
   "id": "ec068fda",
   "metadata": {},
   "outputs": [
    {
     "data": {
      "text/html": [
       "<div>\n",
       "<style scoped>\n",
       "    .dataframe tbody tr th:only-of-type {\n",
       "        vertical-align: middle;\n",
       "    }\n",
       "\n",
       "    .dataframe tbody tr th {\n",
       "        vertical-align: top;\n",
       "    }\n",
       "\n",
       "    .dataframe thead th {\n",
       "        text-align: right;\n",
       "    }\n",
       "</style>\n",
       "<table border=\"1\" class=\"dataframe\">\n",
       "  <thead>\n",
       "    <tr style=\"text-align: right;\">\n",
       "      <th></th>\n",
       "      <th>_total_time_</th>\n",
       "      <th>average_pace</th>\n",
       "    </tr>\n",
       "  </thead>\n",
       "  <tbody>\n",
       "    <tr>\n",
       "      <th>0</th>\n",
       "      <td>45</td>\n",
       "      <td>5.0</td>\n",
       "    </tr>\n",
       "    <tr>\n",
       "      <th>1</th>\n",
       "      <td>50</td>\n",
       "      <td>5.5</td>\n",
       "    </tr>\n",
       "  </tbody>\n",
       "</table>\n",
       "</div>"
      ],
      "text/plain": [
       "   _total_time_  average_pace\n",
       "0            45           5.0\n",
       "1            50           5.5"
      ]
     },
     "execution_count": 84,
     "metadata": {},
     "output_type": "execute_result"
    }
   ],
   "source": [
    "df4.iloc[0:2, 1:3]"
   ]
  },
  {
   "cell_type": "code",
   "execution_count": null,
   "id": "696b2a91",
   "metadata": {},
   "outputs": [],
   "source": []
  }
 ],
 "metadata": {
  "kernelspec": {
   "display_name": ".venv",
   "language": "python",
   "name": "python3"
  },
  "language_info": {
   "codemirror_mode": {
    "name": "ipython",
    "version": 3
   },
   "file_extension": ".py",
   "mimetype": "text/x-python",
   "name": "python",
   "nbconvert_exporter": "python",
   "pygments_lexer": "ipython3",
   "version": "3.13.7"
  }
 },
 "nbformat": 4,
 "nbformat_minor": 5
}
