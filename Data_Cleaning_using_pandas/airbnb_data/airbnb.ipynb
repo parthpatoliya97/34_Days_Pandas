{
 "cells": [
  {
   "cell_type": "code",
   "execution_count": 72,
   "id": "f9ae1ccb",
   "metadata": {},
   "outputs": [],
   "source": [
    "import pandas as pd"
   ]
  },
  {
   "cell_type": "code",
   "execution_count": 73,
   "id": "c51e977b",
   "metadata": {},
   "outputs": [
    {
     "name": "stderr",
     "output_type": "stream",
     "text": [
      "C:\\Users\\hp\\AppData\\Local\\Temp\\ipykernel_6908\\181192011.py:1: DtypeWarning: Columns (25) have mixed types. Specify dtype option on import or set low_memory=False.\n",
      "  df=pd.read_csv('Airbnb_Open_Data.csv')\n"
     ]
    }
   ],
   "source": [
    "df=pd.read_csv('Airbnb_Open_Data.csv')"
   ]
  },
  {
   "cell_type": "code",
   "execution_count": 74,
   "id": "ef86d3a2",
   "metadata": {},
   "outputs": [
    {
     "data": {
      "text/html": [
       "<div>\n",
       "<style scoped>\n",
       "    .dataframe tbody tr th:only-of-type {\n",
       "        vertical-align: middle;\n",
       "    }\n",
       "\n",
       "    .dataframe tbody tr th {\n",
       "        vertical-align: top;\n",
       "    }\n",
       "\n",
       "    .dataframe thead th {\n",
       "        text-align: right;\n",
       "    }\n",
       "</style>\n",
       "<table border=\"1\" class=\"dataframe\">\n",
       "  <thead>\n",
       "    <tr style=\"text-align: right;\">\n",
       "      <th></th>\n",
       "      <th>id</th>\n",
       "      <th>NAME</th>\n",
       "      <th>host id</th>\n",
       "      <th>host_identity_verified</th>\n",
       "      <th>host name</th>\n",
       "      <th>neighbourhood group</th>\n",
       "      <th>neighbourhood</th>\n",
       "      <th>lat</th>\n",
       "      <th>long</th>\n",
       "      <th>country</th>\n",
       "      <th>...</th>\n",
       "      <th>service fee</th>\n",
       "      <th>minimum nights</th>\n",
       "      <th>number of reviews</th>\n",
       "      <th>last review</th>\n",
       "      <th>reviews per month</th>\n",
       "      <th>review rate number</th>\n",
       "      <th>calculated host listings count</th>\n",
       "      <th>availability 365</th>\n",
       "      <th>house_rules</th>\n",
       "      <th>license</th>\n",
       "    </tr>\n",
       "  </thead>\n",
       "  <tbody>\n",
       "    <tr>\n",
       "      <th>0</th>\n",
       "      <td>1001254</td>\n",
       "      <td>Clean &amp; quiet apt home by the park</td>\n",
       "      <td>80014485718</td>\n",
       "      <td>unconfirmed</td>\n",
       "      <td>Madaline</td>\n",
       "      <td>Brooklyn</td>\n",
       "      <td>Kensington</td>\n",
       "      <td>40.64749</td>\n",
       "      <td>-73.97237</td>\n",
       "      <td>United States</td>\n",
       "      <td>...</td>\n",
       "      <td>$193</td>\n",
       "      <td>10.0</td>\n",
       "      <td>9.0</td>\n",
       "      <td>10/19/2021</td>\n",
       "      <td>0.21</td>\n",
       "      <td>4.0</td>\n",
       "      <td>6.0</td>\n",
       "      <td>286.0</td>\n",
       "      <td>Clean up and treat the home the way you'd like...</td>\n",
       "      <td>NaN</td>\n",
       "    </tr>\n",
       "    <tr>\n",
       "      <th>1</th>\n",
       "      <td>1002102</td>\n",
       "      <td>Skylit Midtown Castle</td>\n",
       "      <td>52335172823</td>\n",
       "      <td>verified</td>\n",
       "      <td>Jenna</td>\n",
       "      <td>Manhattan</td>\n",
       "      <td>Midtown</td>\n",
       "      <td>40.75362</td>\n",
       "      <td>-73.98377</td>\n",
       "      <td>United States</td>\n",
       "      <td>...</td>\n",
       "      <td>$28</td>\n",
       "      <td>30.0</td>\n",
       "      <td>45.0</td>\n",
       "      <td>5/21/2022</td>\n",
       "      <td>0.38</td>\n",
       "      <td>4.0</td>\n",
       "      <td>2.0</td>\n",
       "      <td>228.0</td>\n",
       "      <td>Pet friendly but please confirm with me if the...</td>\n",
       "      <td>NaN</td>\n",
       "    </tr>\n",
       "    <tr>\n",
       "      <th>2</th>\n",
       "      <td>1002403</td>\n",
       "      <td>THE VILLAGE OF HARLEM....NEW YORK !</td>\n",
       "      <td>78829239556</td>\n",
       "      <td>NaN</td>\n",
       "      <td>Elise</td>\n",
       "      <td>Manhattan</td>\n",
       "      <td>Harlem</td>\n",
       "      <td>40.80902</td>\n",
       "      <td>-73.94190</td>\n",
       "      <td>United States</td>\n",
       "      <td>...</td>\n",
       "      <td>$124</td>\n",
       "      <td>3.0</td>\n",
       "      <td>0.0</td>\n",
       "      <td>NaN</td>\n",
       "      <td>NaN</td>\n",
       "      <td>5.0</td>\n",
       "      <td>1.0</td>\n",
       "      <td>352.0</td>\n",
       "      <td>I encourage you to use my kitchen, cooking and...</td>\n",
       "      <td>NaN</td>\n",
       "    </tr>\n",
       "    <tr>\n",
       "      <th>3</th>\n",
       "      <td>1002755</td>\n",
       "      <td>NaN</td>\n",
       "      <td>85098326012</td>\n",
       "      <td>unconfirmed</td>\n",
       "      <td>Garry</td>\n",
       "      <td>Brooklyn</td>\n",
       "      <td>Clinton Hill</td>\n",
       "      <td>40.68514</td>\n",
       "      <td>-73.95976</td>\n",
       "      <td>United States</td>\n",
       "      <td>...</td>\n",
       "      <td>$74</td>\n",
       "      <td>30.0</td>\n",
       "      <td>270.0</td>\n",
       "      <td>7/5/2019</td>\n",
       "      <td>4.64</td>\n",
       "      <td>4.0</td>\n",
       "      <td>1.0</td>\n",
       "      <td>322.0</td>\n",
       "      <td>NaN</td>\n",
       "      <td>NaN</td>\n",
       "    </tr>\n",
       "    <tr>\n",
       "      <th>4</th>\n",
       "      <td>1003689</td>\n",
       "      <td>Entire Apt: Spacious Studio/Loft by central park</td>\n",
       "      <td>92037596077</td>\n",
       "      <td>verified</td>\n",
       "      <td>Lyndon</td>\n",
       "      <td>Manhattan</td>\n",
       "      <td>East Harlem</td>\n",
       "      <td>40.79851</td>\n",
       "      <td>-73.94399</td>\n",
       "      <td>United States</td>\n",
       "      <td>...</td>\n",
       "      <td>$41</td>\n",
       "      <td>10.0</td>\n",
       "      <td>9.0</td>\n",
       "      <td>11/19/2018</td>\n",
       "      <td>0.10</td>\n",
       "      <td>3.0</td>\n",
       "      <td>1.0</td>\n",
       "      <td>289.0</td>\n",
       "      <td>Please no smoking in the house, porch or on th...</td>\n",
       "      <td>NaN</td>\n",
       "    </tr>\n",
       "    <tr>\n",
       "      <th>5</th>\n",
       "      <td>1004098</td>\n",
       "      <td>Large Cozy 1 BR Apartment In Midtown East</td>\n",
       "      <td>45498551794</td>\n",
       "      <td>verified</td>\n",
       "      <td>Michelle</td>\n",
       "      <td>Manhattan</td>\n",
       "      <td>Murray Hill</td>\n",
       "      <td>40.74767</td>\n",
       "      <td>-73.97500</td>\n",
       "      <td>United States</td>\n",
       "      <td>...</td>\n",
       "      <td>$115</td>\n",
       "      <td>3.0</td>\n",
       "      <td>74.0</td>\n",
       "      <td>6/22/2019</td>\n",
       "      <td>0.59</td>\n",
       "      <td>3.0</td>\n",
       "      <td>1.0</td>\n",
       "      <td>374.0</td>\n",
       "      <td>No smoking, please, and no drugs.</td>\n",
       "      <td>NaN</td>\n",
       "    </tr>\n",
       "    <tr>\n",
       "      <th>6</th>\n",
       "      <td>1004650</td>\n",
       "      <td>BlissArtsSpace!</td>\n",
       "      <td>61300605564</td>\n",
       "      <td>NaN</td>\n",
       "      <td>Alberta</td>\n",
       "      <td>Brooklyn</td>\n",
       "      <td>Bedford-Stuyvesant</td>\n",
       "      <td>40.68688</td>\n",
       "      <td>-73.95596</td>\n",
       "      <td>United States</td>\n",
       "      <td>...</td>\n",
       "      <td>$14</td>\n",
       "      <td>45.0</td>\n",
       "      <td>49.0</td>\n",
       "      <td>10/5/2017</td>\n",
       "      <td>0.40</td>\n",
       "      <td>5.0</td>\n",
       "      <td>1.0</td>\n",
       "      <td>224.0</td>\n",
       "      <td>Please no shoes in the house so bring slippers...</td>\n",
       "      <td>NaN</td>\n",
       "    </tr>\n",
       "    <tr>\n",
       "      <th>7</th>\n",
       "      <td>1005202</td>\n",
       "      <td>BlissArtsSpace!</td>\n",
       "      <td>90821839709</td>\n",
       "      <td>unconfirmed</td>\n",
       "      <td>Emma</td>\n",
       "      <td>Brooklyn</td>\n",
       "      <td>Bedford-Stuyvesant</td>\n",
       "      <td>40.68688</td>\n",
       "      <td>-73.95596</td>\n",
       "      <td>United States</td>\n",
       "      <td>...</td>\n",
       "      <td>$212</td>\n",
       "      <td>45.0</td>\n",
       "      <td>49.0</td>\n",
       "      <td>10/5/2017</td>\n",
       "      <td>0.40</td>\n",
       "      <td>5.0</td>\n",
       "      <td>1.0</td>\n",
       "      <td>219.0</td>\n",
       "      <td>House Guidelines for our BnB We are delighted ...</td>\n",
       "      <td>NaN</td>\n",
       "    </tr>\n",
       "    <tr>\n",
       "      <th>8</th>\n",
       "      <td>1005754</td>\n",
       "      <td>Large Furnished Room Near B'way</td>\n",
       "      <td>79384379533</td>\n",
       "      <td>verified</td>\n",
       "      <td>Evelyn</td>\n",
       "      <td>Manhattan</td>\n",
       "      <td>Hell's Kitchen</td>\n",
       "      <td>40.76489</td>\n",
       "      <td>-73.98493</td>\n",
       "      <td>United States</td>\n",
       "      <td>...</td>\n",
       "      <td>$204</td>\n",
       "      <td>2.0</td>\n",
       "      <td>430.0</td>\n",
       "      <td>6/24/2019</td>\n",
       "      <td>3.47</td>\n",
       "      <td>3.0</td>\n",
       "      <td>1.0</td>\n",
       "      <td>180.0</td>\n",
       "      <td>- Please clean up after yourself when using th...</td>\n",
       "      <td>NaN</td>\n",
       "    </tr>\n",
       "    <tr>\n",
       "      <th>9</th>\n",
       "      <td>1006307</td>\n",
       "      <td>Cozy Clean Guest Room - Family Apt</td>\n",
       "      <td>75527839483</td>\n",
       "      <td>unconfirmed</td>\n",
       "      <td>Carl</td>\n",
       "      <td>Manhattan</td>\n",
       "      <td>Upper West Side</td>\n",
       "      <td>40.80178</td>\n",
       "      <td>-73.96723</td>\n",
       "      <td>United States</td>\n",
       "      <td>...</td>\n",
       "      <td>$58</td>\n",
       "      <td>2.0</td>\n",
       "      <td>118.0</td>\n",
       "      <td>7/21/2017</td>\n",
       "      <td>0.99</td>\n",
       "      <td>5.0</td>\n",
       "      <td>1.0</td>\n",
       "      <td>375.0</td>\n",
       "      <td>NO SMOKING OR PETS ANYWHERE ON THE PROPERTY 1....</td>\n",
       "      <td>NaN</td>\n",
       "    </tr>\n",
       "  </tbody>\n",
       "</table>\n",
       "<p>10 rows × 26 columns</p>\n",
       "</div>"
      ],
      "text/plain": [
       "        id                                              NAME      host id  \\\n",
       "0  1001254                Clean & quiet apt home by the park  80014485718   \n",
       "1  1002102                             Skylit Midtown Castle  52335172823   \n",
       "2  1002403               THE VILLAGE OF HARLEM....NEW YORK !  78829239556   \n",
       "3  1002755                                               NaN  85098326012   \n",
       "4  1003689  Entire Apt: Spacious Studio/Loft by central park  92037596077   \n",
       "5  1004098         Large Cozy 1 BR Apartment In Midtown East  45498551794   \n",
       "6  1004650                                   BlissArtsSpace!  61300605564   \n",
       "7  1005202                                   BlissArtsSpace!  90821839709   \n",
       "8  1005754                   Large Furnished Room Near B'way  79384379533   \n",
       "9  1006307                Cozy Clean Guest Room - Family Apt  75527839483   \n",
       "\n",
       "  host_identity_verified host name neighbourhood group       neighbourhood  \\\n",
       "0            unconfirmed  Madaline            Brooklyn          Kensington   \n",
       "1               verified     Jenna           Manhattan             Midtown   \n",
       "2                    NaN     Elise           Manhattan              Harlem   \n",
       "3            unconfirmed     Garry            Brooklyn        Clinton Hill   \n",
       "4               verified    Lyndon           Manhattan         East Harlem   \n",
       "5               verified  Michelle           Manhattan         Murray Hill   \n",
       "6                    NaN   Alberta            Brooklyn  Bedford-Stuyvesant   \n",
       "7            unconfirmed      Emma            Brooklyn  Bedford-Stuyvesant   \n",
       "8               verified    Evelyn           Manhattan      Hell's Kitchen   \n",
       "9            unconfirmed      Carl           Manhattan     Upper West Side   \n",
       "\n",
       "        lat      long        country  ... service fee minimum nights  \\\n",
       "0  40.64749 -73.97237  United States  ...       $193            10.0   \n",
       "1  40.75362 -73.98377  United States  ...        $28            30.0   \n",
       "2  40.80902 -73.94190  United States  ...       $124             3.0   \n",
       "3  40.68514 -73.95976  United States  ...        $74            30.0   \n",
       "4  40.79851 -73.94399  United States  ...        $41            10.0   \n",
       "5  40.74767 -73.97500  United States  ...       $115             3.0   \n",
       "6  40.68688 -73.95596  United States  ...        $14            45.0   \n",
       "7  40.68688 -73.95596  United States  ...       $212            45.0   \n",
       "8  40.76489 -73.98493  United States  ...       $204             2.0   \n",
       "9  40.80178 -73.96723  United States  ...        $58             2.0   \n",
       "\n",
       "  number of reviews last review  reviews per month review rate number  \\\n",
       "0               9.0  10/19/2021               0.21                4.0   \n",
       "1              45.0   5/21/2022               0.38                4.0   \n",
       "2               0.0         NaN                NaN                5.0   \n",
       "3             270.0    7/5/2019               4.64                4.0   \n",
       "4               9.0  11/19/2018               0.10                3.0   \n",
       "5              74.0   6/22/2019               0.59                3.0   \n",
       "6              49.0   10/5/2017               0.40                5.0   \n",
       "7              49.0   10/5/2017               0.40                5.0   \n",
       "8             430.0   6/24/2019               3.47                3.0   \n",
       "9             118.0   7/21/2017               0.99                5.0   \n",
       "\n",
       "  calculated host listings count  availability 365  \\\n",
       "0                            6.0             286.0   \n",
       "1                            2.0             228.0   \n",
       "2                            1.0             352.0   \n",
       "3                            1.0             322.0   \n",
       "4                            1.0             289.0   \n",
       "5                            1.0             374.0   \n",
       "6                            1.0             224.0   \n",
       "7                            1.0             219.0   \n",
       "8                            1.0             180.0   \n",
       "9                            1.0             375.0   \n",
       "\n",
       "                                         house_rules license  \n",
       "0  Clean up and treat the home the way you'd like...     NaN  \n",
       "1  Pet friendly but please confirm with me if the...     NaN  \n",
       "2  I encourage you to use my kitchen, cooking and...     NaN  \n",
       "3                                                NaN     NaN  \n",
       "4  Please no smoking in the house, porch or on th...     NaN  \n",
       "5                  No smoking, please, and no drugs.     NaN  \n",
       "6  Please no shoes in the house so bring slippers...     NaN  \n",
       "7  House Guidelines for our BnB We are delighted ...     NaN  \n",
       "8  - Please clean up after yourself when using th...     NaN  \n",
       "9  NO SMOKING OR PETS ANYWHERE ON THE PROPERTY 1....     NaN  \n",
       "\n",
       "[10 rows x 26 columns]"
      ]
     },
     "execution_count": 74,
     "metadata": {},
     "output_type": "execute_result"
    }
   ],
   "source": [
    "df.head(10)"
   ]
  },
  {
   "cell_type": "code",
   "execution_count": 75,
   "id": "df1f7b69",
   "metadata": {},
   "outputs": [
    {
     "data": {
      "text/plain": [
       "(102599, 26)"
      ]
     },
     "execution_count": 75,
     "metadata": {},
     "output_type": "execute_result"
    }
   ],
   "source": [
    "df.shape"
   ]
  },
  {
   "cell_type": "code",
   "execution_count": 76,
   "id": "204338e7",
   "metadata": {},
   "outputs": [
    {
     "data": {
      "text/plain": [
       "id                                  int64\n",
       "NAME                               object\n",
       "host id                             int64\n",
       "host_identity_verified             object\n",
       "host name                          object\n",
       "neighbourhood group                object\n",
       "neighbourhood                      object\n",
       "lat                               float64\n",
       "long                              float64\n",
       "country                            object\n",
       "country code                       object\n",
       "instant_bookable                   object\n",
       "cancellation_policy                object\n",
       "room type                          object\n",
       "Construction year                 float64\n",
       "price                              object\n",
       "service fee                        object\n",
       "minimum nights                    float64\n",
       "number of reviews                 float64\n",
       "last review                        object\n",
       "reviews per month                 float64\n",
       "review rate number                float64\n",
       "calculated host listings count    float64\n",
       "availability 365                  float64\n",
       "house_rules                        object\n",
       "license                            object\n",
       "dtype: object"
      ]
     },
     "execution_count": 76,
     "metadata": {},
     "output_type": "execute_result"
    }
   ],
   "source": [
    "df.dtypes"
   ]
  },
  {
   "cell_type": "code",
   "execution_count": 77,
   "id": "5f292258",
   "metadata": {},
   "outputs": [
    {
     "name": "stdout",
     "output_type": "stream",
     "text": [
      "<class 'pandas.core.frame.DataFrame'>\n",
      "RangeIndex: 102599 entries, 0 to 102598\n",
      "Data columns (total 26 columns):\n",
      " #   Column                          Non-Null Count   Dtype  \n",
      "---  ------                          --------------   -----  \n",
      " 0   id                              102599 non-null  int64  \n",
      " 1   NAME                            102349 non-null  object \n",
      " 2   host id                         102599 non-null  int64  \n",
      " 3   host_identity_verified          102310 non-null  object \n",
      " 4   host name                       102193 non-null  object \n",
      " 5   neighbourhood group             102570 non-null  object \n",
      " 6   neighbourhood                   102583 non-null  object \n",
      " 7   lat                             102591 non-null  float64\n",
      " 8   long                            102591 non-null  float64\n",
      " 9   country                         102067 non-null  object \n",
      " 10  country code                    102468 non-null  object \n",
      " 11  instant_bookable                102494 non-null  object \n",
      " 12  cancellation_policy             102523 non-null  object \n",
      " 13  room type                       102599 non-null  object \n",
      " 14  Construction year               102385 non-null  float64\n",
      " 15  price                           102352 non-null  object \n",
      " 16  service fee                     102326 non-null  object \n",
      " 17  minimum nights                  102190 non-null  float64\n",
      " 18  number of reviews               102416 non-null  float64\n",
      " 19  last review                     86706 non-null   object \n",
      " 20  reviews per month               86720 non-null   float64\n",
      " 21  review rate number              102273 non-null  float64\n",
      " 22  calculated host listings count  102280 non-null  float64\n",
      " 23  availability 365                102151 non-null  float64\n",
      " 24  house_rules                     50468 non-null   object \n",
      " 25  license                         2 non-null       object \n",
      "dtypes: float64(9), int64(2), object(15)\n",
      "memory usage: 20.4+ MB\n"
     ]
    }
   ],
   "source": [
    "df.info()"
   ]
  },
  {
   "cell_type": "code",
   "execution_count": 78,
   "id": "fd311715",
   "metadata": {},
   "outputs": [
    {
     "data": {
      "text/plain": [
       "id                                     0\n",
       "NAME                                 250\n",
       "host id                                0\n",
       "host_identity_verified               289\n",
       "host name                            406\n",
       "neighbourhood group                   29\n",
       "neighbourhood                         16\n",
       "lat                                    8\n",
       "long                                   8\n",
       "country                              532\n",
       "country code                         131\n",
       "instant_bookable                     105\n",
       "cancellation_policy                   76\n",
       "room type                              0\n",
       "Construction year                    214\n",
       "price                                247\n",
       "service fee                          273\n",
       "minimum nights                       409\n",
       "number of reviews                    183\n",
       "last review                        15893\n",
       "reviews per month                  15879\n",
       "review rate number                   326\n",
       "calculated host listings count       319\n",
       "availability 365                     448\n",
       "house_rules                        52131\n",
       "license                           102597\n",
       "dtype: int64"
      ]
     },
     "execution_count": 78,
     "metadata": {},
     "output_type": "execute_result"
    }
   ],
   "source": [
    "df.isnull().sum()"
   ]
  },
  {
   "cell_type": "code",
   "execution_count": 79,
   "id": "182a2152",
   "metadata": {},
   "outputs": [],
   "source": [
    "# delete redundant columns\n",
    "# renaming the columns\n",
    "# dropping duplicates\n",
    "# cleaning individual columns\n",
    "# remove the nan values from the dataset\n"
   ]
  },
  {
   "cell_type": "code",
   "execution_count": 80,
   "id": "75dda047",
   "metadata": {},
   "outputs": [
    {
     "data": {
      "text/plain": [
       "np.int64(541)"
      ]
     },
     "execution_count": 80,
     "metadata": {},
     "output_type": "execute_result"
    }
   ],
   "source": [
    "df.duplicated().sum()"
   ]
  },
  {
   "cell_type": "code",
   "execution_count": null,
   "id": "18a50f28",
   "metadata": {},
   "outputs": [
    {
     "data": {
      "text/plain": [
       "0    Home away from home\n",
       "Name: NAME, dtype: object"
      ]
     },
     "execution_count": 81,
     "metadata": {},
     "output_type": "execute_result"
    }
   ],
   "source": [
    "freq_value=df['NAME'].mode()\n",
    "freq_value"
   ]
  },
  {
   "cell_type": "code",
   "execution_count": null,
   "id": "49cf5436",
   "metadata": {},
   "outputs": [],
   "source": [
    "df['NAME']=df['NAME'].fillna('Home away from home')"
   ]
  },
  {
   "cell_type": "code",
   "execution_count": 83,
   "id": "36b1470c",
   "metadata": {},
   "outputs": [
    {
     "data": {
      "text/plain": [
       "np.int64(0)"
      ]
     },
     "execution_count": 83,
     "metadata": {},
     "output_type": "execute_result"
    }
   ],
   "source": [
    "df['NAME'].isnull().sum()"
   ]
  },
  {
   "cell_type": "code",
   "execution_count": null,
   "id": "2d92e12b",
   "metadata": {},
   "outputs": [
    {
     "data": {
      "text/plain": [
       "0    unconfirmed\n",
       "Name: host_identity_verified, dtype: object"
      ]
     },
     "execution_count": 84,
     "metadata": {},
     "output_type": "execute_result"
    }
   ],
   "source": [
    "df['host_identity_verified'].mode()"
   ]
  },
  {
   "cell_type": "code",
   "execution_count": 85,
   "id": "2b2d8451",
   "metadata": {},
   "outputs": [],
   "source": [
    "df['host_identity_verified']=df['host_identity_verified'].fillna('unconfirmed')"
   ]
  },
  {
   "cell_type": "code",
   "execution_count": 86,
   "id": "2ac8e495",
   "metadata": {},
   "outputs": [
    {
     "data": {
      "text/plain": [
       "np.int64(0)"
      ]
     },
     "execution_count": 86,
     "metadata": {},
     "output_type": "execute_result"
    }
   ],
   "source": [
    "df['host_identity_verified'].isnull().sum()"
   ]
  },
  {
   "cell_type": "code",
   "execution_count": null,
   "id": "dab67b2a",
   "metadata": {},
   "outputs": [
    {
     "data": {
      "text/plain": [
       "0    Michael\n",
       "Name: host name, dtype: object"
      ]
     },
     "execution_count": 87,
     "metadata": {},
     "output_type": "execute_result"
    }
   ],
   "source": [
    "\n",
    "df['host name'].mode()"
   ]
  },
  {
   "cell_type": "code",
   "execution_count": 88,
   "id": "8c6fb824",
   "metadata": {},
   "outputs": [],
   "source": [
    "df['host name']=df['host name'].fillna('Michael')"
   ]
  },
  {
   "cell_type": "code",
   "execution_count": 89,
   "id": "b6c404df",
   "metadata": {},
   "outputs": [
    {
     "data": {
      "text/plain": [
       "np.int64(0)"
      ]
     },
     "execution_count": 89,
     "metadata": {},
     "output_type": "execute_result"
    }
   ],
   "source": [
    "df['host name'].isnull().sum()"
   ]
  },
  {
   "cell_type": "code",
   "execution_count": 90,
   "id": "7b684c43",
   "metadata": {},
   "outputs": [
    {
     "data": {
      "text/plain": [
       "0    Manhattan\n",
       "Name: neighbourhood group, dtype: object"
      ]
     },
     "execution_count": 90,
     "metadata": {},
     "output_type": "execute_result"
    }
   ],
   "source": [
    "df['neighbourhood group'].mode()"
   ]
  },
  {
   "cell_type": "code",
   "execution_count": 91,
   "id": "566b9e0e",
   "metadata": {},
   "outputs": [],
   "source": [
    "df['neighbourhood group']=df['neighbourhood group'].fillna('Manhattan')"
   ]
  },
  {
   "cell_type": "code",
   "execution_count": 92,
   "id": "9e6a42fe",
   "metadata": {},
   "outputs": [
    {
     "data": {
      "text/plain": [
       "np.int64(0)"
      ]
     },
     "execution_count": 92,
     "metadata": {},
     "output_type": "execute_result"
    }
   ],
   "source": [
    "df['neighbourhood group'].isnull().sum()"
   ]
  },
  {
   "cell_type": "code",
   "execution_count": 93,
   "id": "f28d9c9b",
   "metadata": {},
   "outputs": [
    {
     "data": {
      "text/plain": [
       "0    Bedford-Stuyvesant\n",
       "Name: neighbourhood, dtype: object"
      ]
     },
     "execution_count": 93,
     "metadata": {},
     "output_type": "execute_result"
    }
   ],
   "source": [
    "df['neighbourhood'].mode()"
   ]
  },
  {
   "cell_type": "code",
   "execution_count": 94,
   "id": "0acdbd2d",
   "metadata": {},
   "outputs": [],
   "source": [
    "df['neighbourhood']=df['neighbourhood'].fillna('Bedford-Stuyvesant')"
   ]
  },
  {
   "cell_type": "code",
   "execution_count": 95,
   "id": "f977eaee",
   "metadata": {},
   "outputs": [
    {
     "data": {
      "text/plain": [
       "np.int64(0)"
      ]
     },
     "execution_count": 95,
     "metadata": {},
     "output_type": "execute_result"
    }
   ],
   "source": [
    "df['neighbourhood'].isnull().sum()"
   ]
  },
  {
   "cell_type": "code",
   "execution_count": 96,
   "id": "35dbcf5c",
   "metadata": {},
   "outputs": [
    {
     "data": {
      "text/plain": [
       "0    Entire home/apt\n",
       "Name: room type, dtype: object"
      ]
     },
     "execution_count": 96,
     "metadata": {},
     "output_type": "execute_result"
    }
   ],
   "source": [
    "df['room type'].mode()"
   ]
  },
  {
   "cell_type": "code",
   "execution_count": 97,
   "id": "7c7d32d8",
   "metadata": {},
   "outputs": [
    {
     "data": {
      "text/plain": [
       "0    moderate\n",
       "Name: cancellation_policy, dtype: object"
      ]
     },
     "execution_count": 97,
     "metadata": {},
     "output_type": "execute_result"
    }
   ],
   "source": [
    "df['cancellation_policy'].mode()"
   ]
  },
  {
   "cell_type": "code",
   "execution_count": 98,
   "id": "69801b50",
   "metadata": {},
   "outputs": [],
   "source": [
    "df['cancellation_policy']=df['cancellation_policy'].fillna('moderate')"
   ]
  },
  {
   "cell_type": "code",
   "execution_count": 99,
   "id": "e2926708",
   "metadata": {},
   "outputs": [
    {
     "data": {
      "text/plain": [
       "np.int64(0)"
      ]
     },
     "execution_count": 99,
     "metadata": {},
     "output_type": "execute_result"
    }
   ],
   "source": [
    "df['cancellation_policy'].isnull().sum()"
   ]
  },
  {
   "cell_type": "code",
   "execution_count": 100,
   "id": "7b2cbc33",
   "metadata": {},
   "outputs": [
    {
     "data": {
      "text/plain": [
       "0    False\n",
       "Name: instant_bookable, dtype: object"
      ]
     },
     "execution_count": 100,
     "metadata": {},
     "output_type": "execute_result"
    }
   ],
   "source": [
    "df['instant_bookable'].mode()"
   ]
  },
  {
   "cell_type": "code",
   "execution_count": 101,
   "id": "fbf159bb",
   "metadata": {},
   "outputs": [],
   "source": [
    "df['instant_bookable']=df['instant_bookable'].fillna('False')"
   ]
  },
  {
   "cell_type": "code",
   "execution_count": 102,
   "id": "40a92456",
   "metadata": {},
   "outputs": [
    {
     "data": {
      "text/plain": [
       "np.int64(0)"
      ]
     },
     "execution_count": 102,
     "metadata": {},
     "output_type": "execute_result"
    }
   ],
   "source": [
    "df['instant_bookable'].isnull().sum()"
   ]
  },
  {
   "cell_type": "code",
   "execution_count": 103,
   "id": "cf8fccca",
   "metadata": {},
   "outputs": [
    {
     "data": {
      "text/plain": [
       "0    United States\n",
       "Name: country, dtype: object"
      ]
     },
     "execution_count": 103,
     "metadata": {},
     "output_type": "execute_result"
    }
   ],
   "source": [
    "df['country'].mode()"
   ]
  },
  {
   "cell_type": "code",
   "execution_count": 104,
   "id": "8c46f5f1",
   "metadata": {},
   "outputs": [
    {
     "data": {
      "text/plain": [
       "array(['United States', nan], dtype=object)"
      ]
     },
     "execution_count": 104,
     "metadata": {},
     "output_type": "execute_result"
    }
   ],
   "source": [
    "df['country'].unique()"
   ]
  },
  {
   "cell_type": "code",
   "execution_count": 105,
   "id": "18fd5a5f",
   "metadata": {},
   "outputs": [],
   "source": [
    "df['country']=df['country'].fillna('United States')"
   ]
  },
  {
   "cell_type": "code",
   "execution_count": 106,
   "id": "94c4a111",
   "metadata": {},
   "outputs": [
    {
     "data": {
      "text/plain": [
       "np.int64(0)"
      ]
     },
     "execution_count": 106,
     "metadata": {},
     "output_type": "execute_result"
    }
   ],
   "source": [
    "df['country'].isnull().sum()"
   ]
  },
  {
   "cell_type": "code",
   "execution_count": 107,
   "id": "16e79257",
   "metadata": {},
   "outputs": [
    {
     "data": {
      "text/plain": [
       "array(['US', nan], dtype=object)"
      ]
     },
     "execution_count": 107,
     "metadata": {},
     "output_type": "execute_result"
    }
   ],
   "source": [
    "df['country code'].unique()"
   ]
  },
  {
   "cell_type": "code",
   "execution_count": 108,
   "id": "5f613d0d",
   "metadata": {},
   "outputs": [],
   "source": [
    "df['country code']=df['country code'].fillna('US')"
   ]
  },
  {
   "cell_type": "code",
   "execution_count": 109,
   "id": "d7973f8d",
   "metadata": {},
   "outputs": [
    {
     "data": {
      "text/plain": [
       "np.int64(0)"
      ]
     },
     "execution_count": 109,
     "metadata": {},
     "output_type": "execute_result"
    }
   ],
   "source": [
    "df['country code'].isnull().sum()"
   ]
  },
  {
   "cell_type": "code",
   "execution_count": 110,
   "id": "e5a1ed56",
   "metadata": {},
   "outputs": [],
   "source": [
    "df=df.drop(columns={'lat','long'})"
   ]
  },
  {
   "cell_type": "code",
   "execution_count": 111,
   "id": "c4893b8f",
   "metadata": {},
   "outputs": [
    {
     "data": {
      "text/html": [
       "<div>\n",
       "<style scoped>\n",
       "    .dataframe tbody tr th:only-of-type {\n",
       "        vertical-align: middle;\n",
       "    }\n",
       "\n",
       "    .dataframe tbody tr th {\n",
       "        vertical-align: top;\n",
       "    }\n",
       "\n",
       "    .dataframe thead th {\n",
       "        text-align: right;\n",
       "    }\n",
       "</style>\n",
       "<table border=\"1\" class=\"dataframe\">\n",
       "  <thead>\n",
       "    <tr style=\"text-align: right;\">\n",
       "      <th></th>\n",
       "      <th>id</th>\n",
       "      <th>NAME</th>\n",
       "      <th>host id</th>\n",
       "      <th>host_identity_verified</th>\n",
       "      <th>host name</th>\n",
       "      <th>neighbourhood group</th>\n",
       "      <th>neighbourhood</th>\n",
       "      <th>country</th>\n",
       "      <th>country code</th>\n",
       "      <th>instant_bookable</th>\n",
       "      <th>...</th>\n",
       "      <th>service fee</th>\n",
       "      <th>minimum nights</th>\n",
       "      <th>number of reviews</th>\n",
       "      <th>last review</th>\n",
       "      <th>reviews per month</th>\n",
       "      <th>review rate number</th>\n",
       "      <th>calculated host listings count</th>\n",
       "      <th>availability 365</th>\n",
       "      <th>house_rules</th>\n",
       "      <th>license</th>\n",
       "    </tr>\n",
       "  </thead>\n",
       "  <tbody>\n",
       "    <tr>\n",
       "      <th>0</th>\n",
       "      <td>1001254</td>\n",
       "      <td>Clean &amp; quiet apt home by the park</td>\n",
       "      <td>80014485718</td>\n",
       "      <td>unconfirmed</td>\n",
       "      <td>Madaline</td>\n",
       "      <td>Brooklyn</td>\n",
       "      <td>Kensington</td>\n",
       "      <td>United States</td>\n",
       "      <td>US</td>\n",
       "      <td>False</td>\n",
       "      <td>...</td>\n",
       "      <td>$193</td>\n",
       "      <td>10.0</td>\n",
       "      <td>9.0</td>\n",
       "      <td>10/19/2021</td>\n",
       "      <td>0.21</td>\n",
       "      <td>4.0</td>\n",
       "      <td>6.0</td>\n",
       "      <td>286.0</td>\n",
       "      <td>Clean up and treat the home the way you'd like...</td>\n",
       "      <td>NaN</td>\n",
       "    </tr>\n",
       "    <tr>\n",
       "      <th>1</th>\n",
       "      <td>1002102</td>\n",
       "      <td>Skylit Midtown Castle</td>\n",
       "      <td>52335172823</td>\n",
       "      <td>verified</td>\n",
       "      <td>Jenna</td>\n",
       "      <td>Manhattan</td>\n",
       "      <td>Midtown</td>\n",
       "      <td>United States</td>\n",
       "      <td>US</td>\n",
       "      <td>False</td>\n",
       "      <td>...</td>\n",
       "      <td>$28</td>\n",
       "      <td>30.0</td>\n",
       "      <td>45.0</td>\n",
       "      <td>5/21/2022</td>\n",
       "      <td>0.38</td>\n",
       "      <td>4.0</td>\n",
       "      <td>2.0</td>\n",
       "      <td>228.0</td>\n",
       "      <td>Pet friendly but please confirm with me if the...</td>\n",
       "      <td>NaN</td>\n",
       "    </tr>\n",
       "    <tr>\n",
       "      <th>2</th>\n",
       "      <td>1002403</td>\n",
       "      <td>THE VILLAGE OF HARLEM....NEW YORK !</td>\n",
       "      <td>78829239556</td>\n",
       "      <td>unconfirmed</td>\n",
       "      <td>Elise</td>\n",
       "      <td>Manhattan</td>\n",
       "      <td>Harlem</td>\n",
       "      <td>United States</td>\n",
       "      <td>US</td>\n",
       "      <td>True</td>\n",
       "      <td>...</td>\n",
       "      <td>$124</td>\n",
       "      <td>3.0</td>\n",
       "      <td>0.0</td>\n",
       "      <td>NaN</td>\n",
       "      <td>NaN</td>\n",
       "      <td>5.0</td>\n",
       "      <td>1.0</td>\n",
       "      <td>352.0</td>\n",
       "      <td>I encourage you to use my kitchen, cooking and...</td>\n",
       "      <td>NaN</td>\n",
       "    </tr>\n",
       "    <tr>\n",
       "      <th>3</th>\n",
       "      <td>1002755</td>\n",
       "      <td>Home away from home</td>\n",
       "      <td>85098326012</td>\n",
       "      <td>unconfirmed</td>\n",
       "      <td>Garry</td>\n",
       "      <td>Brooklyn</td>\n",
       "      <td>Clinton Hill</td>\n",
       "      <td>United States</td>\n",
       "      <td>US</td>\n",
       "      <td>True</td>\n",
       "      <td>...</td>\n",
       "      <td>$74</td>\n",
       "      <td>30.0</td>\n",
       "      <td>270.0</td>\n",
       "      <td>7/5/2019</td>\n",
       "      <td>4.64</td>\n",
       "      <td>4.0</td>\n",
       "      <td>1.0</td>\n",
       "      <td>322.0</td>\n",
       "      <td>NaN</td>\n",
       "      <td>NaN</td>\n",
       "    </tr>\n",
       "    <tr>\n",
       "      <th>4</th>\n",
       "      <td>1003689</td>\n",
       "      <td>Entire Apt: Spacious Studio/Loft by central park</td>\n",
       "      <td>92037596077</td>\n",
       "      <td>verified</td>\n",
       "      <td>Lyndon</td>\n",
       "      <td>Manhattan</td>\n",
       "      <td>East Harlem</td>\n",
       "      <td>United States</td>\n",
       "      <td>US</td>\n",
       "      <td>False</td>\n",
       "      <td>...</td>\n",
       "      <td>$41</td>\n",
       "      <td>10.0</td>\n",
       "      <td>9.0</td>\n",
       "      <td>11/19/2018</td>\n",
       "      <td>0.10</td>\n",
       "      <td>3.0</td>\n",
       "      <td>1.0</td>\n",
       "      <td>289.0</td>\n",
       "      <td>Please no smoking in the house, porch or on th...</td>\n",
       "      <td>NaN</td>\n",
       "    </tr>\n",
       "  </tbody>\n",
       "</table>\n",
       "<p>5 rows × 24 columns</p>\n",
       "</div>"
      ],
      "text/plain": [
       "        id                                              NAME      host id  \\\n",
       "0  1001254                Clean & quiet apt home by the park  80014485718   \n",
       "1  1002102                             Skylit Midtown Castle  52335172823   \n",
       "2  1002403               THE VILLAGE OF HARLEM....NEW YORK !  78829239556   \n",
       "3  1002755                               Home away from home  85098326012   \n",
       "4  1003689  Entire Apt: Spacious Studio/Loft by central park  92037596077   \n",
       "\n",
       "  host_identity_verified host name neighbourhood group neighbourhood  \\\n",
       "0            unconfirmed  Madaline            Brooklyn    Kensington   \n",
       "1               verified     Jenna           Manhattan       Midtown   \n",
       "2            unconfirmed     Elise           Manhattan        Harlem   \n",
       "3            unconfirmed     Garry            Brooklyn  Clinton Hill   \n",
       "4               verified    Lyndon           Manhattan   East Harlem   \n",
       "\n",
       "         country country code instant_bookable  ... service fee  \\\n",
       "0  United States           US            False  ...       $193    \n",
       "1  United States           US            False  ...        $28    \n",
       "2  United States           US             True  ...       $124    \n",
       "3  United States           US             True  ...        $74    \n",
       "4  United States           US            False  ...        $41    \n",
       "\n",
       "  minimum nights  number of reviews last review reviews per month  \\\n",
       "0           10.0                9.0  10/19/2021              0.21   \n",
       "1           30.0               45.0   5/21/2022              0.38   \n",
       "2            3.0                0.0         NaN               NaN   \n",
       "3           30.0              270.0    7/5/2019              4.64   \n",
       "4           10.0                9.0  11/19/2018              0.10   \n",
       "\n",
       "   review rate number  calculated host listings count availability 365  \\\n",
       "0                 4.0                             6.0            286.0   \n",
       "1                 4.0                             2.0            228.0   \n",
       "2                 5.0                             1.0            352.0   \n",
       "3                 4.0                             1.0            322.0   \n",
       "4                 3.0                             1.0            289.0   \n",
       "\n",
       "                                         house_rules  license  \n",
       "0  Clean up and treat the home the way you'd like...      NaN  \n",
       "1  Pet friendly but please confirm with me if the...      NaN  \n",
       "2  I encourage you to use my kitchen, cooking and...      NaN  \n",
       "3                                                NaN      NaN  \n",
       "4  Please no smoking in the house, porch or on th...      NaN  \n",
       "\n",
       "[5 rows x 24 columns]"
      ]
     },
     "execution_count": 111,
     "metadata": {},
     "output_type": "execute_result"
    }
   ],
   "source": [
    "df.head(5)"
   ]
  },
  {
   "cell_type": "code",
   "execution_count": 112,
   "id": "9c685b30",
   "metadata": {},
   "outputs": [
    {
     "data": {
      "text/plain": [
       "0           966 \n",
       "1           142 \n",
       "2           620 \n",
       "3           368 \n",
       "4           204 \n",
       "           ...  \n",
       "102594      844 \n",
       "102595      837 \n",
       "102596      988 \n",
       "102597      546 \n",
       "102598    1,032 \n",
       "Name: price, Length: 102599, dtype: object"
      ]
     },
     "execution_count": 112,
     "metadata": {},
     "output_type": "execute_result"
    }
   ],
   "source": [
    "df['price'].str.split('$').str[1]\n"
   ]
  },
  {
   "cell_type": "code",
   "execution_count": 113,
   "id": "a9965281",
   "metadata": {},
   "outputs": [],
   "source": [
    "df['price']=df['price'].str.split('$').str[1]"
   ]
  },
  {
   "cell_type": "code",
   "execution_count": 114,
   "id": "4db93074",
   "metadata": {},
   "outputs": [
    {
     "name": "stderr",
     "output_type": "stream",
     "text": [
      "<>:1: SyntaxWarning: invalid escape sequence '\\$'\n",
      "<>:1: SyntaxWarning: invalid escape sequence '\\$'\n",
      "C:\\Users\\hp\\AppData\\Local\\Temp\\ipykernel_6908\\2079925180.py:1: SyntaxWarning: invalid escape sequence '\\$'\n",
      "  df['price'] = df['price'].replace('[\\$,]', '', regex=True)\n"
     ]
    }
   ],
   "source": [
    "df['price'] = df['price'].replace('[\\$,]', '', regex=True)\n"
   ]
  },
  {
   "cell_type": "code",
   "execution_count": 115,
   "id": "c05a0b6c",
   "metadata": {},
   "outputs": [],
   "source": [
    "df['price']=df['price'].str.strip()"
   ]
  },
  {
   "cell_type": "code",
   "execution_count": 116,
   "id": "81d4bcf3",
   "metadata": {},
   "outputs": [],
   "source": [
    "df['price'] = pd.to_numeric(df['price'], errors='coerce')"
   ]
  },
  {
   "cell_type": "code",
   "execution_count": 117,
   "id": "239377aa",
   "metadata": {},
   "outputs": [
    {
     "name": "stderr",
     "output_type": "stream",
     "text": [
      "C:\\Users\\hp\\AppData\\Local\\Temp\\ipykernel_6908\\50049080.py:1: FutureWarning: A value is trying to be set on a copy of a DataFrame or Series through chained assignment using an inplace method.\n",
      "The behavior will change in pandas 3.0. This inplace method will never work because the intermediate object on which we are setting values always behaves as a copy.\n",
      "\n",
      "For example, when doing 'df[col].method(value, inplace=True)', try using 'df.method({col: value}, inplace=True)' or df[col] = df[col].method(value) instead, to perform the operation inplace on the original object.\n",
      "\n",
      "\n",
      "  df['price'].fillna(df['price'].median(),inplace=True)\n"
     ]
    }
   ],
   "source": [
    "df['price'].fillna(df['price'].median(),inplace=True)"
   ]
  },
  {
   "cell_type": "code",
   "execution_count": 118,
   "id": "ae7b2422",
   "metadata": {},
   "outputs": [
    {
     "data": {
      "text/plain": [
       "np.int64(0)"
      ]
     },
     "execution_count": 118,
     "metadata": {},
     "output_type": "execute_result"
    }
   ],
   "source": [
    "df['price'].isnull().sum()"
   ]
  },
  {
   "cell_type": "code",
   "execution_count": 65,
   "id": "ab5d8a41",
   "metadata": {},
   "outputs": [
    {
     "data": {
      "text/plain": [
       "0     $193 \n",
       "1      $28 \n",
       "2     $124 \n",
       "3      $74 \n",
       "4      $41 \n",
       "5     $115 \n",
       "6      $14 \n",
       "7     $212 \n",
       "8     $204 \n",
       "9      $58 \n",
       "10     $64 \n",
       "11    $121 \n",
       "12    $143 \n",
       "13    $116 \n",
       "14     $30 \n",
       "15      NaN\n",
       "16      NaN\n",
       "17      NaN\n",
       "18      NaN\n",
       "19      NaN\n",
       "Name: service fee, dtype: object"
      ]
     },
     "execution_count": 65,
     "metadata": {},
     "output_type": "execute_result"
    }
   ],
   "source": [
    "df['service fee'].head(20)"
   ]
  },
  {
   "cell_type": "code",
   "execution_count": 119,
   "id": "c0420ba6",
   "metadata": {},
   "outputs": [],
   "source": [
    "df['service fee']=df['service fee'].str.split('$').str[1]"
   ]
  },
  {
   "cell_type": "code",
   "execution_count": 120,
   "id": "76fcdd79",
   "metadata": {},
   "outputs": [
    {
     "data": {
      "text/html": [
       "<div>\n",
       "<style scoped>\n",
       "    .dataframe tbody tr th:only-of-type {\n",
       "        vertical-align: middle;\n",
       "    }\n",
       "\n",
       "    .dataframe tbody tr th {\n",
       "        vertical-align: top;\n",
       "    }\n",
       "\n",
       "    .dataframe thead th {\n",
       "        text-align: right;\n",
       "    }\n",
       "</style>\n",
       "<table border=\"1\" class=\"dataframe\">\n",
       "  <thead>\n",
       "    <tr style=\"text-align: right;\">\n",
       "      <th></th>\n",
       "      <th>id</th>\n",
       "      <th>NAME</th>\n",
       "      <th>host id</th>\n",
       "      <th>host_identity_verified</th>\n",
       "      <th>host name</th>\n",
       "      <th>neighbourhood group</th>\n",
       "      <th>neighbourhood</th>\n",
       "      <th>country</th>\n",
       "      <th>country code</th>\n",
       "      <th>instant_bookable</th>\n",
       "      <th>...</th>\n",
       "      <th>service fee</th>\n",
       "      <th>minimum nights</th>\n",
       "      <th>number of reviews</th>\n",
       "      <th>last review</th>\n",
       "      <th>reviews per month</th>\n",
       "      <th>review rate number</th>\n",
       "      <th>calculated host listings count</th>\n",
       "      <th>availability 365</th>\n",
       "      <th>house_rules</th>\n",
       "      <th>license</th>\n",
       "    </tr>\n",
       "  </thead>\n",
       "  <tbody>\n",
       "    <tr>\n",
       "      <th>0</th>\n",
       "      <td>1001254</td>\n",
       "      <td>Clean &amp; quiet apt home by the park</td>\n",
       "      <td>80014485718</td>\n",
       "      <td>unconfirmed</td>\n",
       "      <td>Madaline</td>\n",
       "      <td>Brooklyn</td>\n",
       "      <td>Kensington</td>\n",
       "      <td>United States</td>\n",
       "      <td>US</td>\n",
       "      <td>False</td>\n",
       "      <td>...</td>\n",
       "      <td>193</td>\n",
       "      <td>10.0</td>\n",
       "      <td>9.0</td>\n",
       "      <td>10/19/2021</td>\n",
       "      <td>0.21</td>\n",
       "      <td>4.0</td>\n",
       "      <td>6.0</td>\n",
       "      <td>286.0</td>\n",
       "      <td>Clean up and treat the home the way you'd like...</td>\n",
       "      <td>NaN</td>\n",
       "    </tr>\n",
       "    <tr>\n",
       "      <th>1</th>\n",
       "      <td>1002102</td>\n",
       "      <td>Skylit Midtown Castle</td>\n",
       "      <td>52335172823</td>\n",
       "      <td>verified</td>\n",
       "      <td>Jenna</td>\n",
       "      <td>Manhattan</td>\n",
       "      <td>Midtown</td>\n",
       "      <td>United States</td>\n",
       "      <td>US</td>\n",
       "      <td>False</td>\n",
       "      <td>...</td>\n",
       "      <td>28</td>\n",
       "      <td>30.0</td>\n",
       "      <td>45.0</td>\n",
       "      <td>5/21/2022</td>\n",
       "      <td>0.38</td>\n",
       "      <td>4.0</td>\n",
       "      <td>2.0</td>\n",
       "      <td>228.0</td>\n",
       "      <td>Pet friendly but please confirm with me if the...</td>\n",
       "      <td>NaN</td>\n",
       "    </tr>\n",
       "    <tr>\n",
       "      <th>2</th>\n",
       "      <td>1002403</td>\n",
       "      <td>THE VILLAGE OF HARLEM....NEW YORK !</td>\n",
       "      <td>78829239556</td>\n",
       "      <td>unconfirmed</td>\n",
       "      <td>Elise</td>\n",
       "      <td>Manhattan</td>\n",
       "      <td>Harlem</td>\n",
       "      <td>United States</td>\n",
       "      <td>US</td>\n",
       "      <td>True</td>\n",
       "      <td>...</td>\n",
       "      <td>124</td>\n",
       "      <td>3.0</td>\n",
       "      <td>0.0</td>\n",
       "      <td>NaN</td>\n",
       "      <td>NaN</td>\n",
       "      <td>5.0</td>\n",
       "      <td>1.0</td>\n",
       "      <td>352.0</td>\n",
       "      <td>I encourage you to use my kitchen, cooking and...</td>\n",
       "      <td>NaN</td>\n",
       "    </tr>\n",
       "    <tr>\n",
       "      <th>3</th>\n",
       "      <td>1002755</td>\n",
       "      <td>Home away from home</td>\n",
       "      <td>85098326012</td>\n",
       "      <td>unconfirmed</td>\n",
       "      <td>Garry</td>\n",
       "      <td>Brooklyn</td>\n",
       "      <td>Clinton Hill</td>\n",
       "      <td>United States</td>\n",
       "      <td>US</td>\n",
       "      <td>True</td>\n",
       "      <td>...</td>\n",
       "      <td>74</td>\n",
       "      <td>30.0</td>\n",
       "      <td>270.0</td>\n",
       "      <td>7/5/2019</td>\n",
       "      <td>4.64</td>\n",
       "      <td>4.0</td>\n",
       "      <td>1.0</td>\n",
       "      <td>322.0</td>\n",
       "      <td>NaN</td>\n",
       "      <td>NaN</td>\n",
       "    </tr>\n",
       "    <tr>\n",
       "      <th>4</th>\n",
       "      <td>1003689</td>\n",
       "      <td>Entire Apt: Spacious Studio/Loft by central park</td>\n",
       "      <td>92037596077</td>\n",
       "      <td>verified</td>\n",
       "      <td>Lyndon</td>\n",
       "      <td>Manhattan</td>\n",
       "      <td>East Harlem</td>\n",
       "      <td>United States</td>\n",
       "      <td>US</td>\n",
       "      <td>False</td>\n",
       "      <td>...</td>\n",
       "      <td>41</td>\n",
       "      <td>10.0</td>\n",
       "      <td>9.0</td>\n",
       "      <td>11/19/2018</td>\n",
       "      <td>0.10</td>\n",
       "      <td>3.0</td>\n",
       "      <td>1.0</td>\n",
       "      <td>289.0</td>\n",
       "      <td>Please no smoking in the house, porch or on th...</td>\n",
       "      <td>NaN</td>\n",
       "    </tr>\n",
       "  </tbody>\n",
       "</table>\n",
       "<p>5 rows × 24 columns</p>\n",
       "</div>"
      ],
      "text/plain": [
       "        id                                              NAME      host id  \\\n",
       "0  1001254                Clean & quiet apt home by the park  80014485718   \n",
       "1  1002102                             Skylit Midtown Castle  52335172823   \n",
       "2  1002403               THE VILLAGE OF HARLEM....NEW YORK !  78829239556   \n",
       "3  1002755                               Home away from home  85098326012   \n",
       "4  1003689  Entire Apt: Spacious Studio/Loft by central park  92037596077   \n",
       "\n",
       "  host_identity_verified host name neighbourhood group neighbourhood  \\\n",
       "0            unconfirmed  Madaline            Brooklyn    Kensington   \n",
       "1               verified     Jenna           Manhattan       Midtown   \n",
       "2            unconfirmed     Elise           Manhattan        Harlem   \n",
       "3            unconfirmed     Garry            Brooklyn  Clinton Hill   \n",
       "4               verified    Lyndon           Manhattan   East Harlem   \n",
       "\n",
       "         country country code instant_bookable  ... service fee  \\\n",
       "0  United States           US            False  ...        193    \n",
       "1  United States           US            False  ...         28    \n",
       "2  United States           US             True  ...        124    \n",
       "3  United States           US             True  ...         74    \n",
       "4  United States           US            False  ...         41    \n",
       "\n",
       "  minimum nights  number of reviews  last review reviews per month  \\\n",
       "0           10.0                9.0   10/19/2021              0.21   \n",
       "1           30.0               45.0    5/21/2022              0.38   \n",
       "2            3.0                0.0          NaN               NaN   \n",
       "3           30.0              270.0     7/5/2019              4.64   \n",
       "4           10.0                9.0   11/19/2018              0.10   \n",
       "\n",
       "   review rate number  calculated host listings count availability 365  \\\n",
       "0                 4.0                             6.0            286.0   \n",
       "1                 4.0                             2.0            228.0   \n",
       "2                 5.0                             1.0            352.0   \n",
       "3                 4.0                             1.0            322.0   \n",
       "4                 3.0                             1.0            289.0   \n",
       "\n",
       "                                         house_rules  license  \n",
       "0  Clean up and treat the home the way you'd like...      NaN  \n",
       "1  Pet friendly but please confirm with me if the...      NaN  \n",
       "2  I encourage you to use my kitchen, cooking and...      NaN  \n",
       "3                                                NaN      NaN  \n",
       "4  Please no smoking in the house, porch or on th...      NaN  \n",
       "\n",
       "[5 rows x 24 columns]"
      ]
     },
     "execution_count": 120,
     "metadata": {},
     "output_type": "execute_result"
    }
   ],
   "source": [
    "df.head(5)"
   ]
  },
  {
   "cell_type": "code",
   "execution_count": 121,
   "id": "58e71b09",
   "metadata": {},
   "outputs": [
    {
     "name": "stderr",
     "output_type": "stream",
     "text": [
      "<>:1: SyntaxWarning: invalid escape sequence '\\$'\n",
      "<>:1: SyntaxWarning: invalid escape sequence '\\$'\n",
      "C:\\Users\\hp\\AppData\\Local\\Temp\\ipykernel_6908\\355387945.py:1: SyntaxWarning: invalid escape sequence '\\$'\n",
      "  df['service fee'] = df['service fee'].replace('[\\$,]', '', regex=True)\n"
     ]
    }
   ],
   "source": [
    "df['service fee'] = df['service fee'].replace('[\\$,]', '', regex=True)"
   ]
  },
  {
   "cell_type": "code",
   "execution_count": 125,
   "id": "284d5d99",
   "metadata": {},
   "outputs": [
    {
     "name": "stderr",
     "output_type": "stream",
     "text": [
      "C:\\Users\\hp\\AppData\\Local\\Temp\\ipykernel_6908\\1576613402.py:3: FutureWarning: A value is trying to be set on a copy of a DataFrame or Series through chained assignment using an inplace method.\n",
      "The behavior will change in pandas 3.0. This inplace method will never work because the intermediate object on which we are setting values always behaves as a copy.\n",
      "\n",
      "For example, when doing 'df[col].method(value, inplace=True)', try using 'df.method({col: value}, inplace=True)' or df[col] = df[col].method(value) instead, to perform the operation inplace on the original object.\n",
      "\n",
      "\n",
      "  df['service fee'].fillna(df['service fee'].median(),inplace=True)\n"
     ]
    }
   ],
   "source": [
    "df['service fee']=df['service fee'].str.strip()\n",
    "df['service fee'] = pd.to_numeric(df['service fee'], errors='coerce')\n",
    "df['service fee'].fillna(df['service fee'].median(),inplace=True)"
   ]
  },
  {
   "cell_type": "code",
   "execution_count": 128,
   "id": "01b007be",
   "metadata": {},
   "outputs": [
    {
     "name": "stderr",
     "output_type": "stream",
     "text": [
      "C:\\Users\\hp\\AppData\\Local\\Temp\\ipykernel_6908\\2854845721.py:1: FutureWarning: A value is trying to be set on a copy of a DataFrame or Series through chained assignment using an inplace method.\n",
      "The behavior will change in pandas 3.0. This inplace method will never work because the intermediate object on which we are setting values always behaves as a copy.\n",
      "\n",
      "For example, when doing 'df[col].method(value, inplace=True)', try using 'df.method({col: value}, inplace=True)' or df[col] = df[col].method(value) instead, to perform the operation inplace on the original object.\n",
      "\n",
      "\n",
      "  df['minimum nights'].fillna(df['minimum nights'].median(),inplace=True)\n"
     ]
    }
   ],
   "source": [
    "df['minimum nights'].fillna(df['minimum nights'].median(),inplace=True)"
   ]
  },
  {
   "cell_type": "code",
   "execution_count": 129,
   "id": "d98ff28a",
   "metadata": {},
   "outputs": [
    {
     "data": {
      "text/plain": [
       "np.int64(0)"
      ]
     },
     "execution_count": 129,
     "metadata": {},
     "output_type": "execute_result"
    }
   ],
   "source": [
    "df['minimum nights'].isnull().sum()"
   ]
  },
  {
   "cell_type": "code",
   "execution_count": 130,
   "id": "82d95122",
   "metadata": {},
   "outputs": [
    {
     "name": "stderr",
     "output_type": "stream",
     "text": [
      "C:\\Users\\hp\\AppData\\Local\\Temp\\ipykernel_6908\\1283817070.py:1: FutureWarning: A value is trying to be set on a copy of a DataFrame or Series through chained assignment using an inplace method.\n",
      "The behavior will change in pandas 3.0. This inplace method will never work because the intermediate object on which we are setting values always behaves as a copy.\n",
      "\n",
      "For example, when doing 'df[col].method(value, inplace=True)', try using 'df.method({col: value}, inplace=True)' or df[col] = df[col].method(value) instead, to perform the operation inplace on the original object.\n",
      "\n",
      "\n",
      "  df['number of reviews'].fillna(0, inplace=True)\n"
     ]
    }
   ],
   "source": [
    "df['number of reviews'].fillna(0, inplace=True)"
   ]
  },
  {
   "cell_type": "code",
   "execution_count": 131,
   "id": "2c8255c5",
   "metadata": {},
   "outputs": [
    {
     "name": "stderr",
     "output_type": "stream",
     "text": [
      "C:\\Users\\hp\\AppData\\Local\\Temp\\ipykernel_6908\\1406860243.py:1: FutureWarning: A value is trying to be set on a copy of a DataFrame or Series through chained assignment using an inplace method.\n",
      "The behavior will change in pandas 3.0. This inplace method will never work because the intermediate object on which we are setting values always behaves as a copy.\n",
      "\n",
      "For example, when doing 'df[col].method(value, inplace=True)', try using 'df.method({col: value}, inplace=True)' or df[col] = df[col].method(value) instead, to perform the operation inplace on the original object.\n",
      "\n",
      "\n",
      "  df['reviews per month'].fillna(0, inplace=True)\n"
     ]
    }
   ],
   "source": [
    "df['reviews per month'].fillna(0, inplace=True)"
   ]
  },
  {
   "cell_type": "code",
   "execution_count": 132,
   "id": "51764731",
   "metadata": {},
   "outputs": [
    {
     "name": "stderr",
     "output_type": "stream",
     "text": [
      "C:\\Users\\hp\\AppData\\Local\\Temp\\ipykernel_6908\\3287610094.py:1: FutureWarning: A value is trying to be set on a copy of a DataFrame or Series through chained assignment using an inplace method.\n",
      "The behavior will change in pandas 3.0. This inplace method will never work because the intermediate object on which we are setting values always behaves as a copy.\n",
      "\n",
      "For example, when doing 'df[col].method(value, inplace=True)', try using 'df.method({col: value}, inplace=True)' or df[col] = df[col].method(value) instead, to perform the operation inplace on the original object.\n",
      "\n",
      "\n",
      "  df['review rate number'].fillna(df['review rate number'].median(), inplace=True)\n"
     ]
    }
   ],
   "source": [
    "df['review rate number'].fillna(df['review rate number'].median(), inplace=True)"
   ]
  },
  {
   "cell_type": "code",
   "execution_count": 133,
   "id": "fde43f44",
   "metadata": {},
   "outputs": [
    {
     "name": "stderr",
     "output_type": "stream",
     "text": [
      "C:\\Users\\hp\\AppData\\Local\\Temp\\ipykernel_6908\\4049174248.py:1: FutureWarning: A value is trying to be set on a copy of a DataFrame or Series through chained assignment using an inplace method.\n",
      "The behavior will change in pandas 3.0. This inplace method will never work because the intermediate object on which we are setting values always behaves as a copy.\n",
      "\n",
      "For example, when doing 'df[col].method(value, inplace=True)', try using 'df.method({col: value}, inplace=True)' or df[col] = df[col].method(value) instead, to perform the operation inplace on the original object.\n",
      "\n",
      "\n",
      "  df['availability 365'].fillna(df['availability 365'].median(), inplace=True)\n"
     ]
    }
   ],
   "source": [
    "df['availability 365'].fillna(df['availability 365'].median(), inplace=True)"
   ]
  },
  {
   "cell_type": "code",
   "execution_count": 134,
   "id": "5cacc86c",
   "metadata": {},
   "outputs": [
    {
     "name": "stderr",
     "output_type": "stream",
     "text": [
      "C:\\Users\\hp\\AppData\\Local\\Temp\\ipykernel_6908\\1161324847.py:1: FutureWarning: A value is trying to be set on a copy of a DataFrame or Series through chained assignment using an inplace method.\n",
      "The behavior will change in pandas 3.0. This inplace method will never work because the intermediate object on which we are setting values always behaves as a copy.\n",
      "\n",
      "For example, when doing 'df[col].method(value, inplace=True)', try using 'df.method({col: value}, inplace=True)' or df[col] = df[col].method(value) instead, to perform the operation inplace on the original object.\n",
      "\n",
      "\n",
      "  df['last review'].fillna(\"No Review\", inplace=True)\n"
     ]
    }
   ],
   "source": [
    "df['last review'].fillna(\"No Review\", inplace=True)"
   ]
  },
  {
   "cell_type": "code",
   "execution_count": 137,
   "id": "27a29cd9",
   "metadata": {},
   "outputs": [
    {
     "data": {
      "text/plain": [
       "0    #NAME?\n",
       "Name: house_rules, dtype: object"
      ]
     },
     "execution_count": 137,
     "metadata": {},
     "output_type": "execute_result"
    }
   ],
   "source": [
    "df['house_rules'].mode()"
   ]
  },
  {
   "cell_type": "code",
   "execution_count": 138,
   "id": "df906ab8",
   "metadata": {},
   "outputs": [],
   "source": [
    "df['house_rules']=df['house_rules'].replace('#NAME?','No Rules')"
   ]
  },
  {
   "cell_type": "code",
   "execution_count": 139,
   "id": "fe9725dd",
   "metadata": {},
   "outputs": [
    {
     "data": {
      "text/plain": [
       "0    No Rules\n",
       "Name: house_rules, dtype: object"
      ]
     },
     "execution_count": 139,
     "metadata": {},
     "output_type": "execute_result"
    }
   ],
   "source": [
    "df['house_rules'].mode()"
   ]
  },
  {
   "cell_type": "code",
   "execution_count": 140,
   "id": "39a6054f",
   "metadata": {},
   "outputs": [
    {
     "name": "stderr",
     "output_type": "stream",
     "text": [
      "C:\\Users\\hp\\AppData\\Local\\Temp\\ipykernel_6908\\2913760666.py:1: FutureWarning: A value is trying to be set on a copy of a DataFrame or Series through chained assignment using an inplace method.\n",
      "The behavior will change in pandas 3.0. This inplace method will never work because the intermediate object on which we are setting values always behaves as a copy.\n",
      "\n",
      "For example, when doing 'df[col].method(value, inplace=True)', try using 'df.method({col: value}, inplace=True)' or df[col] = df[col].method(value) instead, to perform the operation inplace on the original object.\n",
      "\n",
      "\n",
      "  df['house_rules'].fillna(\"No Rules\", inplace=True)\n"
     ]
    }
   ],
   "source": [
    "df['house_rules'].fillna(\"No Rules\", inplace=True)"
   ]
  },
  {
   "cell_type": "code",
   "execution_count": 141,
   "id": "b20d15c0",
   "metadata": {},
   "outputs": [],
   "source": [
    "df.drop(columns=['license'], inplace=True)"
   ]
  },
  {
   "cell_type": "code",
   "execution_count": 147,
   "id": "baabe3df",
   "metadata": {},
   "outputs": [
    {
     "name": "stderr",
     "output_type": "stream",
     "text": [
      "C:\\Users\\hp\\AppData\\Local\\Temp\\ipykernel_6908\\2942026907.py:1: FutureWarning: A value is trying to be set on a copy of a DataFrame or Series through chained assignment using an inplace method.\n",
      "The behavior will change in pandas 3.0. This inplace method will never work because the intermediate object on which we are setting values always behaves as a copy.\n",
      "\n",
      "For example, when doing 'df[col].method(value, inplace=True)', try using 'df.method({col: value}, inplace=True)' or df[col] = df[col].method(value) instead, to perform the operation inplace on the original object.\n",
      "\n",
      "\n",
      "  df['Construction year'].fillna(df['Construction year'].median(),inplace=True)\n"
     ]
    }
   ],
   "source": [
    "df['Construction year'].fillna(df['Construction year'].median(),inplace=True)"
   ]
  },
  {
   "cell_type": "code",
   "execution_count": 150,
   "id": "ec85dfa2",
   "metadata": {},
   "outputs": [
    {
     "name": "stderr",
     "output_type": "stream",
     "text": [
      "C:\\Users\\hp\\AppData\\Local\\Temp\\ipykernel_6908\\218226404.py:1: FutureWarning: A value is trying to be set on a copy of a DataFrame or Series through chained assignment using an inplace method.\n",
      "The behavior will change in pandas 3.0. This inplace method will never work because the intermediate object on which we are setting values always behaves as a copy.\n",
      "\n",
      "For example, when doing 'df[col].method(value, inplace=True)', try using 'df.method({col: value}, inplace=True)' or df[col] = df[col].method(value) instead, to perform the operation inplace on the original object.\n",
      "\n",
      "\n",
      "  df['calculated host listings count'].fillna(df['calculated host listings count'].median(),inplace=True)\n"
     ]
    }
   ],
   "source": [
    "df['calculated host listings count'].fillna(df['calculated host listings count'].median(),inplace=True)"
   ]
  },
  {
   "cell_type": "code",
   "execution_count": 151,
   "id": "d9719b9d",
   "metadata": {},
   "outputs": [
    {
     "data": {
      "text/plain": [
       "id                                0\n",
       "NAME                              0\n",
       "host id                           0\n",
       "host_identity_verified            0\n",
       "host name                         0\n",
       "neighbourhood group               0\n",
       "neighbourhood                     0\n",
       "country                           0\n",
       "country code                      0\n",
       "instant_bookable                  0\n",
       "cancellation_policy               0\n",
       "room type                         0\n",
       "Construction year                 0\n",
       "price                             0\n",
       "service fee                       0\n",
       "minimum nights                    0\n",
       "number of reviews                 0\n",
       "last review                       0\n",
       "reviews per month                 0\n",
       "review rate number                0\n",
       "calculated host listings count    0\n",
       "availability 365                  0\n",
       "house_rules                       0\n",
       "dtype: int64"
      ]
     },
     "execution_count": 151,
     "metadata": {},
     "output_type": "execute_result"
    }
   ],
   "source": [
    "df.isnull().sum()"
   ]
  },
  {
   "cell_type": "code",
   "execution_count": 152,
   "id": "f017f535",
   "metadata": {},
   "outputs": [
    {
     "data": {
      "text/plain": [
       "np.int64(541)"
      ]
     },
     "execution_count": 152,
     "metadata": {},
     "output_type": "execute_result"
    }
   ],
   "source": [
    "df.duplicated().sum()"
   ]
  },
  {
   "cell_type": "code",
   "execution_count": 153,
   "id": "c28bac59",
   "metadata": {},
   "outputs": [],
   "source": [
    "df=df.drop_duplicates()"
   ]
  },
  {
   "cell_type": "code",
   "execution_count": 154,
   "id": "d7bb9dcf",
   "metadata": {},
   "outputs": [
    {
     "data": {
      "text/plain": [
       "np.int64(0)"
      ]
     },
     "execution_count": 154,
     "metadata": {},
     "output_type": "execute_result"
    }
   ],
   "source": [
    "df.duplicated().sum()"
   ]
  }
 ],
 "metadata": {
  "kernelspec": {
   "display_name": "Python 3",
   "language": "python",
   "name": "python3"
  },
  "language_info": {
   "codemirror_mode": {
    "name": "ipython",
    "version": 3
   },
   "file_extension": ".py",
   "mimetype": "text/x-python",
   "name": "python",
   "nbconvert_exporter": "python",
   "pygments_lexer": "ipython3",
   "version": "3.13.7"
  }
 },
 "nbformat": 4,
 "nbformat_minor": 5
}
